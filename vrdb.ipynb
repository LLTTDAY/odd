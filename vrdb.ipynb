{
 "cells": [
  {
   "source": [
    "# VRDB Extract: Roll up to Parcel"
   ],
   "cell_type": "markdown",
   "metadata": {}
  },
  {
   "cell_type": "code",
   "execution_count": 15,
   "metadata": {},
   "outputs": [],
   "source": [
    "import pandas as pd\n",
    "import queries"
   ]
  },
  {
   "cell_type": "code",
   "execution_count": 16,
   "metadata": {},
   "outputs": [],
   "source": [
    "pd.options.display.max_columns, pd.options.display.max_rows = 100,100"
   ]
  },
  {
   "cell_type": "code",
   "execution_count": 23,
   "metadata": {},
   "outputs": [],
   "source": [
    "vrdb = pd.read_csv('202010_VRDB_Extract.txt', sep='|', encoding='latin')\n",
    "vhist = pd.read_csv('2019-2020_VotingHistoryExtract.txt', sep='|', encoding='latin')\n",
    "addpoint = pd.read_csv('address_point.csv')\n",
    "b20a = pd.read_csv('ballots20a.csv', encoding='latin')\n",
    "b20b = pd.read_csv('ballots20b.csv', encoding='latin')\n",
    "pres = pd.concat([b20a,b20b])"
   ]
  },
  {
   "cell_type": "code",
   "execution_count": 25,
   "metadata": {},
   "outputs": [],
   "source": [
    "addpoint['CTYNAME'].fillna(addpoint['POSTALCTYNAME'], inplace=True)\n",
    "addpoint['compadd'] = addpoint['COMPRESS_ADDR'].fillna('') + addpoint['CTYNAME'].str.replace(' ','')\n",
    "addpoint = addpoint.groupby('compadd').agg('first').reset_index()"
   ]
  },
  {
   "source": [
    "-----"
   ],
   "cell_type": "markdown",
   "metadata": {}
  },
  {
   "cell_type": "code",
   "execution_count": 30,
   "metadata": {},
   "outputs": [],
   "source": [
    "vhist['voted19'] = 1\n",
    "voted19 = vhist.loc[vhist['ElectionDate'] == '2019-11-05',['StateVoterID','voted19']]\n",
    "pres['voted20'] = 1\n",
    "voted20 = pres[['Voter ID','voted20']]"
   ]
  },
  {
   "cell_type": "code",
   "execution_count": 31,
   "metadata": {},
   "outputs": [],
   "source": [
    "vrdb = pd.merge(vrdb,voted19, how='left', left_on='StateVoterID', right_on='StateVoterID')\n",
    "vrdb = pd.merge(vrdb,voted20, how='left', left_on='StateVoterID', right_on='Voter ID')"
   ]
  },
  {
   "cell_type": "code",
   "execution_count": 34,
   "metadata": {},
   "outputs": [],
   "source": [
    "vrdb['compadd'] = (vrdb.RegStNum.astype(str).fillna('') + vrdb.RegStFrac.fillna('') + vrdb.RegStPreDirection.fillna('') + vrdb.RegStName.fillna('') + vrdb.RegStType.fillna('') + vrdb.RegStPostDirection.fillna('') + vrdb.RegCity.fillna('')).replace(r'\\s+','',regex=True).replace('nan','')"
   ]
  },
  {
   "cell_type": "code",
   "execution_count": 35,
   "metadata": {},
   "outputs": [],
   "source": [
    "kcv = vrdb[(vrdb['CountyCode'] == 'KI') & (vrdb['StatusCode'] == 'Active')].merge(addpoint, how='outer', left_on='compadd', right_on='compadd')"
   ]
  },
  {
   "cell_type": "code",
   "execution_count": 36,
   "metadata": {},
   "outputs": [],
   "source": [
    "kcv['MAJOR'] = kcv['MAJOR'].fillna(0).astype(int).astype(str).str.zfill(6)\n",
    "kcv.loc[~kcv['MINOR'].astype(str).str.isalpha() == True,'MINOR'] = kcv.loc[~kcv['MINOR'].astype(str).str.isalpha() == True,'MINOR'].astype(str).str.zfill(4)"
   ]
  },
  {
   "cell_type": "code",
   "execution_count": 37,
   "metadata": {},
   "outputs": [],
   "source": [
    "kcv['voter_age'] = 2020 - kcv['Birthdate'].astype('datetime64[ns]').apply(lambda x : x.year)\n",
    "kcv['voter_tenure'] = 2020 - kcv['Registrationdate'].astype('datetime64[ns]').apply(lambda x : x.year)\n",
    "kcv['gender'] = kcv['Gender'].replace(['M','F','U','O'],[1,0,0,0])\n",
    "kcv['voters'] = 1"
   ]
  },
  {
   "cell_type": "code",
   "execution_count": 38,
   "metadata": {},
   "outputs": [],
   "source": [
    "kcv['gender'].fillna(0, inplace=True)\n",
    "kcv['gender'] = kcv['gender'].astype(int)"
   ]
  },
  {
   "cell_type": "code",
   "execution_count": 39,
   "metadata": {},
   "outputs": [],
   "source": [
    "parcel_voters = kcv.dropna(subset=['StateVoterID']).groupby(['MAJOR','MINOR']).agg({'RegZipCode' : 'first', 'voter_age' : 'mean','voter_tenure' : 'mean','gender' : 'mean','voters' : 'sum','voted19' : 'sum', 'voted20' : 'sum'}).reset_index()"
   ]
  },
  {
   "cell_type": "code",
   "execution_count": 40,
   "metadata": {},
   "outputs": [],
   "source": [
    "parcel_voters.reset_index().to_pickle('voters')"
   ]
  },
  {
   "cell_type": "code",
   "execution_count": 41,
   "metadata": {},
   "outputs": [],
   "source": [
    "from texter import send\n",
    "send('Exported voters')"
   ]
  },
  {
   "cell_type": "code",
   "execution_count": null,
   "metadata": {},
   "outputs": [],
   "source": []
  }
 ],
 "metadata": {
  "language_info": {
   "codemirror_mode": {
    "name": "ipython",
    "version": 3
   },
   "file_extension": ".py",
   "mimetype": "text/x-python",
   "name": "python",
   "nbconvert_exporter": "python",
   "pygments_lexer": "ipython3",
   "version": "3.7.8-final"
  },
  "orig_nbformat": 2,
  "kernelspec": {
   "name": "python3",
   "display_name": "Python 3"
  }
 },
 "nbformat": 4,
 "nbformat_minor": 2
}