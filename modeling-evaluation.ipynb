{
 "cells": [
  {
   "cell_type": "markdown",
   "metadata": {},
   "source": [
    "# Model Evaluation"
   ]
  },
  {
   "source": [
    "We will look at the six trained models and compare their performance on several different types of aggregation."
   ],
   "cell_type": "markdown",
   "metadata": {}
  },
  {
   "cell_type": "code",
   "execution_count": 1,
   "metadata": {},
   "outputs": [],
   "source": [
    "import pandas as pd\n",
    "import numpy as np\n",
    "from cats import dummify\n",
    "import altair as alt\n",
    "import pickle\n",
    "import re\n",
    "from modeling_functions import aggregate_errors, aggregate_samples, plot_agg_error, aggregate_samples_2, aggregate_errors_2"
   ]
  },
  {
   "cell_type": "code",
   "execution_count": 2,
   "metadata": {},
   "outputs": [],
   "source": [
    "homesf = open('home_votes', 'rb')\n",
    "homes = pickle.load(homesf)\n",
    "homesf.close()\n",
    "test_indicesf = open('split_indeces', 'rb')\n",
    "split_indices = pickle.load(test_indicesf)\n",
    "test_indicesf.close()\n",
    "homes = pd.get_dummies(homes,columns=dummify)\n",
    "extra_cats = [x for x in homes.columns if '_0' in x]\n",
    "homes.drop(columns=extra_cats, inplace=True)"
   ]
  },
  {
   "cell_type": "code",
   "execution_count": 14,
   "metadata": {},
   "outputs": [],
   "source": [
    "dropcols = ['v19pu','v20pu','vpu', 'pin']\n",
    "X_test = homes[~homes.index.isin(split_indices[2])].drop(columns=dropcols)\n",
    "#y_test_rv = homes[~homes.index.isin(split_indices[2])]['vpu']\n",
    "#y_test_19 = homes[~homes.index.isin(split_indices[2])]['v19pu']\n",
    "#y_test_20 = homes[~homes.index.isin(split_indices[2])]['v20pu']\n",
    "y_pred_rv_rf = pd.read_csv('y_rfrv.csv', header=0, names =['U','index','t','p'], index_col=['index']).drop(columns='U')\n",
    "y_pred_rv_19 = pd.read_csv('y_rf19.csv', header=0, names =['U','index','t','p'], index_col=['index']).drop(columns='U')\n",
    "y_pred_rv_20 = pd.read_csv('y_rf20.csv', header=0, names =['U','index','t','p'], index_col=['index']).drop(columns='U')\n",
    "y_pred_nn_rf = pd.read_csv('y_nnrv.csv', header=0, names =['U','index','t','p'], index_col=['index']).drop(columns='U')\n",
    "y_pred_nn_19 = pd.read_csv('y_nn19.csv', header=0, names =['U','index','t','p'], index_col=['index']).drop(columns='U')\n",
    "y_pred_nn_20 = pd.read_csv('y_nn20.csv', header=0, names =['U','index','t','p'], index_col=['index']).drop(columns='U')"
   ]
  },
  {
   "cell_type": "code",
   "execution_count": 16,
   "metadata": {},
   "outputs": [],
   "source": [
    "preds = {\n",
    "    'Random Forest - Registered Voters' : (y_pred_rv_rf['p'], y_pred_rv_rf['t']),\n",
    "    'Neural Network Regression - Registered Voters' : (y_pred_nn_rf['p'], y_pred_nn_rf['t']),\n",
    "    'Random Forest - 2019 Voters' : (y_pred_rv_19['p'], y_pred_rv_19['t']),\n",
    "    'Neural Network Regression - 2019 Voters' : (y_pred_nn_19['p'], y_pred_nn_19['t']),\n",
    "    'Random Forest - 2020 Voters' : (y_pred_rv_20['p'], y_pred_rv_20['t']),\n",
    "    'Neural Network Regression - 2020 Voters' : (y_pred_nn_20['p'], y_pred_nn_20['t'])\n",
    "}"
   ]
  },
  {
   "cell_type": "markdown",
   "metadata": {},
   "source": [
    "## Accuracy by size of sample"
   ]
  },
  {
   "cell_type": "code",
   "execution_count": 7,
   "metadata": {},
   "outputs": [],
   "source": [
    "test_10 = aggregate_samples_2(X_test,100,10)\n",
    "test_100 = aggregate_samples_2(X_test,100,100)\n",
    "test_1k = aggregate_samples_2(X_test,100,1000)\n",
    "test_10k = aggregate_samples_2(X_test,100,10000)\n",
    "test_100k = aggregate_samples_2(X_test,100,100000)"
   ]
  },
  {
   "cell_type": "code",
   "execution_count": 17,
   "metadata": {},
   "outputs": [
    {
     "output_type": "stream",
     "name": "stdout",
     "text": [
      "Random Forest - Registered Voters\n"
     ]
    },
    {
     "output_type": "display_data",
     "data": {
      "text/plain": "   Sample Size      RMSE\n0           10  0.122837\n1          100  0.040361\n2         1000  0.017542\n3        10000  0.005498\n4       100000  0.002276",
      "text/html": "<div>\n<style scoped>\n    .dataframe tbody tr th:only-of-type {\n        vertical-align: middle;\n    }\n\n    .dataframe tbody tr th {\n        vertical-align: top;\n    }\n\n    .dataframe thead th {\n        text-align: right;\n    }\n</style>\n<table border=\"1\" class=\"dataframe\">\n  <thead>\n    <tr style=\"text-align: right;\">\n      <th></th>\n      <th>Sample Size</th>\n      <th>RMSE</th>\n    </tr>\n  </thead>\n  <tbody>\n    <tr>\n      <th>0</th>\n      <td>10</td>\n      <td>0.122837</td>\n    </tr>\n    <tr>\n      <th>1</th>\n      <td>100</td>\n      <td>0.040361</td>\n    </tr>\n    <tr>\n      <th>2</th>\n      <td>1000</td>\n      <td>0.017542</td>\n    </tr>\n    <tr>\n      <th>3</th>\n      <td>10000</td>\n      <td>0.005498</td>\n    </tr>\n    <tr>\n      <th>4</th>\n      <td>100000</td>\n      <td>0.002276</td>\n    </tr>\n  </tbody>\n</table>\n</div>"
     },
     "metadata": {}
    },
    {
     "output_type": "stream",
     "name": "stdout",
     "text": [
      "Neural Network Regression - Registered Voters\n"
     ]
    },
    {
     "output_type": "display_data",
     "data": {
      "text/plain": "   Sample Size      RMSE\n0           10  0.163421\n1          100  0.066022\n2         1000  0.026482\n3        10000  0.017696\n4       100000  0.016228",
      "text/html": "<div>\n<style scoped>\n    .dataframe tbody tr th:only-of-type {\n        vertical-align: middle;\n    }\n\n    .dataframe tbody tr th {\n        vertical-align: top;\n    }\n\n    .dataframe thead th {\n        text-align: right;\n    }\n</style>\n<table border=\"1\" class=\"dataframe\">\n  <thead>\n    <tr style=\"text-align: right;\">\n      <th></th>\n      <th>Sample Size</th>\n      <th>RMSE</th>\n    </tr>\n  </thead>\n  <tbody>\n    <tr>\n      <th>0</th>\n      <td>10</td>\n      <td>0.163421</td>\n    </tr>\n    <tr>\n      <th>1</th>\n      <td>100</td>\n      <td>0.066022</td>\n    </tr>\n    <tr>\n      <th>2</th>\n      <td>1000</td>\n      <td>0.026482</td>\n    </tr>\n    <tr>\n      <th>3</th>\n      <td>10000</td>\n      <td>0.017696</td>\n    </tr>\n    <tr>\n      <th>4</th>\n      <td>100000</td>\n      <td>0.016228</td>\n    </tr>\n  </tbody>\n</table>\n</div>"
     },
     "metadata": {}
    },
    {
     "output_type": "stream",
     "name": "stdout",
     "text": [
      "Random Forest - 2019 Voters\n"
     ]
    },
    {
     "output_type": "display_data",
     "data": {
      "text/plain": "   Sample Size      RMSE\n0           10  0.776427\n1          100  0.106477\n2         1000  0.031964\n3        10000  0.010648\n4       100000  0.005407",
      "text/html": "<div>\n<style scoped>\n    .dataframe tbody tr th:only-of-type {\n        vertical-align: middle;\n    }\n\n    .dataframe tbody tr th {\n        vertical-align: top;\n    }\n\n    .dataframe thead th {\n        text-align: right;\n    }\n</style>\n<table border=\"1\" class=\"dataframe\">\n  <thead>\n    <tr style=\"text-align: right;\">\n      <th></th>\n      <th>Sample Size</th>\n      <th>RMSE</th>\n    </tr>\n  </thead>\n  <tbody>\n    <tr>\n      <th>0</th>\n      <td>10</td>\n      <td>0.776427</td>\n    </tr>\n    <tr>\n      <th>1</th>\n      <td>100</td>\n      <td>0.106477</td>\n    </tr>\n    <tr>\n      <th>2</th>\n      <td>1000</td>\n      <td>0.031964</td>\n    </tr>\n    <tr>\n      <th>3</th>\n      <td>10000</td>\n      <td>0.010648</td>\n    </tr>\n    <tr>\n      <th>4</th>\n      <td>100000</td>\n      <td>0.005407</td>\n    </tr>\n  </tbody>\n</table>\n</div>"
     },
     "metadata": {}
    },
    {
     "output_type": "stream",
     "name": "stdout",
     "text": [
      "Neural Network Regression - 2019 Voters\n"
     ]
    },
    {
     "output_type": "display_data",
     "data": {
      "text/plain": "   Sample Size      RMSE\n0           10  0.810373\n1          100  0.103831\n2         1000  0.036766\n3        10000  0.017788\n4       100000  0.011457",
      "text/html": "<div>\n<style scoped>\n    .dataframe tbody tr th:only-of-type {\n        vertical-align: middle;\n    }\n\n    .dataframe tbody tr th {\n        vertical-align: top;\n    }\n\n    .dataframe thead th {\n        text-align: right;\n    }\n</style>\n<table border=\"1\" class=\"dataframe\">\n  <thead>\n    <tr style=\"text-align: right;\">\n      <th></th>\n      <th>Sample Size</th>\n      <th>RMSE</th>\n    </tr>\n  </thead>\n  <tbody>\n    <tr>\n      <th>0</th>\n      <td>10</td>\n      <td>0.810373</td>\n    </tr>\n    <tr>\n      <th>1</th>\n      <td>100</td>\n      <td>0.103831</td>\n    </tr>\n    <tr>\n      <th>2</th>\n      <td>1000</td>\n      <td>0.036766</td>\n    </tr>\n    <tr>\n      <th>3</th>\n      <td>10000</td>\n      <td>0.017788</td>\n    </tr>\n    <tr>\n      <th>4</th>\n      <td>100000</td>\n      <td>0.011457</td>\n    </tr>\n  </tbody>\n</table>\n</div>"
     },
     "metadata": {}
    },
    {
     "output_type": "stream",
     "name": "stdout",
     "text": [
      "Random Forest - 2020 Voters\n"
     ]
    },
    {
     "output_type": "display_data",
     "data": {
      "text/plain": "   Sample Size      RMSE\n0           10  0.195815\n1          100  0.054724\n2         1000  0.019983\n3        10000  0.005612\n4       100000  0.002230",
      "text/html": "<div>\n<style scoped>\n    .dataframe tbody tr th:only-of-type {\n        vertical-align: middle;\n    }\n\n    .dataframe tbody tr th {\n        vertical-align: top;\n    }\n\n    .dataframe thead th {\n        text-align: right;\n    }\n</style>\n<table border=\"1\" class=\"dataframe\">\n  <thead>\n    <tr style=\"text-align: right;\">\n      <th></th>\n      <th>Sample Size</th>\n      <th>RMSE</th>\n    </tr>\n  </thead>\n  <tbody>\n    <tr>\n      <th>0</th>\n      <td>10</td>\n      <td>0.195815</td>\n    </tr>\n    <tr>\n      <th>1</th>\n      <td>100</td>\n      <td>0.054724</td>\n    </tr>\n    <tr>\n      <th>2</th>\n      <td>1000</td>\n      <td>0.019983</td>\n    </tr>\n    <tr>\n      <th>3</th>\n      <td>10000</td>\n      <td>0.005612</td>\n    </tr>\n    <tr>\n      <th>4</th>\n      <td>100000</td>\n      <td>0.002230</td>\n    </tr>\n  </tbody>\n</table>\n</div>"
     },
     "metadata": {}
    },
    {
     "output_type": "stream",
     "name": "stdout",
     "text": [
      "Neural Network Regression - 2020 Voters\n"
     ]
    },
    {
     "output_type": "display_data",
     "data": {
      "text/plain": "   Sample Size      RMSE\n0           10  0.192054\n1          100  0.075312\n2         1000  0.027421\n3        10000  0.017058\n4       100000  0.015355",
      "text/html": "<div>\n<style scoped>\n    .dataframe tbody tr th:only-of-type {\n        vertical-align: middle;\n    }\n\n    .dataframe tbody tr th {\n        vertical-align: top;\n    }\n\n    .dataframe thead th {\n        text-align: right;\n    }\n</style>\n<table border=\"1\" class=\"dataframe\">\n  <thead>\n    <tr style=\"text-align: right;\">\n      <th></th>\n      <th>Sample Size</th>\n      <th>RMSE</th>\n    </tr>\n  </thead>\n  <tbody>\n    <tr>\n      <th>0</th>\n      <td>10</td>\n      <td>0.192054</td>\n    </tr>\n    <tr>\n      <th>1</th>\n      <td>100</td>\n      <td>0.075312</td>\n    </tr>\n    <tr>\n      <th>2</th>\n      <td>1000</td>\n      <td>0.027421</td>\n    </tr>\n    <tr>\n      <th>3</th>\n      <td>10000</td>\n      <td>0.017058</td>\n    </tr>\n    <tr>\n      <th>4</th>\n      <td>100000</td>\n      <td>0.015355</td>\n    </tr>\n  </tbody>\n</table>\n</div>"
     },
     "metadata": {}
    }
   ],
   "source": [
    "for key, val in preds.items():\n",
    "    print(key)\n",
    "    groups =[]\n",
    "    for test in [test_10, test_100, test_1k, test_10k, test_100k]:\n",
    "        tr = aggregate_errors_2(val[0], val[1], test)\n",
    "        groups.append((len(test[0]), np.sqrt((tr['Error'] * tr['Error']).mean())))\n",
    "    group_error = pd.DataFrame(groups, columns=['Sample Size','RMSE'])\n",
    "    display(group_error)\n"
   ]
  },
  {
   "cell_type": "markdown",
   "metadata": {},
   "source": [
    "## Accuracy by City"
   ]
  },
  {
   "cell_type": "code",
   "execution_count": 9,
   "metadata": {},
   "outputs": [],
   "source": [
    "city_cols = [string for string in homes.columns if 'districtname_' in string]\n",
    "city_index = { city : homes[homes[city] == 1].index for city in city_cols}"
   ]
  },
  {
   "cell_type": "code",
   "execution_count": 18,
   "metadata": {},
   "outputs": [
    {
     "output_type": "stream",
     "name": "stdout",
     "text": [
      "Random Forest - Registered Voters\n"
     ]
    },
    {
     "output_type": "display_data",
     "data": {
      "text/plain": "                           Sample         Actual      Predicted      RMSE\n7          districtname_CARNATION     367.235348     366.942134  0.000798\n30            districtname_RENTON   15214.029777   15189.021769  0.001644\n18       districtname_KING COUNTY   43338.093210   43410.856537  0.001679\n32           districtname_SEATTLE  117660.377956  117931.205773  0.002302\n20  districtname_LAKE FOREST PARK    2818.081137    2828.401342  0.003662\n31         districtname_SAMMAMISH   10413.883640   10366.972720  0.004505\n23     districtname_MERCER ISLAND    4986.869272    5013.349436  0.005310\n16           districtname_KENMORE    3830.028931    3807.905823  0.005776\n3           districtname_BELLEVUE   22154.998328   22008.279007  0.006622\n28           districtname_PACIFIC     818.021629     812.339662  0.006946\n17              districtname_KENT   17653.437450   17524.540537  0.007302\n13       districtname_FEDERAL WAY   13124.239556   13222.013412  0.007450\n37           districtname_TUKWILA    2717.066234    2696.822890  0.007450\n6             districtname_BURIEN    7972.404420    8032.801030  0.007576\n11            districtname_DUVALL    1340.804945    1351.549137  0.008013\n4      districtname_BLACK DIAMOND     801.534553     794.437816  0.008854\n9          districtname_COVINGTON    3363.098342    3393.159707  0.008939\n27        districtname_NORTH BEND    1311.008432    1323.100299  0.009223\n1             districtname_AUBURN    9440.748720    9529.114135  0.009360\n29           districtname_REDMOND    8254.162987    8337.694506  0.010120\n5            districtname_BOTHELL    4154.608990    4111.267882  0.010432\n14       districtname_HUNTS POINT     115.500000     116.833673  0.011547\n36            districtname_SeaTac    3418.553433    3377.489913  0.012012\n19          districtname_KIRKLAND   15156.363095   15356.655037  0.013215\n33         districtname_SHORELINE   10249.499559   10102.356370  0.014356\n38       districtname_WOODINVILLE    2302.705464    2336.638091  0.014736\n12          districtname_ENUMCLAW    2004.419345    1973.399879  0.015476\n10        districtname_DES MOINES    4859.366305    4935.506285  0.015669\n21      districtname_MAPLE VALLEY    4588.157993    4663.391609  0.016397\n24            districtname_MILTON     133.395802     135.819301  0.018168\n15          districtname_ISSAQUAH    6459.950499    6340.575220  0.018479\n39      districtname_YARROW POINT     242.500000     247.009256  0.018595\n35        districtname_SNOQUALMIE    2204.420529    2246.250018  0.018975\n25         districtname_NEWCASTLE    1688.945482    1731.066963  0.024940\n2         districtname_BEAUX ARTS      55.000000      53.571205  0.025978\n26     districtname_NORMANDY PARK     835.353154     862.326796  0.032290\n22            districtname_MEDINA     622.500000     644.613807  0.035524\n0             districtname_ALGONA     397.833333     412.971606  0.038052\n8         districtname_CLYDE HILL     537.000000     566.332712  0.054623\n34         districtname_SKYKOMISH      25.250000      28.981903  0.147798",
      "text/html": "<div>\n<style scoped>\n    .dataframe tbody tr th:only-of-type {\n        vertical-align: middle;\n    }\n\n    .dataframe tbody tr th {\n        vertical-align: top;\n    }\n\n    .dataframe thead th {\n        text-align: right;\n    }\n</style>\n<table border=\"1\" class=\"dataframe\">\n  <thead>\n    <tr style=\"text-align: right;\">\n      <th></th>\n      <th>Sample</th>\n      <th>Actual</th>\n      <th>Predicted</th>\n      <th>RMSE</th>\n    </tr>\n  </thead>\n  <tbody>\n    <tr>\n      <th>7</th>\n      <td>districtname_CARNATION</td>\n      <td>367.235348</td>\n      <td>366.942134</td>\n      <td>0.000798</td>\n    </tr>\n    <tr>\n      <th>30</th>\n      <td>districtname_RENTON</td>\n      <td>15214.029777</td>\n      <td>15189.021769</td>\n      <td>0.001644</td>\n    </tr>\n    <tr>\n      <th>18</th>\n      <td>districtname_KING COUNTY</td>\n      <td>43338.093210</td>\n      <td>43410.856537</td>\n      <td>0.001679</td>\n    </tr>\n    <tr>\n      <th>32</th>\n      <td>districtname_SEATTLE</td>\n      <td>117660.377956</td>\n      <td>117931.205773</td>\n      <td>0.002302</td>\n    </tr>\n    <tr>\n      <th>20</th>\n      <td>districtname_LAKE FOREST PARK</td>\n      <td>2818.081137</td>\n      <td>2828.401342</td>\n      <td>0.003662</td>\n    </tr>\n    <tr>\n      <th>31</th>\n      <td>districtname_SAMMAMISH</td>\n      <td>10413.883640</td>\n      <td>10366.972720</td>\n      <td>0.004505</td>\n    </tr>\n    <tr>\n      <th>23</th>\n      <td>districtname_MERCER ISLAND</td>\n      <td>4986.869272</td>\n      <td>5013.349436</td>\n      <td>0.005310</td>\n    </tr>\n    <tr>\n      <th>16</th>\n      <td>districtname_KENMORE</td>\n      <td>3830.028931</td>\n      <td>3807.905823</td>\n      <td>0.005776</td>\n    </tr>\n    <tr>\n      <th>3</th>\n      <td>districtname_BELLEVUE</td>\n      <td>22154.998328</td>\n      <td>22008.279007</td>\n      <td>0.006622</td>\n    </tr>\n    <tr>\n      <th>28</th>\n      <td>districtname_PACIFIC</td>\n      <td>818.021629</td>\n      <td>812.339662</td>\n      <td>0.006946</td>\n    </tr>\n    <tr>\n      <th>17</th>\n      <td>districtname_KENT</td>\n      <td>17653.437450</td>\n      <td>17524.540537</td>\n      <td>0.007302</td>\n    </tr>\n    <tr>\n      <th>13</th>\n      <td>districtname_FEDERAL WAY</td>\n      <td>13124.239556</td>\n      <td>13222.013412</td>\n      <td>0.007450</td>\n    </tr>\n    <tr>\n      <th>37</th>\n      <td>districtname_TUKWILA</td>\n      <td>2717.066234</td>\n      <td>2696.822890</td>\n      <td>0.007450</td>\n    </tr>\n    <tr>\n      <th>6</th>\n      <td>districtname_BURIEN</td>\n      <td>7972.404420</td>\n      <td>8032.801030</td>\n      <td>0.007576</td>\n    </tr>\n    <tr>\n      <th>11</th>\n      <td>districtname_DUVALL</td>\n      <td>1340.804945</td>\n      <td>1351.549137</td>\n      <td>0.008013</td>\n    </tr>\n    <tr>\n      <th>4</th>\n      <td>districtname_BLACK DIAMOND</td>\n      <td>801.534553</td>\n      <td>794.437816</td>\n      <td>0.008854</td>\n    </tr>\n    <tr>\n      <th>9</th>\n      <td>districtname_COVINGTON</td>\n      <td>3363.098342</td>\n      <td>3393.159707</td>\n      <td>0.008939</td>\n    </tr>\n    <tr>\n      <th>27</th>\n      <td>districtname_NORTH BEND</td>\n      <td>1311.008432</td>\n      <td>1323.100299</td>\n      <td>0.009223</td>\n    </tr>\n    <tr>\n      <th>1</th>\n      <td>districtname_AUBURN</td>\n      <td>9440.748720</td>\n      <td>9529.114135</td>\n      <td>0.009360</td>\n    </tr>\n    <tr>\n      <th>29</th>\n      <td>districtname_REDMOND</td>\n      <td>8254.162987</td>\n      <td>8337.694506</td>\n      <td>0.010120</td>\n    </tr>\n    <tr>\n      <th>5</th>\n      <td>districtname_BOTHELL</td>\n      <td>4154.608990</td>\n      <td>4111.267882</td>\n      <td>0.010432</td>\n    </tr>\n    <tr>\n      <th>14</th>\n      <td>districtname_HUNTS POINT</td>\n      <td>115.500000</td>\n      <td>116.833673</td>\n      <td>0.011547</td>\n    </tr>\n    <tr>\n      <th>36</th>\n      <td>districtname_SeaTac</td>\n      <td>3418.553433</td>\n      <td>3377.489913</td>\n      <td>0.012012</td>\n    </tr>\n    <tr>\n      <th>19</th>\n      <td>districtname_KIRKLAND</td>\n      <td>15156.363095</td>\n      <td>15356.655037</td>\n      <td>0.013215</td>\n    </tr>\n    <tr>\n      <th>33</th>\n      <td>districtname_SHORELINE</td>\n      <td>10249.499559</td>\n      <td>10102.356370</td>\n      <td>0.014356</td>\n    </tr>\n    <tr>\n      <th>38</th>\n      <td>districtname_WOODINVILLE</td>\n      <td>2302.705464</td>\n      <td>2336.638091</td>\n      <td>0.014736</td>\n    </tr>\n    <tr>\n      <th>12</th>\n      <td>districtname_ENUMCLAW</td>\n      <td>2004.419345</td>\n      <td>1973.399879</td>\n      <td>0.015476</td>\n    </tr>\n    <tr>\n      <th>10</th>\n      <td>districtname_DES MOINES</td>\n      <td>4859.366305</td>\n      <td>4935.506285</td>\n      <td>0.015669</td>\n    </tr>\n    <tr>\n      <th>21</th>\n      <td>districtname_MAPLE VALLEY</td>\n      <td>4588.157993</td>\n      <td>4663.391609</td>\n      <td>0.016397</td>\n    </tr>\n    <tr>\n      <th>24</th>\n      <td>districtname_MILTON</td>\n      <td>133.395802</td>\n      <td>135.819301</td>\n      <td>0.018168</td>\n    </tr>\n    <tr>\n      <th>15</th>\n      <td>districtname_ISSAQUAH</td>\n      <td>6459.950499</td>\n      <td>6340.575220</td>\n      <td>0.018479</td>\n    </tr>\n    <tr>\n      <th>39</th>\n      <td>districtname_YARROW POINT</td>\n      <td>242.500000</td>\n      <td>247.009256</td>\n      <td>0.018595</td>\n    </tr>\n    <tr>\n      <th>35</th>\n      <td>districtname_SNOQUALMIE</td>\n      <td>2204.420529</td>\n      <td>2246.250018</td>\n      <td>0.018975</td>\n    </tr>\n    <tr>\n      <th>25</th>\n      <td>districtname_NEWCASTLE</td>\n      <td>1688.945482</td>\n      <td>1731.066963</td>\n      <td>0.024940</td>\n    </tr>\n    <tr>\n      <th>2</th>\n      <td>districtname_BEAUX ARTS</td>\n      <td>55.000000</td>\n      <td>53.571205</td>\n      <td>0.025978</td>\n    </tr>\n    <tr>\n      <th>26</th>\n      <td>districtname_NORMANDY PARK</td>\n      <td>835.353154</td>\n      <td>862.326796</td>\n      <td>0.032290</td>\n    </tr>\n    <tr>\n      <th>22</th>\n      <td>districtname_MEDINA</td>\n      <td>622.500000</td>\n      <td>644.613807</td>\n      <td>0.035524</td>\n    </tr>\n    <tr>\n      <th>0</th>\n      <td>districtname_ALGONA</td>\n      <td>397.833333</td>\n      <td>412.971606</td>\n      <td>0.038052</td>\n    </tr>\n    <tr>\n      <th>8</th>\n      <td>districtname_CLYDE HILL</td>\n      <td>537.000000</td>\n      <td>566.332712</td>\n      <td>0.054623</td>\n    </tr>\n    <tr>\n      <th>34</th>\n      <td>districtname_SKYKOMISH</td>\n      <td>25.250000</td>\n      <td>28.981903</td>\n      <td>0.147798</td>\n    </tr>\n  </tbody>\n</table>\n</div>"
     },
     "metadata": {}
    },
    {
     "output_type": "stream",
     "name": "stdout",
     "text": [
      "Neural Network Regression - Registered Voters\n"
     ]
    },
    {
     "output_type": "display_data",
     "data": {
      "text/plain": "                           Sample         Actual      Predicted      RMSE\n31         districtname_SAMMAMISH   10413.883640   10407.696229  0.000594\n19          districtname_KIRKLAND   15156.363095   15092.915179  0.004186\n23     districtname_MERCER ISLAND    4986.869272    5010.143990  0.004667\n12          districtname_ENUMCLAW    2004.419345    2014.555660  0.005057\n33         districtname_SHORELINE   10249.499559   10302.164995  0.005138\n38       districtname_WOODINVILLE    2302.705464    2321.474663  0.008151\n15          districtname_ISSAQUAH    6459.950499    6403.245662  0.008778\n11            districtname_DUVALL    1340.804945    1326.107749  0.010961\n26     districtname_NORMANDY PARK     835.353154     845.113666  0.011684\n32           districtname_SEATTLE  117660.377956  115759.012956  0.016160\n20  districtname_LAKE FOREST PARK    2818.081137    2877.494611  0.021083\n1             districtname_AUBURN    9440.748720    9236.761659  0.021607\n10        districtname_DES MOINES    4859.366305    4753.518673  0.021782\n13       districtname_FEDERAL WAY   13124.239556   12828.286018  0.022550\n8         districtname_CLYDE HILL     537.000000     524.818251  0.022685\n18       districtname_KING COUNTY   43338.093210   44327.388453  0.022827\n25         districtname_NEWCASTLE    1688.945482    1650.149134  0.022971\n22            districtname_MEDINA     622.500000     606.659951  0.025446\n21      districtname_MAPLE VALLEY    4588.157993    4459.604673  0.028019\n6             districtname_BURIEN    7972.404420    7705.906467  0.033428\n37           districtname_TUKWILA    2717.066234    2616.832078  0.036891\n9          districtname_COVINGTON    3363.098342    3492.511255  0.038480\n28           districtname_PACIFIC     818.021629     784.805549  0.040605\n3           districtname_BELLEVUE   22154.998328   21254.085471  0.040664\n16           districtname_KENMORE    3830.028931    3650.346022  0.046914\n30            districtname_RENTON   15214.029777   14490.531844  0.047555\n35        districtname_SNOQUALMIE    2204.420529    2310.406458  0.048079\n17              districtname_KENT   17653.437450   16797.199403  0.048503\n39      districtname_YARROW POINT     242.500000     255.376136  0.053097\n4      districtname_BLACK DIAMOND     801.534553     845.508705  0.054862\n27        districtname_NORTH BEND    1311.008432    1224.210694  0.066207\n14       districtname_HUNTS POINT     115.500000     123.652871  0.070588\n36            districtname_SeaTac    3418.553433    3172.238085  0.072053\n7          districtname_CARNATION     367.235348     394.914228  0.075371\n5            districtname_BOTHELL    4154.608990    3807.840069  0.083466\n29           districtname_REDMOND    8254.162987    7548.292743  0.085517\n0             districtname_ALGONA     397.833333     450.572113  0.132565\n2         districtname_BEAUX ARTS      55.000000      47.616602  0.134244\n24            districtname_MILTON     133.395802     101.692790  0.237661\n34         districtname_SKYKOMISH      25.250000      86.575640  2.428738",
      "text/html": "<div>\n<style scoped>\n    .dataframe tbody tr th:only-of-type {\n        vertical-align: middle;\n    }\n\n    .dataframe tbody tr th {\n        vertical-align: top;\n    }\n\n    .dataframe thead th {\n        text-align: right;\n    }\n</style>\n<table border=\"1\" class=\"dataframe\">\n  <thead>\n    <tr style=\"text-align: right;\">\n      <th></th>\n      <th>Sample</th>\n      <th>Actual</th>\n      <th>Predicted</th>\n      <th>RMSE</th>\n    </tr>\n  </thead>\n  <tbody>\n    <tr>\n      <th>31</th>\n      <td>districtname_SAMMAMISH</td>\n      <td>10413.883640</td>\n      <td>10407.696229</td>\n      <td>0.000594</td>\n    </tr>\n    <tr>\n      <th>19</th>\n      <td>districtname_KIRKLAND</td>\n      <td>15156.363095</td>\n      <td>15092.915179</td>\n      <td>0.004186</td>\n    </tr>\n    <tr>\n      <th>23</th>\n      <td>districtname_MERCER ISLAND</td>\n      <td>4986.869272</td>\n      <td>5010.143990</td>\n      <td>0.004667</td>\n    </tr>\n    <tr>\n      <th>12</th>\n      <td>districtname_ENUMCLAW</td>\n      <td>2004.419345</td>\n      <td>2014.555660</td>\n      <td>0.005057</td>\n    </tr>\n    <tr>\n      <th>33</th>\n      <td>districtname_SHORELINE</td>\n      <td>10249.499559</td>\n      <td>10302.164995</td>\n      <td>0.005138</td>\n    </tr>\n    <tr>\n      <th>38</th>\n      <td>districtname_WOODINVILLE</td>\n      <td>2302.705464</td>\n      <td>2321.474663</td>\n      <td>0.008151</td>\n    </tr>\n    <tr>\n      <th>15</th>\n      <td>districtname_ISSAQUAH</td>\n      <td>6459.950499</td>\n      <td>6403.245662</td>\n      <td>0.008778</td>\n    </tr>\n    <tr>\n      <th>11</th>\n      <td>districtname_DUVALL</td>\n      <td>1340.804945</td>\n      <td>1326.107749</td>\n      <td>0.010961</td>\n    </tr>\n    <tr>\n      <th>26</th>\n      <td>districtname_NORMANDY PARK</td>\n      <td>835.353154</td>\n      <td>845.113666</td>\n      <td>0.011684</td>\n    </tr>\n    <tr>\n      <th>32</th>\n      <td>districtname_SEATTLE</td>\n      <td>117660.377956</td>\n      <td>115759.012956</td>\n      <td>0.016160</td>\n    </tr>\n    <tr>\n      <th>20</th>\n      <td>districtname_LAKE FOREST PARK</td>\n      <td>2818.081137</td>\n      <td>2877.494611</td>\n      <td>0.021083</td>\n    </tr>\n    <tr>\n      <th>1</th>\n      <td>districtname_AUBURN</td>\n      <td>9440.748720</td>\n      <td>9236.761659</td>\n      <td>0.021607</td>\n    </tr>\n    <tr>\n      <th>10</th>\n      <td>districtname_DES MOINES</td>\n      <td>4859.366305</td>\n      <td>4753.518673</td>\n      <td>0.021782</td>\n    </tr>\n    <tr>\n      <th>13</th>\n      <td>districtname_FEDERAL WAY</td>\n      <td>13124.239556</td>\n      <td>12828.286018</td>\n      <td>0.022550</td>\n    </tr>\n    <tr>\n      <th>8</th>\n      <td>districtname_CLYDE HILL</td>\n      <td>537.000000</td>\n      <td>524.818251</td>\n      <td>0.022685</td>\n    </tr>\n    <tr>\n      <th>18</th>\n      <td>districtname_KING COUNTY</td>\n      <td>43338.093210</td>\n      <td>44327.388453</td>\n      <td>0.022827</td>\n    </tr>\n    <tr>\n      <th>25</th>\n      <td>districtname_NEWCASTLE</td>\n      <td>1688.945482</td>\n      <td>1650.149134</td>\n      <td>0.022971</td>\n    </tr>\n    <tr>\n      <th>22</th>\n      <td>districtname_MEDINA</td>\n      <td>622.500000</td>\n      <td>606.659951</td>\n      <td>0.025446</td>\n    </tr>\n    <tr>\n      <th>21</th>\n      <td>districtname_MAPLE VALLEY</td>\n      <td>4588.157993</td>\n      <td>4459.604673</td>\n      <td>0.028019</td>\n    </tr>\n    <tr>\n      <th>6</th>\n      <td>districtname_BURIEN</td>\n      <td>7972.404420</td>\n      <td>7705.906467</td>\n      <td>0.033428</td>\n    </tr>\n    <tr>\n      <th>37</th>\n      <td>districtname_TUKWILA</td>\n      <td>2717.066234</td>\n      <td>2616.832078</td>\n      <td>0.036891</td>\n    </tr>\n    <tr>\n      <th>9</th>\n      <td>districtname_COVINGTON</td>\n      <td>3363.098342</td>\n      <td>3492.511255</td>\n      <td>0.038480</td>\n    </tr>\n    <tr>\n      <th>28</th>\n      <td>districtname_PACIFIC</td>\n      <td>818.021629</td>\n      <td>784.805549</td>\n      <td>0.040605</td>\n    </tr>\n    <tr>\n      <th>3</th>\n      <td>districtname_BELLEVUE</td>\n      <td>22154.998328</td>\n      <td>21254.085471</td>\n      <td>0.040664</td>\n    </tr>\n    <tr>\n      <th>16</th>\n      <td>districtname_KENMORE</td>\n      <td>3830.028931</td>\n      <td>3650.346022</td>\n      <td>0.046914</td>\n    </tr>\n    <tr>\n      <th>30</th>\n      <td>districtname_RENTON</td>\n      <td>15214.029777</td>\n      <td>14490.531844</td>\n      <td>0.047555</td>\n    </tr>\n    <tr>\n      <th>35</th>\n      <td>districtname_SNOQUALMIE</td>\n      <td>2204.420529</td>\n      <td>2310.406458</td>\n      <td>0.048079</td>\n    </tr>\n    <tr>\n      <th>17</th>\n      <td>districtname_KENT</td>\n      <td>17653.437450</td>\n      <td>16797.199403</td>\n      <td>0.048503</td>\n    </tr>\n    <tr>\n      <th>39</th>\n      <td>districtname_YARROW POINT</td>\n      <td>242.500000</td>\n      <td>255.376136</td>\n      <td>0.053097</td>\n    </tr>\n    <tr>\n      <th>4</th>\n      <td>districtname_BLACK DIAMOND</td>\n      <td>801.534553</td>\n      <td>845.508705</td>\n      <td>0.054862</td>\n    </tr>\n    <tr>\n      <th>27</th>\n      <td>districtname_NORTH BEND</td>\n      <td>1311.008432</td>\n      <td>1224.210694</td>\n      <td>0.066207</td>\n    </tr>\n    <tr>\n      <th>14</th>\n      <td>districtname_HUNTS POINT</td>\n      <td>115.500000</td>\n      <td>123.652871</td>\n      <td>0.070588</td>\n    </tr>\n    <tr>\n      <th>36</th>\n      <td>districtname_SeaTac</td>\n      <td>3418.553433</td>\n      <td>3172.238085</td>\n      <td>0.072053</td>\n    </tr>\n    <tr>\n      <th>7</th>\n      <td>districtname_CARNATION</td>\n      <td>367.235348</td>\n      <td>394.914228</td>\n      <td>0.075371</td>\n    </tr>\n    <tr>\n      <th>5</th>\n      <td>districtname_BOTHELL</td>\n      <td>4154.608990</td>\n      <td>3807.840069</td>\n      <td>0.083466</td>\n    </tr>\n    <tr>\n      <th>29</th>\n      <td>districtname_REDMOND</td>\n      <td>8254.162987</td>\n      <td>7548.292743</td>\n      <td>0.085517</td>\n    </tr>\n    <tr>\n      <th>0</th>\n      <td>districtname_ALGONA</td>\n      <td>397.833333</td>\n      <td>450.572113</td>\n      <td>0.132565</td>\n    </tr>\n    <tr>\n      <th>2</th>\n      <td>districtname_BEAUX ARTS</td>\n      <td>55.000000</td>\n      <td>47.616602</td>\n      <td>0.134244</td>\n    </tr>\n    <tr>\n      <th>24</th>\n      <td>districtname_MILTON</td>\n      <td>133.395802</td>\n      <td>101.692790</td>\n      <td>0.237661</td>\n    </tr>\n    <tr>\n      <th>34</th>\n      <td>districtname_SKYKOMISH</td>\n      <td>25.250000</td>\n      <td>86.575640</td>\n      <td>2.428738</td>\n    </tr>\n  </tbody>\n</table>\n</div>"
     },
     "metadata": {}
    },
    {
     "output_type": "stream",
     "name": "stdout",
     "text": [
      "Random Forest - 2019 Voters\n"
     ]
    },
    {
     "output_type": "display_data",
     "data": {
      "text/plain": "                           Sample        Actual     Predicted      RMSE\n33         districtname_SHORELINE   4548.921839   4549.935825  0.000223\n38       districtname_WOODINVILLE    976.536613    975.506930  0.001054\n32           districtname_SEATTLE  56482.047883  56580.891547  0.001750\n29           districtname_REDMOND   3232.732934   3240.216242  0.002315\n26     districtname_NORMANDY PARK    453.601620    452.444555  0.002551\n10        districtname_DES MOINES   1911.233648   1917.138271  0.003089\n21      districtname_MAPLE VALLEY   1747.375839   1753.474225  0.003490\n9          districtname_COVINGTON   1201.133809   1193.875291  0.006043\n17              districtname_KENT   5741.093306   5697.725671  0.007554\n36            districtname_SeaTac   1149.971809   1158.797400  0.007675\n11            districtname_DUVALL    570.528205    565.617499  0.008607\n16           districtname_KENMORE   1627.830803   1644.414915  0.010188\n15          districtname_ISSAQUAH   2496.423501   2523.322833  0.010775\n13       districtname_FEDERAL WAY   4447.582351   4501.667841  0.012161\n6             districtname_BURIEN   3170.886958   3209.990964  0.012332\n30            districtname_RENTON   5217.051728   5291.711626  0.014311\n18       districtname_KING COUNTY  18490.482467  18865.474557  0.020280\n3           districtname_BELLEVUE   8610.241836   8829.153562  0.025425\n31         districtname_SAMMAMISH   4787.153399   4631.408519  0.032534\n27        districtname_NORTH BEND    559.546428    540.302102  0.034393\n5            districtname_BOTHELL   1695.825368   1636.438351  0.035020\n19          districtname_KIRKLAND   5981.901049   6202.310240  0.036846\n4      districtname_BLACK DIAMOND    323.723577    311.308292  0.038352\n0             districtname_ALGONA    119.250000    124.184163  0.041377\n1             districtname_AUBURN   2916.370787   3044.805158  0.044039\n2         districtname_BEAUX ARTS     23.000000     24.077968  0.046868\n12          districtname_ENUMCLAW    728.771333    694.587775  0.046906\n23     districtname_MERCER ISLAND   2617.396594   2490.604212  0.048442\n25         districtname_NEWCASTLE    642.951204    675.255797  0.050244\n37           districtname_TUKWILA    886.319866    841.587005  0.050470\n20  districtname_LAKE FOREST PARK   1467.646825   1391.794613  0.051683\n14       districtname_HUNTS POINT     62.000000     58.682208  0.053513\n22            districtname_MEDINA    325.500000    306.471732  0.058459\n35        districtname_SNOQUALMIE    973.131719    915.692835  0.059025\n39      districtname_YARROW POINT    109.000000    118.812425  0.090022\n28           districtname_PACIFIC    254.498609    230.923942  0.092632\n24            districtname_MILTON     65.082084     57.529496  0.116047\n8         districtname_CLYDE HILL    215.500000    249.121120  0.156014\n7          districtname_CARNATION    175.247253    142.353291  0.187700\n34         districtname_SKYKOMISH     21.250000     15.223878  0.283582",
      "text/html": "<div>\n<style scoped>\n    .dataframe tbody tr th:only-of-type {\n        vertical-align: middle;\n    }\n\n    .dataframe tbody tr th {\n        vertical-align: top;\n    }\n\n    .dataframe thead th {\n        text-align: right;\n    }\n</style>\n<table border=\"1\" class=\"dataframe\">\n  <thead>\n    <tr style=\"text-align: right;\">\n      <th></th>\n      <th>Sample</th>\n      <th>Actual</th>\n      <th>Predicted</th>\n      <th>RMSE</th>\n    </tr>\n  </thead>\n  <tbody>\n    <tr>\n      <th>33</th>\n      <td>districtname_SHORELINE</td>\n      <td>4548.921839</td>\n      <td>4549.935825</td>\n      <td>0.000223</td>\n    </tr>\n    <tr>\n      <th>38</th>\n      <td>districtname_WOODINVILLE</td>\n      <td>976.536613</td>\n      <td>975.506930</td>\n      <td>0.001054</td>\n    </tr>\n    <tr>\n      <th>32</th>\n      <td>districtname_SEATTLE</td>\n      <td>56482.047883</td>\n      <td>56580.891547</td>\n      <td>0.001750</td>\n    </tr>\n    <tr>\n      <th>29</th>\n      <td>districtname_REDMOND</td>\n      <td>3232.732934</td>\n      <td>3240.216242</td>\n      <td>0.002315</td>\n    </tr>\n    <tr>\n      <th>26</th>\n      <td>districtname_NORMANDY PARK</td>\n      <td>453.601620</td>\n      <td>452.444555</td>\n      <td>0.002551</td>\n    </tr>\n    <tr>\n      <th>10</th>\n      <td>districtname_DES MOINES</td>\n      <td>1911.233648</td>\n      <td>1917.138271</td>\n      <td>0.003089</td>\n    </tr>\n    <tr>\n      <th>21</th>\n      <td>districtname_MAPLE VALLEY</td>\n      <td>1747.375839</td>\n      <td>1753.474225</td>\n      <td>0.003490</td>\n    </tr>\n    <tr>\n      <th>9</th>\n      <td>districtname_COVINGTON</td>\n      <td>1201.133809</td>\n      <td>1193.875291</td>\n      <td>0.006043</td>\n    </tr>\n    <tr>\n      <th>17</th>\n      <td>districtname_KENT</td>\n      <td>5741.093306</td>\n      <td>5697.725671</td>\n      <td>0.007554</td>\n    </tr>\n    <tr>\n      <th>36</th>\n      <td>districtname_SeaTac</td>\n      <td>1149.971809</td>\n      <td>1158.797400</td>\n      <td>0.007675</td>\n    </tr>\n    <tr>\n      <th>11</th>\n      <td>districtname_DUVALL</td>\n      <td>570.528205</td>\n      <td>565.617499</td>\n      <td>0.008607</td>\n    </tr>\n    <tr>\n      <th>16</th>\n      <td>districtname_KENMORE</td>\n      <td>1627.830803</td>\n      <td>1644.414915</td>\n      <td>0.010188</td>\n    </tr>\n    <tr>\n      <th>15</th>\n      <td>districtname_ISSAQUAH</td>\n      <td>2496.423501</td>\n      <td>2523.322833</td>\n      <td>0.010775</td>\n    </tr>\n    <tr>\n      <th>13</th>\n      <td>districtname_FEDERAL WAY</td>\n      <td>4447.582351</td>\n      <td>4501.667841</td>\n      <td>0.012161</td>\n    </tr>\n    <tr>\n      <th>6</th>\n      <td>districtname_BURIEN</td>\n      <td>3170.886958</td>\n      <td>3209.990964</td>\n      <td>0.012332</td>\n    </tr>\n    <tr>\n      <th>30</th>\n      <td>districtname_RENTON</td>\n      <td>5217.051728</td>\n      <td>5291.711626</td>\n      <td>0.014311</td>\n    </tr>\n    <tr>\n      <th>18</th>\n      <td>districtname_KING COUNTY</td>\n      <td>18490.482467</td>\n      <td>18865.474557</td>\n      <td>0.020280</td>\n    </tr>\n    <tr>\n      <th>3</th>\n      <td>districtname_BELLEVUE</td>\n      <td>8610.241836</td>\n      <td>8829.153562</td>\n      <td>0.025425</td>\n    </tr>\n    <tr>\n      <th>31</th>\n      <td>districtname_SAMMAMISH</td>\n      <td>4787.153399</td>\n      <td>4631.408519</td>\n      <td>0.032534</td>\n    </tr>\n    <tr>\n      <th>27</th>\n      <td>districtname_NORTH BEND</td>\n      <td>559.546428</td>\n      <td>540.302102</td>\n      <td>0.034393</td>\n    </tr>\n    <tr>\n      <th>5</th>\n      <td>districtname_BOTHELL</td>\n      <td>1695.825368</td>\n      <td>1636.438351</td>\n      <td>0.035020</td>\n    </tr>\n    <tr>\n      <th>19</th>\n      <td>districtname_KIRKLAND</td>\n      <td>5981.901049</td>\n      <td>6202.310240</td>\n      <td>0.036846</td>\n    </tr>\n    <tr>\n      <th>4</th>\n      <td>districtname_BLACK DIAMOND</td>\n      <td>323.723577</td>\n      <td>311.308292</td>\n      <td>0.038352</td>\n    </tr>\n    <tr>\n      <th>0</th>\n      <td>districtname_ALGONA</td>\n      <td>119.250000</td>\n      <td>124.184163</td>\n      <td>0.041377</td>\n    </tr>\n    <tr>\n      <th>1</th>\n      <td>districtname_AUBURN</td>\n      <td>2916.370787</td>\n      <td>3044.805158</td>\n      <td>0.044039</td>\n    </tr>\n    <tr>\n      <th>2</th>\n      <td>districtname_BEAUX ARTS</td>\n      <td>23.000000</td>\n      <td>24.077968</td>\n      <td>0.046868</td>\n    </tr>\n    <tr>\n      <th>12</th>\n      <td>districtname_ENUMCLAW</td>\n      <td>728.771333</td>\n      <td>694.587775</td>\n      <td>0.046906</td>\n    </tr>\n    <tr>\n      <th>23</th>\n      <td>districtname_MERCER ISLAND</td>\n      <td>2617.396594</td>\n      <td>2490.604212</td>\n      <td>0.048442</td>\n    </tr>\n    <tr>\n      <th>25</th>\n      <td>districtname_NEWCASTLE</td>\n      <td>642.951204</td>\n      <td>675.255797</td>\n      <td>0.050244</td>\n    </tr>\n    <tr>\n      <th>37</th>\n      <td>districtname_TUKWILA</td>\n      <td>886.319866</td>\n      <td>841.587005</td>\n      <td>0.050470</td>\n    </tr>\n    <tr>\n      <th>20</th>\n      <td>districtname_LAKE FOREST PARK</td>\n      <td>1467.646825</td>\n      <td>1391.794613</td>\n      <td>0.051683</td>\n    </tr>\n    <tr>\n      <th>14</th>\n      <td>districtname_HUNTS POINT</td>\n      <td>62.000000</td>\n      <td>58.682208</td>\n      <td>0.053513</td>\n    </tr>\n    <tr>\n      <th>22</th>\n      <td>districtname_MEDINA</td>\n      <td>325.500000</td>\n      <td>306.471732</td>\n      <td>0.058459</td>\n    </tr>\n    <tr>\n      <th>35</th>\n      <td>districtname_SNOQUALMIE</td>\n      <td>973.131719</td>\n      <td>915.692835</td>\n      <td>0.059025</td>\n    </tr>\n    <tr>\n      <th>39</th>\n      <td>districtname_YARROW POINT</td>\n      <td>109.000000</td>\n      <td>118.812425</td>\n      <td>0.090022</td>\n    </tr>\n    <tr>\n      <th>28</th>\n      <td>districtname_PACIFIC</td>\n      <td>254.498609</td>\n      <td>230.923942</td>\n      <td>0.092632</td>\n    </tr>\n    <tr>\n      <th>24</th>\n      <td>districtname_MILTON</td>\n      <td>65.082084</td>\n      <td>57.529496</td>\n      <td>0.116047</td>\n    </tr>\n    <tr>\n      <th>8</th>\n      <td>districtname_CLYDE HILL</td>\n      <td>215.500000</td>\n      <td>249.121120</td>\n      <td>0.156014</td>\n    </tr>\n    <tr>\n      <th>7</th>\n      <td>districtname_CARNATION</td>\n      <td>175.247253</td>\n      <td>142.353291</td>\n      <td>0.187700</td>\n    </tr>\n    <tr>\n      <th>34</th>\n      <td>districtname_SKYKOMISH</td>\n      <td>21.250000</td>\n      <td>15.223878</td>\n      <td>0.283582</td>\n    </tr>\n  </tbody>\n</table>\n</div>"
     },
     "metadata": {}
    },
    {
     "output_type": "stream",
     "name": "stdout",
     "text": [
      "Neural Network Regression - 2019 Voters\n"
     ]
    },
    {
     "output_type": "display_data",
     "data": {
      "text/plain": "                           Sample        Actual     Predicted      RMSE\n32           districtname_SEATTLE  56482.047883  56357.938433  0.002197\n19          districtname_KIRKLAND   5981.901049   5948.916119  0.005514\n6             districtname_BURIEN   3170.886958   3148.453093  0.007075\n1             districtname_AUBURN   2916.370787   2887.475708  0.009908\n8         districtname_CLYDE HILL    215.500000    213.340633  0.010020\n33         districtname_SHORELINE   4548.921839   4597.676843  0.010718\n30            districtname_RENTON   5217.051728   5160.447127  0.010850\n27        districtname_NORTH BEND    559.546428    553.473714  0.010853\n12          districtname_ENUMCLAW    728.771333    720.176989  0.011793\n18       districtname_KING COUNTY  18490.482467  18270.404964  0.011902\n15          districtname_ISSAQUAH   2496.423501   2463.582196  0.013155\n3           districtname_BELLEVUE   8610.241836   8469.032230  0.016400\n17              districtname_KENT   5741.093306   5630.754616  0.019219\n21      districtname_MAPLE VALLEY   1747.375839   1701.143565  0.026458\n9          districtname_COVINGTON   1201.133809   1237.749167  0.030484\n11            districtname_DUVALL    570.528205    552.910211  0.030880\n38       districtname_WOODINVILLE    976.536613    944.186116  0.033128\n29           districtname_REDMOND   3232.732934   3121.132721  0.034522\n22            districtname_MEDINA    325.500000    314.077402  0.035092\n36            districtname_SeaTac   1149.971809   1200.025945  0.043526\n31         districtname_SAMMAMISH   4787.153399   4560.486280  0.047349\n16           districtname_KENMORE   1627.830803   1548.681480  0.048623\n39      districtname_YARROW POINT    109.000000    114.736456  0.052628\n13       districtname_FEDERAL WAY   4447.582351   4692.675190  0.055107\n23     districtname_MERCER ISLAND   2617.396594   2457.313272  0.061161\n25         districtname_NEWCASTLE    642.951204    684.919895  0.065275\n5            districtname_BOTHELL   1695.825368   1579.705004  0.068474\n0             districtname_ALGONA    119.250000    127.643432  0.070385\n10        districtname_DES MOINES   1911.233648   1763.002637  0.077558\n26     districtname_NORMANDY PARK    453.601620    489.291842  0.078682\n20  districtname_LAKE FOREST PARK   1467.646825   1350.547680  0.079787\n37           districtname_TUKWILA    886.319866    813.520590  0.082137\n4      districtname_BLACK DIAMOND    323.723577    290.698393  0.102017\n7          districtname_CARNATION    175.247253    152.180146  0.131626\n2         districtname_BEAUX ARTS     23.000000     26.373313  0.146666\n28           districtname_PACIFIC    254.498609    292.835521  0.150637\n35        districtname_SNOQUALMIE    973.131719    814.110080  0.163412\n24            districtname_MILTON     65.082084     49.451020  0.240175\n34         districtname_SKYKOMISH     21.250000     14.501891  0.317558\n14       districtname_HUNTS POINT     62.000000     41.561117  0.329659",
      "text/html": "<div>\n<style scoped>\n    .dataframe tbody tr th:only-of-type {\n        vertical-align: middle;\n    }\n\n    .dataframe tbody tr th {\n        vertical-align: top;\n    }\n\n    .dataframe thead th {\n        text-align: right;\n    }\n</style>\n<table border=\"1\" class=\"dataframe\">\n  <thead>\n    <tr style=\"text-align: right;\">\n      <th></th>\n      <th>Sample</th>\n      <th>Actual</th>\n      <th>Predicted</th>\n      <th>RMSE</th>\n    </tr>\n  </thead>\n  <tbody>\n    <tr>\n      <th>32</th>\n      <td>districtname_SEATTLE</td>\n      <td>56482.047883</td>\n      <td>56357.938433</td>\n      <td>0.002197</td>\n    </tr>\n    <tr>\n      <th>19</th>\n      <td>districtname_KIRKLAND</td>\n      <td>5981.901049</td>\n      <td>5948.916119</td>\n      <td>0.005514</td>\n    </tr>\n    <tr>\n      <th>6</th>\n      <td>districtname_BURIEN</td>\n      <td>3170.886958</td>\n      <td>3148.453093</td>\n      <td>0.007075</td>\n    </tr>\n    <tr>\n      <th>1</th>\n      <td>districtname_AUBURN</td>\n      <td>2916.370787</td>\n      <td>2887.475708</td>\n      <td>0.009908</td>\n    </tr>\n    <tr>\n      <th>8</th>\n      <td>districtname_CLYDE HILL</td>\n      <td>215.500000</td>\n      <td>213.340633</td>\n      <td>0.010020</td>\n    </tr>\n    <tr>\n      <th>33</th>\n      <td>districtname_SHORELINE</td>\n      <td>4548.921839</td>\n      <td>4597.676843</td>\n      <td>0.010718</td>\n    </tr>\n    <tr>\n      <th>30</th>\n      <td>districtname_RENTON</td>\n      <td>5217.051728</td>\n      <td>5160.447127</td>\n      <td>0.010850</td>\n    </tr>\n    <tr>\n      <th>27</th>\n      <td>districtname_NORTH BEND</td>\n      <td>559.546428</td>\n      <td>553.473714</td>\n      <td>0.010853</td>\n    </tr>\n    <tr>\n      <th>12</th>\n      <td>districtname_ENUMCLAW</td>\n      <td>728.771333</td>\n      <td>720.176989</td>\n      <td>0.011793</td>\n    </tr>\n    <tr>\n      <th>18</th>\n      <td>districtname_KING COUNTY</td>\n      <td>18490.482467</td>\n      <td>18270.404964</td>\n      <td>0.011902</td>\n    </tr>\n    <tr>\n      <th>15</th>\n      <td>districtname_ISSAQUAH</td>\n      <td>2496.423501</td>\n      <td>2463.582196</td>\n      <td>0.013155</td>\n    </tr>\n    <tr>\n      <th>3</th>\n      <td>districtname_BELLEVUE</td>\n      <td>8610.241836</td>\n      <td>8469.032230</td>\n      <td>0.016400</td>\n    </tr>\n    <tr>\n      <th>17</th>\n      <td>districtname_KENT</td>\n      <td>5741.093306</td>\n      <td>5630.754616</td>\n      <td>0.019219</td>\n    </tr>\n    <tr>\n      <th>21</th>\n      <td>districtname_MAPLE VALLEY</td>\n      <td>1747.375839</td>\n      <td>1701.143565</td>\n      <td>0.026458</td>\n    </tr>\n    <tr>\n      <th>9</th>\n      <td>districtname_COVINGTON</td>\n      <td>1201.133809</td>\n      <td>1237.749167</td>\n      <td>0.030484</td>\n    </tr>\n    <tr>\n      <th>11</th>\n      <td>districtname_DUVALL</td>\n      <td>570.528205</td>\n      <td>552.910211</td>\n      <td>0.030880</td>\n    </tr>\n    <tr>\n      <th>38</th>\n      <td>districtname_WOODINVILLE</td>\n      <td>976.536613</td>\n      <td>944.186116</td>\n      <td>0.033128</td>\n    </tr>\n    <tr>\n      <th>29</th>\n      <td>districtname_REDMOND</td>\n      <td>3232.732934</td>\n      <td>3121.132721</td>\n      <td>0.034522</td>\n    </tr>\n    <tr>\n      <th>22</th>\n      <td>districtname_MEDINA</td>\n      <td>325.500000</td>\n      <td>314.077402</td>\n      <td>0.035092</td>\n    </tr>\n    <tr>\n      <th>36</th>\n      <td>districtname_SeaTac</td>\n      <td>1149.971809</td>\n      <td>1200.025945</td>\n      <td>0.043526</td>\n    </tr>\n    <tr>\n      <th>31</th>\n      <td>districtname_SAMMAMISH</td>\n      <td>4787.153399</td>\n      <td>4560.486280</td>\n      <td>0.047349</td>\n    </tr>\n    <tr>\n      <th>16</th>\n      <td>districtname_KENMORE</td>\n      <td>1627.830803</td>\n      <td>1548.681480</td>\n      <td>0.048623</td>\n    </tr>\n    <tr>\n      <th>39</th>\n      <td>districtname_YARROW POINT</td>\n      <td>109.000000</td>\n      <td>114.736456</td>\n      <td>0.052628</td>\n    </tr>\n    <tr>\n      <th>13</th>\n      <td>districtname_FEDERAL WAY</td>\n      <td>4447.582351</td>\n      <td>4692.675190</td>\n      <td>0.055107</td>\n    </tr>\n    <tr>\n      <th>23</th>\n      <td>districtname_MERCER ISLAND</td>\n      <td>2617.396594</td>\n      <td>2457.313272</td>\n      <td>0.061161</td>\n    </tr>\n    <tr>\n      <th>25</th>\n      <td>districtname_NEWCASTLE</td>\n      <td>642.951204</td>\n      <td>684.919895</td>\n      <td>0.065275</td>\n    </tr>\n    <tr>\n      <th>5</th>\n      <td>districtname_BOTHELL</td>\n      <td>1695.825368</td>\n      <td>1579.705004</td>\n      <td>0.068474</td>\n    </tr>\n    <tr>\n      <th>0</th>\n      <td>districtname_ALGONA</td>\n      <td>119.250000</td>\n      <td>127.643432</td>\n      <td>0.070385</td>\n    </tr>\n    <tr>\n      <th>10</th>\n      <td>districtname_DES MOINES</td>\n      <td>1911.233648</td>\n      <td>1763.002637</td>\n      <td>0.077558</td>\n    </tr>\n    <tr>\n      <th>26</th>\n      <td>districtname_NORMANDY PARK</td>\n      <td>453.601620</td>\n      <td>489.291842</td>\n      <td>0.078682</td>\n    </tr>\n    <tr>\n      <th>20</th>\n      <td>districtname_LAKE FOREST PARK</td>\n      <td>1467.646825</td>\n      <td>1350.547680</td>\n      <td>0.079787</td>\n    </tr>\n    <tr>\n      <th>37</th>\n      <td>districtname_TUKWILA</td>\n      <td>886.319866</td>\n      <td>813.520590</td>\n      <td>0.082137</td>\n    </tr>\n    <tr>\n      <th>4</th>\n      <td>districtname_BLACK DIAMOND</td>\n      <td>323.723577</td>\n      <td>290.698393</td>\n      <td>0.102017</td>\n    </tr>\n    <tr>\n      <th>7</th>\n      <td>districtname_CARNATION</td>\n      <td>175.247253</td>\n      <td>152.180146</td>\n      <td>0.131626</td>\n    </tr>\n    <tr>\n      <th>2</th>\n      <td>districtname_BEAUX ARTS</td>\n      <td>23.000000</td>\n      <td>26.373313</td>\n      <td>0.146666</td>\n    </tr>\n    <tr>\n      <th>28</th>\n      <td>districtname_PACIFIC</td>\n      <td>254.498609</td>\n      <td>292.835521</td>\n      <td>0.150637</td>\n    </tr>\n    <tr>\n      <th>35</th>\n      <td>districtname_SNOQUALMIE</td>\n      <td>973.131719</td>\n      <td>814.110080</td>\n      <td>0.163412</td>\n    </tr>\n    <tr>\n      <th>24</th>\n      <td>districtname_MILTON</td>\n      <td>65.082084</td>\n      <td>49.451020</td>\n      <td>0.240175</td>\n    </tr>\n    <tr>\n      <th>34</th>\n      <td>districtname_SKYKOMISH</td>\n      <td>21.250000</td>\n      <td>14.501891</td>\n      <td>0.317558</td>\n    </tr>\n    <tr>\n      <th>14</th>\n      <td>districtname_HUNTS POINT</td>\n      <td>62.000000</td>\n      <td>41.561117</td>\n      <td>0.329659</td>\n    </tr>\n  </tbody>\n</table>\n</div>"
     },
     "metadata": {}
    },
    {
     "output_type": "stream",
     "name": "stdout",
     "text": [
      "Random Forest - 2020 Voters\n"
     ]
    },
    {
     "output_type": "display_data",
     "data": {
      "text/plain": "                           Sample        Actual     Predicted      RMSE\n32           districtname_SEATTLE  94819.724612  94845.637403  0.000273\n3           districtname_BELLEVUE  17387.045380  17392.525172  0.000315\n18       districtname_KING COUNTY  34836.601254  34851.069475  0.000415\n17              districtname_KENT  12796.264111  12781.155221  0.001181\n39      districtname_YARROW POINT    202.500000    202.023631  0.002352\n23     districtname_MERCER ISLAND   4159.191538   4147.328104  0.002852\n35        districtname_SNOQUALMIE   1822.376111   1829.494625  0.003906\n9          districtname_COVINGTON   2559.755308   2571.538437  0.004603\n14       districtname_HUNTS POINT     97.000000     97.566806  0.005843\n27        districtname_NORTH BEND   1070.973686   1079.096418  0.007584\n16           districtname_KENMORE   3138.049944   3112.485043  0.008147\n20  districtname_LAKE FOREST PARK   2356.165461   2336.253587  0.008451\n30            districtname_RENTON  11376.085371  11500.180227  0.010908\n19          districtname_KIRKLAND  12174.971061  12314.883699  0.011492\n10        districtname_DES MOINES   3684.184173   3730.100702  0.012463\n13       districtname_FEDERAL WAY   9353.429636   9479.715651  0.013502\n38       districtname_WOODINVILLE   1869.623999   1896.944273  0.014613\n1             districtname_AUBURN   6838.713557   6941.677003  0.015056\n7          districtname_CARNATION    300.394689    295.832879  0.015186\n31         districtname_SAMMAMISH   8656.518356   8522.356272  0.015498\n24            districtname_MILTON    104.555472    106.241050  0.016121\n21      districtname_MAPLE VALLEY   3765.769069   3702.384162  0.016832\n33         districtname_SHORELINE   8191.248300   8036.961394  0.018836\n6             districtname_BURIEN   5987.261315   6100.318858  0.018883\n5            districtname_BOTHELL   3354.298278   3286.664273  0.020163\n37           districtname_TUKWILA   1911.730058   1873.074804  0.020220\n29           districtname_REDMOND   6401.778671   6540.345522  0.021645\n15          districtname_ISSAQUAH   5203.937668   5085.796390  0.022702\n4      districtname_BLACK DIAMOND    648.750000    631.571343  0.026480\n22            districtname_MEDINA    510.000000    523.763555  0.026987\n36            districtname_SeaTac   2310.974167   2374.005238  0.027275\n25         districtname_NEWCASTLE   1343.362713   1380.561785  0.027691\n11            districtname_DUVALL   1127.222100   1094.398790  0.029119\n12          districtname_ENUMCLAW   1542.989372   1490.545937  0.033988\n26     districtname_NORMANDY PARK    689.472491    717.902185  0.041234\n28           districtname_PACIFIC    578.669486    552.784469  0.044732\n2         districtname_BEAUX ARTS     46.000000     43.849555  0.046749\n8         districtname_CLYDE HILL    425.000000    459.536270  0.081262\n34         districtname_SKYKOMISH     20.250000     22.491121  0.110673\n0             districtname_ALGONA    257.000000    286.193522  0.113593",
      "text/html": "<div>\n<style scoped>\n    .dataframe tbody tr th:only-of-type {\n        vertical-align: middle;\n    }\n\n    .dataframe tbody tr th {\n        vertical-align: top;\n    }\n\n    .dataframe thead th {\n        text-align: right;\n    }\n</style>\n<table border=\"1\" class=\"dataframe\">\n  <thead>\n    <tr style=\"text-align: right;\">\n      <th></th>\n      <th>Sample</th>\n      <th>Actual</th>\n      <th>Predicted</th>\n      <th>RMSE</th>\n    </tr>\n  </thead>\n  <tbody>\n    <tr>\n      <th>32</th>\n      <td>districtname_SEATTLE</td>\n      <td>94819.724612</td>\n      <td>94845.637403</td>\n      <td>0.000273</td>\n    </tr>\n    <tr>\n      <th>3</th>\n      <td>districtname_BELLEVUE</td>\n      <td>17387.045380</td>\n      <td>17392.525172</td>\n      <td>0.000315</td>\n    </tr>\n    <tr>\n      <th>18</th>\n      <td>districtname_KING COUNTY</td>\n      <td>34836.601254</td>\n      <td>34851.069475</td>\n      <td>0.000415</td>\n    </tr>\n    <tr>\n      <th>17</th>\n      <td>districtname_KENT</td>\n      <td>12796.264111</td>\n      <td>12781.155221</td>\n      <td>0.001181</td>\n    </tr>\n    <tr>\n      <th>39</th>\n      <td>districtname_YARROW POINT</td>\n      <td>202.500000</td>\n      <td>202.023631</td>\n      <td>0.002352</td>\n    </tr>\n    <tr>\n      <th>23</th>\n      <td>districtname_MERCER ISLAND</td>\n      <td>4159.191538</td>\n      <td>4147.328104</td>\n      <td>0.002852</td>\n    </tr>\n    <tr>\n      <th>35</th>\n      <td>districtname_SNOQUALMIE</td>\n      <td>1822.376111</td>\n      <td>1829.494625</td>\n      <td>0.003906</td>\n    </tr>\n    <tr>\n      <th>9</th>\n      <td>districtname_COVINGTON</td>\n      <td>2559.755308</td>\n      <td>2571.538437</td>\n      <td>0.004603</td>\n    </tr>\n    <tr>\n      <th>14</th>\n      <td>districtname_HUNTS POINT</td>\n      <td>97.000000</td>\n      <td>97.566806</td>\n      <td>0.005843</td>\n    </tr>\n    <tr>\n      <th>27</th>\n      <td>districtname_NORTH BEND</td>\n      <td>1070.973686</td>\n      <td>1079.096418</td>\n      <td>0.007584</td>\n    </tr>\n    <tr>\n      <th>16</th>\n      <td>districtname_KENMORE</td>\n      <td>3138.049944</td>\n      <td>3112.485043</td>\n      <td>0.008147</td>\n    </tr>\n    <tr>\n      <th>20</th>\n      <td>districtname_LAKE FOREST PARK</td>\n      <td>2356.165461</td>\n      <td>2336.253587</td>\n      <td>0.008451</td>\n    </tr>\n    <tr>\n      <th>30</th>\n      <td>districtname_RENTON</td>\n      <td>11376.085371</td>\n      <td>11500.180227</td>\n      <td>0.010908</td>\n    </tr>\n    <tr>\n      <th>19</th>\n      <td>districtname_KIRKLAND</td>\n      <td>12174.971061</td>\n      <td>12314.883699</td>\n      <td>0.011492</td>\n    </tr>\n    <tr>\n      <th>10</th>\n      <td>districtname_DES MOINES</td>\n      <td>3684.184173</td>\n      <td>3730.100702</td>\n      <td>0.012463</td>\n    </tr>\n    <tr>\n      <th>13</th>\n      <td>districtname_FEDERAL WAY</td>\n      <td>9353.429636</td>\n      <td>9479.715651</td>\n      <td>0.013502</td>\n    </tr>\n    <tr>\n      <th>38</th>\n      <td>districtname_WOODINVILLE</td>\n      <td>1869.623999</td>\n      <td>1896.944273</td>\n      <td>0.014613</td>\n    </tr>\n    <tr>\n      <th>1</th>\n      <td>districtname_AUBURN</td>\n      <td>6838.713557</td>\n      <td>6941.677003</td>\n      <td>0.015056</td>\n    </tr>\n    <tr>\n      <th>7</th>\n      <td>districtname_CARNATION</td>\n      <td>300.394689</td>\n      <td>295.832879</td>\n      <td>0.015186</td>\n    </tr>\n    <tr>\n      <th>31</th>\n      <td>districtname_SAMMAMISH</td>\n      <td>8656.518356</td>\n      <td>8522.356272</td>\n      <td>0.015498</td>\n    </tr>\n    <tr>\n      <th>24</th>\n      <td>districtname_MILTON</td>\n      <td>104.555472</td>\n      <td>106.241050</td>\n      <td>0.016121</td>\n    </tr>\n    <tr>\n      <th>21</th>\n      <td>districtname_MAPLE VALLEY</td>\n      <td>3765.769069</td>\n      <td>3702.384162</td>\n      <td>0.016832</td>\n    </tr>\n    <tr>\n      <th>33</th>\n      <td>districtname_SHORELINE</td>\n      <td>8191.248300</td>\n      <td>8036.961394</td>\n      <td>0.018836</td>\n    </tr>\n    <tr>\n      <th>6</th>\n      <td>districtname_BURIEN</td>\n      <td>5987.261315</td>\n      <td>6100.318858</td>\n      <td>0.018883</td>\n    </tr>\n    <tr>\n      <th>5</th>\n      <td>districtname_BOTHELL</td>\n      <td>3354.298278</td>\n      <td>3286.664273</td>\n      <td>0.020163</td>\n    </tr>\n    <tr>\n      <th>37</th>\n      <td>districtname_TUKWILA</td>\n      <td>1911.730058</td>\n      <td>1873.074804</td>\n      <td>0.020220</td>\n    </tr>\n    <tr>\n      <th>29</th>\n      <td>districtname_REDMOND</td>\n      <td>6401.778671</td>\n      <td>6540.345522</td>\n      <td>0.021645</td>\n    </tr>\n    <tr>\n      <th>15</th>\n      <td>districtname_ISSAQUAH</td>\n      <td>5203.937668</td>\n      <td>5085.796390</td>\n      <td>0.022702</td>\n    </tr>\n    <tr>\n      <th>4</th>\n      <td>districtname_BLACK DIAMOND</td>\n      <td>648.750000</td>\n      <td>631.571343</td>\n      <td>0.026480</td>\n    </tr>\n    <tr>\n      <th>22</th>\n      <td>districtname_MEDINA</td>\n      <td>510.000000</td>\n      <td>523.763555</td>\n      <td>0.026987</td>\n    </tr>\n    <tr>\n      <th>36</th>\n      <td>districtname_SeaTac</td>\n      <td>2310.974167</td>\n      <td>2374.005238</td>\n      <td>0.027275</td>\n    </tr>\n    <tr>\n      <th>25</th>\n      <td>districtname_NEWCASTLE</td>\n      <td>1343.362713</td>\n      <td>1380.561785</td>\n      <td>0.027691</td>\n    </tr>\n    <tr>\n      <th>11</th>\n      <td>districtname_DUVALL</td>\n      <td>1127.222100</td>\n      <td>1094.398790</td>\n      <td>0.029119</td>\n    </tr>\n    <tr>\n      <th>12</th>\n      <td>districtname_ENUMCLAW</td>\n      <td>1542.989372</td>\n      <td>1490.545937</td>\n      <td>0.033988</td>\n    </tr>\n    <tr>\n      <th>26</th>\n      <td>districtname_NORMANDY PARK</td>\n      <td>689.472491</td>\n      <td>717.902185</td>\n      <td>0.041234</td>\n    </tr>\n    <tr>\n      <th>28</th>\n      <td>districtname_PACIFIC</td>\n      <td>578.669486</td>\n      <td>552.784469</td>\n      <td>0.044732</td>\n    </tr>\n    <tr>\n      <th>2</th>\n      <td>districtname_BEAUX ARTS</td>\n      <td>46.000000</td>\n      <td>43.849555</td>\n      <td>0.046749</td>\n    </tr>\n    <tr>\n      <th>8</th>\n      <td>districtname_CLYDE HILL</td>\n      <td>425.000000</td>\n      <td>459.536270</td>\n      <td>0.081262</td>\n    </tr>\n    <tr>\n      <th>34</th>\n      <td>districtname_SKYKOMISH</td>\n      <td>20.250000</td>\n      <td>22.491121</td>\n      <td>0.110673</td>\n    </tr>\n    <tr>\n      <th>0</th>\n      <td>districtname_ALGONA</td>\n      <td>257.000000</td>\n      <td>286.193522</td>\n      <td>0.113593</td>\n    </tr>\n  </tbody>\n</table>\n</div>"
     },
     "metadata": {}
    },
    {
     "output_type": "stream",
     "name": "stdout",
     "text": [
      "Neural Network Regression - 2020 Voters\n"
     ]
    },
    {
     "output_type": "display_data",
     "data": {
      "text/plain": "                           Sample        Actual     Predicted      RMSE\n9          districtname_COVINGTON   2559.755308   2560.160345  0.000158\n38       districtname_WOODINVILLE   1869.623999   1868.609822  0.000542\n1             districtname_AUBURN   6838.713557   6824.689704  0.002051\n10        districtname_DES MOINES   3684.184173   3672.286792  0.003229\n13       districtname_FEDERAL WAY   9353.429636   9389.842542  0.003893\n32           districtname_SEATTLE  94819.724612  94338.020499  0.005080\n29           districtname_REDMOND   6401.778671   6448.970740  0.007372\n3           districtname_BELLEVUE  17387.045380  17228.137297  0.009139\n36            districtname_SeaTac   2310.974167   2286.046722  0.010787\n17              districtname_KENT  12796.264111  12597.747139  0.015514\n12          districtname_ENUMCLAW   1542.989372   1518.934097  0.015590\n19          districtname_KIRKLAND  12174.971061  11974.430597  0.016472\n20  districtname_LAKE FOREST PARK   2356.165461   2316.534985  0.016820\n6             districtname_BURIEN   5987.261315   5880.261436  0.017871\n25         districtname_NEWCASTLE   1343.362713   1316.736932  0.019820\n18       districtname_KING COUNTY  34836.601254  34132.757024  0.020204\n33         districtname_SHORELINE   8191.248300   8021.953512  0.020668\n21      districtname_MAPLE VALLEY   3765.769069   3685.827598  0.021228\n23     districtname_MERCER ISLAND   4159.191538   4049.510569  0.026371\n8         districtname_CLYDE HILL    425.000000    413.186134  0.027797\n30            districtname_RENTON  11376.085371  11024.652650  0.030892\n16           districtname_KENMORE   3138.049944   3039.369431  0.031446\n5            districtname_BOTHELL   3354.298278   3247.924221  0.031713\n11            districtname_DUVALL   1127.222100   1090.344401  0.032716\n34         districtname_SKYKOMISH     20.250000     20.936596  0.033906\n28           districtname_PACIFIC    578.669486    558.840087  0.034267\n15          districtname_ISSAQUAH   5203.937668   4986.198676  0.041841\n31         districtname_SAMMAMISH   8656.518356   8233.443054  0.048874\n26     districtname_NORMANDY PARK    689.472491    725.392927  0.052098\n35        districtname_SNOQUALMIE   1822.376111   1723.402767  0.054310\n27        districtname_NORTH BEND   1070.973686   1009.966892  0.056964\n4      districtname_BLACK DIAMOND    648.750000    602.695941  0.070989\n37           districtname_TUKWILA   1911.730058   1773.011244  0.072562\n0             districtname_ALGONA    257.000000    237.506231  0.075851\n7          districtname_CARNATION    300.394689    266.541141  0.112697\n24            districtname_MILTON    104.555472     87.372042  0.164348\n39      districtname_YARROW POINT    202.500000    130.480153  0.355654\n22            districtname_MEDINA    510.000000    303.733716  0.404444\n14       districtname_HUNTS POINT     97.000000     51.404397  0.470058\n2         districtname_BEAUX ARTS     46.000000     23.724440  0.484251",
      "text/html": "<div>\n<style scoped>\n    .dataframe tbody tr th:only-of-type {\n        vertical-align: middle;\n    }\n\n    .dataframe tbody tr th {\n        vertical-align: top;\n    }\n\n    .dataframe thead th {\n        text-align: right;\n    }\n</style>\n<table border=\"1\" class=\"dataframe\">\n  <thead>\n    <tr style=\"text-align: right;\">\n      <th></th>\n      <th>Sample</th>\n      <th>Actual</th>\n      <th>Predicted</th>\n      <th>RMSE</th>\n    </tr>\n  </thead>\n  <tbody>\n    <tr>\n      <th>9</th>\n      <td>districtname_COVINGTON</td>\n      <td>2559.755308</td>\n      <td>2560.160345</td>\n      <td>0.000158</td>\n    </tr>\n    <tr>\n      <th>38</th>\n      <td>districtname_WOODINVILLE</td>\n      <td>1869.623999</td>\n      <td>1868.609822</td>\n      <td>0.000542</td>\n    </tr>\n    <tr>\n      <th>1</th>\n      <td>districtname_AUBURN</td>\n      <td>6838.713557</td>\n      <td>6824.689704</td>\n      <td>0.002051</td>\n    </tr>\n    <tr>\n      <th>10</th>\n      <td>districtname_DES MOINES</td>\n      <td>3684.184173</td>\n      <td>3672.286792</td>\n      <td>0.003229</td>\n    </tr>\n    <tr>\n      <th>13</th>\n      <td>districtname_FEDERAL WAY</td>\n      <td>9353.429636</td>\n      <td>9389.842542</td>\n      <td>0.003893</td>\n    </tr>\n    <tr>\n      <th>32</th>\n      <td>districtname_SEATTLE</td>\n      <td>94819.724612</td>\n      <td>94338.020499</td>\n      <td>0.005080</td>\n    </tr>\n    <tr>\n      <th>29</th>\n      <td>districtname_REDMOND</td>\n      <td>6401.778671</td>\n      <td>6448.970740</td>\n      <td>0.007372</td>\n    </tr>\n    <tr>\n      <th>3</th>\n      <td>districtname_BELLEVUE</td>\n      <td>17387.045380</td>\n      <td>17228.137297</td>\n      <td>0.009139</td>\n    </tr>\n    <tr>\n      <th>36</th>\n      <td>districtname_SeaTac</td>\n      <td>2310.974167</td>\n      <td>2286.046722</td>\n      <td>0.010787</td>\n    </tr>\n    <tr>\n      <th>17</th>\n      <td>districtname_KENT</td>\n      <td>12796.264111</td>\n      <td>12597.747139</td>\n      <td>0.015514</td>\n    </tr>\n    <tr>\n      <th>12</th>\n      <td>districtname_ENUMCLAW</td>\n      <td>1542.989372</td>\n      <td>1518.934097</td>\n      <td>0.015590</td>\n    </tr>\n    <tr>\n      <th>19</th>\n      <td>districtname_KIRKLAND</td>\n      <td>12174.971061</td>\n      <td>11974.430597</td>\n      <td>0.016472</td>\n    </tr>\n    <tr>\n      <th>20</th>\n      <td>districtname_LAKE FOREST PARK</td>\n      <td>2356.165461</td>\n      <td>2316.534985</td>\n      <td>0.016820</td>\n    </tr>\n    <tr>\n      <th>6</th>\n      <td>districtname_BURIEN</td>\n      <td>5987.261315</td>\n      <td>5880.261436</td>\n      <td>0.017871</td>\n    </tr>\n    <tr>\n      <th>25</th>\n      <td>districtname_NEWCASTLE</td>\n      <td>1343.362713</td>\n      <td>1316.736932</td>\n      <td>0.019820</td>\n    </tr>\n    <tr>\n      <th>18</th>\n      <td>districtname_KING COUNTY</td>\n      <td>34836.601254</td>\n      <td>34132.757024</td>\n      <td>0.020204</td>\n    </tr>\n    <tr>\n      <th>33</th>\n      <td>districtname_SHORELINE</td>\n      <td>8191.248300</td>\n      <td>8021.953512</td>\n      <td>0.020668</td>\n    </tr>\n    <tr>\n      <th>21</th>\n      <td>districtname_MAPLE VALLEY</td>\n      <td>3765.769069</td>\n      <td>3685.827598</td>\n      <td>0.021228</td>\n    </tr>\n    <tr>\n      <th>23</th>\n      <td>districtname_MERCER ISLAND</td>\n      <td>4159.191538</td>\n      <td>4049.510569</td>\n      <td>0.026371</td>\n    </tr>\n    <tr>\n      <th>8</th>\n      <td>districtname_CLYDE HILL</td>\n      <td>425.000000</td>\n      <td>413.186134</td>\n      <td>0.027797</td>\n    </tr>\n    <tr>\n      <th>30</th>\n      <td>districtname_RENTON</td>\n      <td>11376.085371</td>\n      <td>11024.652650</td>\n      <td>0.030892</td>\n    </tr>\n    <tr>\n      <th>16</th>\n      <td>districtname_KENMORE</td>\n      <td>3138.049944</td>\n      <td>3039.369431</td>\n      <td>0.031446</td>\n    </tr>\n    <tr>\n      <th>5</th>\n      <td>districtname_BOTHELL</td>\n      <td>3354.298278</td>\n      <td>3247.924221</td>\n      <td>0.031713</td>\n    </tr>\n    <tr>\n      <th>11</th>\n      <td>districtname_DUVALL</td>\n      <td>1127.222100</td>\n      <td>1090.344401</td>\n      <td>0.032716</td>\n    </tr>\n    <tr>\n      <th>34</th>\n      <td>districtname_SKYKOMISH</td>\n      <td>20.250000</td>\n      <td>20.936596</td>\n      <td>0.033906</td>\n    </tr>\n    <tr>\n      <th>28</th>\n      <td>districtname_PACIFIC</td>\n      <td>578.669486</td>\n      <td>558.840087</td>\n      <td>0.034267</td>\n    </tr>\n    <tr>\n      <th>15</th>\n      <td>districtname_ISSAQUAH</td>\n      <td>5203.937668</td>\n      <td>4986.198676</td>\n      <td>0.041841</td>\n    </tr>\n    <tr>\n      <th>31</th>\n      <td>districtname_SAMMAMISH</td>\n      <td>8656.518356</td>\n      <td>8233.443054</td>\n      <td>0.048874</td>\n    </tr>\n    <tr>\n      <th>26</th>\n      <td>districtname_NORMANDY PARK</td>\n      <td>689.472491</td>\n      <td>725.392927</td>\n      <td>0.052098</td>\n    </tr>\n    <tr>\n      <th>35</th>\n      <td>districtname_SNOQUALMIE</td>\n      <td>1822.376111</td>\n      <td>1723.402767</td>\n      <td>0.054310</td>\n    </tr>\n    <tr>\n      <th>27</th>\n      <td>districtname_NORTH BEND</td>\n      <td>1070.973686</td>\n      <td>1009.966892</td>\n      <td>0.056964</td>\n    </tr>\n    <tr>\n      <th>4</th>\n      <td>districtname_BLACK DIAMOND</td>\n      <td>648.750000</td>\n      <td>602.695941</td>\n      <td>0.070989</td>\n    </tr>\n    <tr>\n      <th>37</th>\n      <td>districtname_TUKWILA</td>\n      <td>1911.730058</td>\n      <td>1773.011244</td>\n      <td>0.072562</td>\n    </tr>\n    <tr>\n      <th>0</th>\n      <td>districtname_ALGONA</td>\n      <td>257.000000</td>\n      <td>237.506231</td>\n      <td>0.075851</td>\n    </tr>\n    <tr>\n      <th>7</th>\n      <td>districtname_CARNATION</td>\n      <td>300.394689</td>\n      <td>266.541141</td>\n      <td>0.112697</td>\n    </tr>\n    <tr>\n      <th>24</th>\n      <td>districtname_MILTON</td>\n      <td>104.555472</td>\n      <td>87.372042</td>\n      <td>0.164348</td>\n    </tr>\n    <tr>\n      <th>39</th>\n      <td>districtname_YARROW POINT</td>\n      <td>202.500000</td>\n      <td>130.480153</td>\n      <td>0.355654</td>\n    </tr>\n    <tr>\n      <th>22</th>\n      <td>districtname_MEDINA</td>\n      <td>510.000000</td>\n      <td>303.733716</td>\n      <td>0.404444</td>\n    </tr>\n    <tr>\n      <th>14</th>\n      <td>districtname_HUNTS POINT</td>\n      <td>97.000000</td>\n      <td>51.404397</td>\n      <td>0.470058</td>\n    </tr>\n    <tr>\n      <th>2</th>\n      <td>districtname_BEAUX ARTS</td>\n      <td>46.000000</td>\n      <td>23.724440</td>\n      <td>0.484251</td>\n    </tr>\n  </tbody>\n</table>\n</div>"
     },
     "metadata": {}
    }
   ],
   "source": [
    "for key, val in preds.items():\n",
    "    print(key)\n",
    "    groups=[]\n",
    "    tr = aggregate_errors_2(val[0], val[1], city_index).dropna().sort_values(by='Error')\n",
    "    tr['RMSE'] = np.sqrt(tr['Error']**2)\n",
    "    #groups.append((test[0], np.sqrt((tr['Error'] * tr['Error']).mean())))\n",
    "    #group_error = pd.DataFrame(groups, columns=['Sample Size','RMSE'])\n",
    "    display(tr[['Sample', 'Actual', 'Predicted', 'RMSE']].sort_values(by='RMSE'))"
   ]
  },
  {
   "cell_type": "markdown",
   "metadata": {},
   "source": [
    "## Accuracy by Housing Type"
   ]
  },
  {
   "cell_type": "code",
   "execution_count": 11,
   "metadata": {},
   "outputs": [],
   "source": [
    "htypes = [\n",
    "    'apartment',\n",
    "    'single_family',\n",
    "    'duplex',\n",
    "    'triplex',\n",
    "    'fourplex',\n",
    "    'townhouse',\n",
    "    'senior_housing',\n",
    "    'student_housing',\n",
    "    'mobile_home'\n",
    "]"
   ]
  },
  {
   "cell_type": "code",
   "execution_count": 12,
   "metadata": {},
   "outputs": [],
   "source": [
    "housing_cols = [string for string in homes.columns if string in htypes]\n",
    "housing_index = { house : X_test[X_test[house] == 1].index for house in housing_cols}"
   ]
  },
  {
   "cell_type": "code",
   "execution_count": 19,
   "metadata": {},
   "outputs": [
    {
     "output_type": "stream",
     "name": "stdout",
     "text": [
      "Random Forest - Registered Voters\n"
     ]
    },
    {
     "output_type": "display_data",
     "data": {
      "text/plain": "           Sample         Actual      Predicted      RMSE\n6  senior_housing    2652.526647    2655.069881  0.000959\n5       apartment   59794.476257   59644.425805  0.002509\n0   single_family  249880.849645  250824.784040  0.003778\n4       townhouse    7039.352460    7098.749030  0.008438\n3        fourplex    2235.358974    2255.890707  0.009185\n1          duplex    3961.557530    4010.007816  0.012230\n2         triplex    1622.583333    1647.079199  0.015097\n8     mobile_home     313.885408     305.809191  0.025730",
      "text/html": "<div>\n<style scoped>\n    .dataframe tbody tr th:only-of-type {\n        vertical-align: middle;\n    }\n\n    .dataframe tbody tr th {\n        vertical-align: top;\n    }\n\n    .dataframe thead th {\n        text-align: right;\n    }\n</style>\n<table border=\"1\" class=\"dataframe\">\n  <thead>\n    <tr style=\"text-align: right;\">\n      <th></th>\n      <th>Sample</th>\n      <th>Actual</th>\n      <th>Predicted</th>\n      <th>RMSE</th>\n    </tr>\n  </thead>\n  <tbody>\n    <tr>\n      <th>6</th>\n      <td>senior_housing</td>\n      <td>2652.526647</td>\n      <td>2655.069881</td>\n      <td>0.000959</td>\n    </tr>\n    <tr>\n      <th>5</th>\n      <td>apartment</td>\n      <td>59794.476257</td>\n      <td>59644.425805</td>\n      <td>0.002509</td>\n    </tr>\n    <tr>\n      <th>0</th>\n      <td>single_family</td>\n      <td>249880.849645</td>\n      <td>250824.784040</td>\n      <td>0.003778</td>\n    </tr>\n    <tr>\n      <th>4</th>\n      <td>townhouse</td>\n      <td>7039.352460</td>\n      <td>7098.749030</td>\n      <td>0.008438</td>\n    </tr>\n    <tr>\n      <th>3</th>\n      <td>fourplex</td>\n      <td>2235.358974</td>\n      <td>2255.890707</td>\n      <td>0.009185</td>\n    </tr>\n    <tr>\n      <th>1</th>\n      <td>duplex</td>\n      <td>3961.557530</td>\n      <td>4010.007816</td>\n      <td>0.012230</td>\n    </tr>\n    <tr>\n      <th>2</th>\n      <td>triplex</td>\n      <td>1622.583333</td>\n      <td>1647.079199</td>\n      <td>0.015097</td>\n    </tr>\n    <tr>\n      <th>8</th>\n      <td>mobile_home</td>\n      <td>313.885408</td>\n      <td>305.809191</td>\n      <td>0.025730</td>\n    </tr>\n  </tbody>\n</table>\n</div>"
     },
     "metadata": {}
    },
    {
     "output_type": "stream",
     "name": "stdout",
     "text": [
      "Neural Network Regression - Registered Voters\n"
     ]
    },
    {
     "output_type": "display_data",
     "data": {
      "text/plain": "           Sample         Actual      Predicted      RMSE\n0   single_family  249880.849645  254935.454005  0.020228\n4       townhouse    7039.352460    7223.309990  0.026133\n2         triplex    1622.583333    1680.314838  0.035580\n3        fourplex    2235.358974    2040.604963  0.087124\n8     mobile_home     313.885408     279.840736  0.108462\n1          duplex    3961.557530    4400.812103  0.110879\n5       apartment   59794.476257   50113.593654  0.161903\n6  senior_housing    2652.526647    1900.891696  0.283366",
      "text/html": "<div>\n<style scoped>\n    .dataframe tbody tr th:only-of-type {\n        vertical-align: middle;\n    }\n\n    .dataframe tbody tr th {\n        vertical-align: top;\n    }\n\n    .dataframe thead th {\n        text-align: right;\n    }\n</style>\n<table border=\"1\" class=\"dataframe\">\n  <thead>\n    <tr style=\"text-align: right;\">\n      <th></th>\n      <th>Sample</th>\n      <th>Actual</th>\n      <th>Predicted</th>\n      <th>RMSE</th>\n    </tr>\n  </thead>\n  <tbody>\n    <tr>\n      <th>0</th>\n      <td>single_family</td>\n      <td>249880.849645</td>\n      <td>254935.454005</td>\n      <td>0.020228</td>\n    </tr>\n    <tr>\n      <th>4</th>\n      <td>townhouse</td>\n      <td>7039.352460</td>\n      <td>7223.309990</td>\n      <td>0.026133</td>\n    </tr>\n    <tr>\n      <th>2</th>\n      <td>triplex</td>\n      <td>1622.583333</td>\n      <td>1680.314838</td>\n      <td>0.035580</td>\n    </tr>\n    <tr>\n      <th>3</th>\n      <td>fourplex</td>\n      <td>2235.358974</td>\n      <td>2040.604963</td>\n      <td>0.087124</td>\n    </tr>\n    <tr>\n      <th>8</th>\n      <td>mobile_home</td>\n      <td>313.885408</td>\n      <td>279.840736</td>\n      <td>0.108462</td>\n    </tr>\n    <tr>\n      <th>1</th>\n      <td>duplex</td>\n      <td>3961.557530</td>\n      <td>4400.812103</td>\n      <td>0.110879</td>\n    </tr>\n    <tr>\n      <th>5</th>\n      <td>apartment</td>\n      <td>59794.476257</td>\n      <td>50113.593654</td>\n      <td>0.161903</td>\n    </tr>\n    <tr>\n      <th>6</th>\n      <td>senior_housing</td>\n      <td>2652.526647</td>\n      <td>1900.891696</td>\n      <td>0.283366</td>\n    </tr>\n  </tbody>\n</table>\n</div>"
     },
     "metadata": {}
    },
    {
     "output_type": "stream",
     "name": "stdout",
     "text": [
      "Random Forest - 2019 Voters\n"
     ]
    },
    {
     "output_type": "display_data",
     "data": {
      "text/plain": "           Sample         Actual      Predicted      RMSE\n5       apartment   16719.158180   16713.400683  0.000344\n3        fourplex     610.369872     610.632775  0.000431\n6  senior_housing    1504.545516    1505.646930  0.000732\n1          duplex    1476.804021    1478.197362  0.000943\n4       townhouse    3030.445188    3017.846543  0.004157\n0   single_family  114965.017507  115596.661884  0.005494\n2         triplex     577.466667     608.748121  0.054170\n8     mobile_home     159.578582     150.770274  0.055197",
      "text/html": "<div>\n<style scoped>\n    .dataframe tbody tr th:only-of-type {\n        vertical-align: middle;\n    }\n\n    .dataframe tbody tr th {\n        vertical-align: top;\n    }\n\n    .dataframe thead th {\n        text-align: right;\n    }\n</style>\n<table border=\"1\" class=\"dataframe\">\n  <thead>\n    <tr style=\"text-align: right;\">\n      <th></th>\n      <th>Sample</th>\n      <th>Actual</th>\n      <th>Predicted</th>\n      <th>RMSE</th>\n    </tr>\n  </thead>\n  <tbody>\n    <tr>\n      <th>5</th>\n      <td>apartment</td>\n      <td>16719.158180</td>\n      <td>16713.400683</td>\n      <td>0.000344</td>\n    </tr>\n    <tr>\n      <th>3</th>\n      <td>fourplex</td>\n      <td>610.369872</td>\n      <td>610.632775</td>\n      <td>0.000431</td>\n    </tr>\n    <tr>\n      <th>6</th>\n      <td>senior_housing</td>\n      <td>1504.545516</td>\n      <td>1505.646930</td>\n      <td>0.000732</td>\n    </tr>\n    <tr>\n      <th>1</th>\n      <td>duplex</td>\n      <td>1476.804021</td>\n      <td>1478.197362</td>\n      <td>0.000943</td>\n    </tr>\n    <tr>\n      <th>4</th>\n      <td>townhouse</td>\n      <td>3030.445188</td>\n      <td>3017.846543</td>\n      <td>0.004157</td>\n    </tr>\n    <tr>\n      <th>0</th>\n      <td>single_family</td>\n      <td>114965.017507</td>\n      <td>115596.661884</td>\n      <td>0.005494</td>\n    </tr>\n    <tr>\n      <th>2</th>\n      <td>triplex</td>\n      <td>577.466667</td>\n      <td>608.748121</td>\n      <td>0.054170</td>\n    </tr>\n    <tr>\n      <th>8</th>\n      <td>mobile_home</td>\n      <td>159.578582</td>\n      <td>150.770274</td>\n      <td>0.055197</td>\n    </tr>\n  </tbody>\n</table>\n</div>"
     },
     "metadata": {}
    },
    {
     "output_type": "stream",
     "name": "stdout",
     "text": [
      "Neural Network Regression - 2019 Voters\n"
     ]
    },
    {
     "output_type": "display_data",
     "data": {
      "text/plain": "           Sample         Actual      Predicted      RMSE\n3        fourplex     610.369872     614.148264  0.006190\n0   single_family  114965.017507  113387.295477  0.013723\n1          duplex    1476.804021    1504.698392  0.018888\n5       apartment   16719.158180   17072.270303  0.021120\n2         triplex     577.466667     564.757889  0.022008\n4       townhouse    3030.445188    2959.449128  0.023428\n6  senior_housing    1504.545516    1453.146299  0.034163\n8     mobile_home     159.578582     130.089792  0.184792",
      "text/html": "<div>\n<style scoped>\n    .dataframe tbody tr th:only-of-type {\n        vertical-align: middle;\n    }\n\n    .dataframe tbody tr th {\n        vertical-align: top;\n    }\n\n    .dataframe thead th {\n        text-align: right;\n    }\n</style>\n<table border=\"1\" class=\"dataframe\">\n  <thead>\n    <tr style=\"text-align: right;\">\n      <th></th>\n      <th>Sample</th>\n      <th>Actual</th>\n      <th>Predicted</th>\n      <th>RMSE</th>\n    </tr>\n  </thead>\n  <tbody>\n    <tr>\n      <th>3</th>\n      <td>fourplex</td>\n      <td>610.369872</td>\n      <td>614.148264</td>\n      <td>0.006190</td>\n    </tr>\n    <tr>\n      <th>0</th>\n      <td>single_family</td>\n      <td>114965.017507</td>\n      <td>113387.295477</td>\n      <td>0.013723</td>\n    </tr>\n    <tr>\n      <th>1</th>\n      <td>duplex</td>\n      <td>1476.804021</td>\n      <td>1504.698392</td>\n      <td>0.018888</td>\n    </tr>\n    <tr>\n      <th>5</th>\n      <td>apartment</td>\n      <td>16719.158180</td>\n      <td>17072.270303</td>\n      <td>0.021120</td>\n    </tr>\n    <tr>\n      <th>2</th>\n      <td>triplex</td>\n      <td>577.466667</td>\n      <td>564.757889</td>\n      <td>0.022008</td>\n    </tr>\n    <tr>\n      <th>4</th>\n      <td>townhouse</td>\n      <td>3030.445188</td>\n      <td>2959.449128</td>\n      <td>0.023428</td>\n    </tr>\n    <tr>\n      <th>6</th>\n      <td>senior_housing</td>\n      <td>1504.545516</td>\n      <td>1453.146299</td>\n      <td>0.034163</td>\n    </tr>\n    <tr>\n      <th>8</th>\n      <td>mobile_home</td>\n      <td>159.578582</td>\n      <td>130.089792</td>\n      <td>0.184792</td>\n    </tr>\n  </tbody>\n</table>\n</div>"
     },
     "metadata": {}
    },
    {
     "output_type": "stream",
     "name": "stdout",
     "text": [
      "Random Forest - 2020 Voters\n"
     ]
    },
    {
     "output_type": "display_data",
     "data": {
      "text/plain": "           Sample         Actual      Predicted      RMSE\n6  senior_housing    2032.964824    2033.171594  0.000102\n3        fourplex    1567.817949    1569.035525  0.000777\n5       apartment   41987.903225   41882.981701  0.002499\n0   single_family  202247.673392  202818.624523  0.002823\n1          duplex    2966.606277    2991.836718  0.008505\n2         triplex    1210.083333    1230.755636  0.017083\n4       townhouse    5618.548988    5489.541046  0.022961\n8     mobile_home     259.421984     251.634855  0.030017",
      "text/html": "<div>\n<style scoped>\n    .dataframe tbody tr th:only-of-type {\n        vertical-align: middle;\n    }\n\n    .dataframe tbody tr th {\n        vertical-align: top;\n    }\n\n    .dataframe thead th {\n        text-align: right;\n    }\n</style>\n<table border=\"1\" class=\"dataframe\">\n  <thead>\n    <tr style=\"text-align: right;\">\n      <th></th>\n      <th>Sample</th>\n      <th>Actual</th>\n      <th>Predicted</th>\n      <th>RMSE</th>\n    </tr>\n  </thead>\n  <tbody>\n    <tr>\n      <th>6</th>\n      <td>senior_housing</td>\n      <td>2032.964824</td>\n      <td>2033.171594</td>\n      <td>0.000102</td>\n    </tr>\n    <tr>\n      <th>3</th>\n      <td>fourplex</td>\n      <td>1567.817949</td>\n      <td>1569.035525</td>\n      <td>0.000777</td>\n    </tr>\n    <tr>\n      <th>5</th>\n      <td>apartment</td>\n      <td>41987.903225</td>\n      <td>41882.981701</td>\n      <td>0.002499</td>\n    </tr>\n    <tr>\n      <th>0</th>\n      <td>single_family</td>\n      <td>202247.673392</td>\n      <td>202818.624523</td>\n      <td>0.002823</td>\n    </tr>\n    <tr>\n      <th>1</th>\n      <td>duplex</td>\n      <td>2966.606277</td>\n      <td>2991.836718</td>\n      <td>0.008505</td>\n    </tr>\n    <tr>\n      <th>2</th>\n      <td>triplex</td>\n      <td>1210.083333</td>\n      <td>1230.755636</td>\n      <td>0.017083</td>\n    </tr>\n    <tr>\n      <th>4</th>\n      <td>townhouse</td>\n      <td>5618.548988</td>\n      <td>5489.541046</td>\n      <td>0.022961</td>\n    </tr>\n    <tr>\n      <th>8</th>\n      <td>mobile_home</td>\n      <td>259.421984</td>\n      <td>251.634855</td>\n      <td>0.030017</td>\n    </tr>\n  </tbody>\n</table>\n</div>"
     },
     "metadata": {}
    },
    {
     "output_type": "stream",
     "name": "stdout",
     "text": [
      "Neural Network Regression - 2020 Voters\n"
     ]
    },
    {
     "output_type": "display_data",
     "data": {
      "text/plain": "           Sample         Actual      Predicted      RMSE\n3        fourplex    1567.817949    1557.450270  0.006613\n5       apartment   41987.903225   42298.559992  0.007399\n0   single_family  202247.673392  197756.910856  0.022204\n1          duplex    2966.606277    3036.821827  0.023669\n6  senior_housing    2032.964824    1982.716823  0.024717\n2         triplex    1210.083333    1242.919038  0.027135\n4       townhouse    5618.548988    5289.885259  0.058496\n8     mobile_home     259.421984     219.275274  0.154754",
      "text/html": "<div>\n<style scoped>\n    .dataframe tbody tr th:only-of-type {\n        vertical-align: middle;\n    }\n\n    .dataframe tbody tr th {\n        vertical-align: top;\n    }\n\n    .dataframe thead th {\n        text-align: right;\n    }\n</style>\n<table border=\"1\" class=\"dataframe\">\n  <thead>\n    <tr style=\"text-align: right;\">\n      <th></th>\n      <th>Sample</th>\n      <th>Actual</th>\n      <th>Predicted</th>\n      <th>RMSE</th>\n    </tr>\n  </thead>\n  <tbody>\n    <tr>\n      <th>3</th>\n      <td>fourplex</td>\n      <td>1567.817949</td>\n      <td>1557.450270</td>\n      <td>0.006613</td>\n    </tr>\n    <tr>\n      <th>5</th>\n      <td>apartment</td>\n      <td>41987.903225</td>\n      <td>42298.559992</td>\n      <td>0.007399</td>\n    </tr>\n    <tr>\n      <th>0</th>\n      <td>single_family</td>\n      <td>202247.673392</td>\n      <td>197756.910856</td>\n      <td>0.022204</td>\n    </tr>\n    <tr>\n      <th>1</th>\n      <td>duplex</td>\n      <td>2966.606277</td>\n      <td>3036.821827</td>\n      <td>0.023669</td>\n    </tr>\n    <tr>\n      <th>6</th>\n      <td>senior_housing</td>\n      <td>2032.964824</td>\n      <td>1982.716823</td>\n      <td>0.024717</td>\n    </tr>\n    <tr>\n      <th>2</th>\n      <td>triplex</td>\n      <td>1210.083333</td>\n      <td>1242.919038</td>\n      <td>0.027135</td>\n    </tr>\n    <tr>\n      <th>4</th>\n      <td>townhouse</td>\n      <td>5618.548988</td>\n      <td>5289.885259</td>\n      <td>0.058496</td>\n    </tr>\n    <tr>\n      <th>8</th>\n      <td>mobile_home</td>\n      <td>259.421984</td>\n      <td>219.275274</td>\n      <td>0.154754</td>\n    </tr>\n  </tbody>\n</table>\n</div>"
     },
     "metadata": {}
    }
   ],
   "source": [
    "for key, val in preds.items():\n",
    "    print(key)\n",
    "    tr = aggregate_errors_2(val[0], val[1], housing_index).dropna().sort_values(by='Error')\n",
    "    tr['RMSE'] = np.sqrt(tr['Error']**2)\n",
    "    #groups.append((test[0], np.sqrt((tr['Error'] * tr['Error']).mean())))\n",
    "    #group_error = pd.DataFrame(groups, columns=['Sample Size','RMSE'])\n",
    "    display(tr[['Sample', 'Actual', 'Predicted', 'RMSE']].sort_values(by='RMSE'))"
   ]
  }
 ],
 "metadata": {
  "kernelspec": {
   "display_name": "Python 3",
   "language": "python",
   "name": "python3"
  },
  "language_info": {
   "codemirror_mode": {
    "name": "ipython",
    "version": 3
   },
   "file_extension": ".py",
   "mimetype": "text/x-python",
   "name": "python",
   "nbconvert_exporter": "python",
   "pygments_lexer": "ipython3",
   "version": "3.7.8-final"
  }
 },
 "nbformat": 4,
 "nbformat_minor": 2
}