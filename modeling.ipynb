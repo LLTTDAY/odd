{
 "cells": [
  {
   "cell_type": "code",
   "execution_count": 14,
   "metadata": {},
   "outputs": [],
   "source": [
    "import pandas as pd\n",
    "import numpy as np\n",
    "from sklearn.ensemble import RandomForestRegressor\n",
    "from sklearn.model_selection import RandomizedSearchCV\n",
    "from sklearn.model_selection import train_test_split as tts\n",
    "from sklearn import preprocessing\n",
    "from sklearn.model_selection import KFold\n",
    "from cats import dummify\n",
    "#from texter import send\n",
    "import pickle\n",
    "%config InlineBackend.figure_formats = set(['retina'])\n",
    "%matplotlib inline\n",
    "import matplotlib as mpl\n",
    "import matplotlib.pyplot as plt\n",
    "import seaborn as sns\n",
    "import altair as alt\n",
    "#from modeling_functions import feature_importance, aggregate_samples, aggregate_errors, plot_agg_error\n",
    "from IPython.display import display"
   ]
  },
  {
   "cell_type": "code",
   "execution_count": 13,
   "metadata": {},
   "outputs": [],
   "source": [
    "pd.options.display.max_columns, pd.options.display.max_rows = 200,1000"
   ]
  },
  {
   "cell_type": "code",
   "execution_count": 10,
   "metadata": {},
   "outputs": [
    {
     "output_type": "execute_result",
     "data": {
      "text/plain": [
       "ThemeRegistry.enable('dark')"
      ]
     },
     "metadata": {},
     "execution_count": 10
    }
   ],
   "source": [
    "alt.themes.enable('dark')"
   ]
  },
  {
   "cell_type": "code",
   "execution_count": 12,
   "metadata": {},
   "outputs": [],
   "source": [
    "homes = pd.read_pickle('data/home_votes')"
   ]
  },
  {
   "cell_type": "code",
   "execution_count": 15,
   "metadata": {},
   "outputs": [],
   "source": [
    "homes = pd.get_dummies(homes,columns=dummify)"
   ]
  },
  {
   "cell_type": "code",
   "execution_count": 16,
   "metadata": {},
   "outputs": [],
   "source": [
    "# house_types = homes['house_types']\n",
    "extra_cats = [x for x in homes.columns if '_0' in x]\n",
    "# homes.drop(columns=['house_types'])\n",
    "homes.drop(columns=extra_cats, inplace=True)"
   ]
  },
  {
   "cell_type": "markdown",
   "metadata": {},
   "source": [
    "-----\n",
    "## Train and Test Splits"
   ]
  },
  {
   "cell_type": "code",
   "execution_count": 17,
   "metadata": {},
   "outputs": [],
   "source": [
    "validation = homes.sample(125000, random_state=42)"
   ]
  },
  {
   "cell_type": "markdown",
   "metadata": {},
   "source": [
    "#### Splits on a 10% sample - model validation"
   ]
  },
  {
   "cell_type": "code",
   "execution_count": 18,
   "metadata": {},
   "outputs": [],
   "source": [
    "# Create splits that don't mix same-building units between train and test\n",
    "train_parcel = validation['pin'].sample(frac=.6, random_state=42)\n",
    "#test_indicesf = open('split_indeces', 'rb')\n",
    "#split_indices = pickle.load(test_indicesf)\n",
    "#test_indicesf.close()\n",
    "#train_parcel = split_indices[0]\n",
    "X_train_parcel = validation[validation.index.isin(train_parcel.index)].drop(columns=['vpu', 'pin','v19pu','v20pu'])\n",
    "X_test_parcel = validation[~validation.index.isin(train_parcel.index)].drop(columns=['vpu', 'pin','v19pu','v20pu'])\n",
    "\n",
    "# Targets for three models\n",
    "y_train_parcel_rv = homes[homes.index.isin(train_parcel.index)]['vpu']\n",
    "y_train_parcel_19 = homes[homes.index.isin(train_parcel.index)]['v19pu']\n",
    "y_train_parcel_20 = homes[homes.index.isin(train_parcel.index)]['v20pu']\n",
    "y_test_parcel_rv = homes[~homes.index.isin(train_parcel.index)]['vpu']\n",
    "y_test_parcel_19 = homes[~homes.index.isin(train_parcel.index)]['v19pu']\n",
    "y_test_parcel_20 = homes[~homes.index.isin(train_parcel.index)]['v20pu']"
   ]
  },
  {
   "cell_type": "markdown",
   "metadata": {},
   "source": [
    "#### Splits on the full data - model training"
   ]
  },
  {
   "cell_type": "code",
   "execution_count": 20,
   "metadata": {},
   "outputs": [
    {
     "output_type": "error",
     "ename": "NameError",
     "evalue": "name 'aggregate_samples' is not defined",
     "traceback": [
      "\u001b[0;31m---------------------------------------------------------------------------\u001b[0m",
      "\u001b[0;31mNameError\u001b[0m                                 Traceback (most recent call last)",
      "\u001b[0;32m<ipython-input-20-1f9008f0ca03>\u001b[0m in \u001b[0;36m<module>\u001b[0;34m\u001b[0m\n\u001b[1;32m     14\u001b[0m \u001b[0;34m\u001b[0m\u001b[0m\n\u001b[1;32m     15\u001b[0m \u001b[0;31m# create 100 samples of 1,000 households each to test aggregate accuracy\u001b[0m\u001b[0;34m\u001b[0m\u001b[0;34m\u001b[0m\u001b[0;34m\u001b[0m\u001b[0m\n\u001b[0;32m---> 16\u001b[0;31m \u001b[0mtests\u001b[0m \u001b[0;34m=\u001b[0m \u001b[0maggregate_samples\u001b[0m\u001b[0;34m(\u001b[0m\u001b[0mX_test_parcel_full\u001b[0m\u001b[0;34m,\u001b[0m \u001b[0;36m100\u001b[0m\u001b[0;34m,\u001b[0m \u001b[0;36m1000\u001b[0m\u001b[0;34m)\u001b[0m\u001b[0;34m\u001b[0m\u001b[0;34m\u001b[0m\u001b[0m\n\u001b[0m",
      "\u001b[0;31mNameError\u001b[0m: name 'aggregate_samples' is not defined"
     ]
    }
   ],
   "source": [
    "# Create splits that don't mix same-building units between train and test\n",
    "train_parcel_a = homes[~homes.index.isin(train_parcel.index)]['pin'].sample(frac=.7, random_state=42).index\n",
    "train_parcel_full = train_parcel_a.union(train_parcel.index)\n",
    "X_train_parcel_full = homes[homes.index.isin(train_parcel_full)].drop(columns=['vpu', 'pin','v19pu','v20pu'])\n",
    "X_test_parcel_full = homes[~homes.index.isin(train_parcel_full)].drop(columns=['vpu', 'pin','v19pu','v20pu'])\n",
    "\n",
    "# Targets for three models\n",
    "y_train_parcel_rv_full = homes[homes.index.isin(train_parcel_full)]['vpu']\n",
    "y_train_parcel_19_full = homes[homes.index.isin(train_parcel_full)]['v19pu']\n",
    "y_train_parcel_20_full = homes[homes.index.isin(train_parcel_full)]['v20pu']\n",
    "y_test_parcel_rv_full = homes[~homes.index.isin(train_parcel_full)]['vpu']\n",
    "y_test_parcel_19_full = homes[~homes.index.isin(train_parcel_full)]['v19pu']\n",
    "y_test_parcel_20_full = homes[~homes.index.isin(train_parcel_full)]['v20pu']\n",
    "\n",
    "# create 100 samples of 1,000 households each to test aggregate accuracy\n",
    "tests = aggregate_samples(X_test_parcel_full, 100, 1000)"
   ]
  },
  {
   "cell_type": "code",
   "execution_count": 10,
   "metadata": {},
   "outputs": [],
   "source": [
    "splits = [validation['pin'].index,train_parcel.index,train_parcel_full]\n",
    "with open('split_indeces', 'wb') as file:\n",
    "    pickle.dump(splits, file)"
   ]
  },
  {
   "cell_type": "markdown",
   "metadata": {},
   "source": [
    "-----\n",
    "## Random Forest Regression"
   ]
  },
  {
   "cell_type": "code",
   "execution_count": 11,
   "metadata": {},
   "outputs": [],
   "source": [
    "random_grid = {'bootstrap': [True, False],\n",
    "               'max_depth': [10, 20, 30, 40, 50, 60, 70, 80, 90, 100, None],\n",
    "               'max_features': ['auto', 'sqrt'],\n",
    "               'min_samples_leaf': [1, 2, 4],\n",
    "               'min_samples_split': [2, 5, 10],\n",
    "               'n_estimators': [100,200,400]}\n",
    "rfr = RandomForestRegressor(verbose=0,n_jobs=-1)\n",
    "rf_random = RandomizedSearchCV(estimator=rfr, param_distributions= random_grid, scoring=\"neg_mean_squared_error\", n_iter = 15, cv = 3, verbose=0, random_state=42, n_jobs = -1)"
   ]
  },
  {
   "cell_type": "markdown",
   "metadata": {},
   "source": [
    "-----\n",
    "### Registered Voters Per Household"
   ]
  },
  {
   "cell_type": "code",
   "execution_count": 13,
   "metadata": {},
   "outputs": [
    {
     "name": "stderr",
     "output_type": "stream",
     "text": [
      "[Parallel(n_jobs=-1)]: Using backend ThreadingBackend with 8 concurrent workers.\n",
      "[Parallel(n_jobs=-1)]: Done  34 tasks      | elapsed:   17.7s\n",
      "[Parallel(n_jobs=-1)]: Done 184 tasks      | elapsed:  1.4min\n",
      "[Parallel(n_jobs=-1)]: Done 200 out of 200 | elapsed:  1.5min finished\n",
      "[Parallel(n_jobs=8)]: Using backend ThreadingBackend with 8 concurrent workers.\n",
      "[Parallel(n_jobs=8)]: Done  34 tasks      | elapsed:    0.1s\n",
      "[Parallel(n_jobs=8)]: Done 184 tasks      | elapsed:    0.4s\n",
      "[Parallel(n_jobs=8)]: Done 200 out of 200 | elapsed:    0.5s finished\n",
      "Accuracy on subset: 0.42997231090026167\n",
      "[Parallel(n_jobs=-1)]: Using backend ThreadingBackend with 8 concurrent workers.\n",
      "[Parallel(n_jobs=-1)]: Done  34 tasks      | elapsed:  4.1min\n",
      "[Parallel(n_jobs=-1)]: Done 184 tasks      | elapsed: 20.4min\n",
      "[Parallel(n_jobs=-1)]: Done 200 out of 200 | elapsed: 21.8min finished\n",
      "[Parallel(n_jobs=8)]: Using backend ThreadingBackend with 8 concurrent workers.\n",
      "[Parallel(n_jobs=8)]: Done  34 tasks      | elapsed:    0.6s\n",
      "[Parallel(n_jobs=8)]: Done 184 tasks      | elapsed:    2.5s\n",
      "[Parallel(n_jobs=8)]: Done 200 out of 200 | elapsed:    2.7s finished\n",
      "Accuracy on full: 0.7588658670672809\n"
     ]
    }
   ],
   "source": [
    "rf_random.fit(X_train_parcel,y_train_parcel_rv)\n",
    "rfrv = rf_random.best_estimator_\n",
    "print('Accuracy on subset: ' + str(rfrv.score(X_test_parcel, y_test_parcel_rv)))\n",
    "rfrv.fit(X_train_parcel_full, y_train_parcel_rv_full)\n",
    "print('Accuracy on full: ' + str(rfrv.score(X_test_parcel_full, y_test_parcel_rv_full)))\n",
    "with open('rfrv', 'wb') as file:\n",
    "    pickle.dump(rfrv, file)\n",
    "send('Done with RV')"
   ]
  },
  {
   "cell_type": "markdown",
   "metadata": {},
   "source": [
    "#### Feature Importances"
   ]
  },
  {
   "cell_type": "code",
   "execution_count": 14,
   "metadata": {},
   "outputs": [
    {
     "data": {
      "text/html": [
       "\n",
       "<div id=\"altair-viz-dfde50ae6be74b2eb71718f7180c5b14\"></div>\n",
       "<script type=\"text/javascript\">\n",
       "  (function(spec, embedOpt){\n",
       "    let outputDiv = document.currentScript.previousElementSibling;\n",
       "    if (outputDiv.id !== \"altair-viz-dfde50ae6be74b2eb71718f7180c5b14\") {\n",
       "      outputDiv = document.getElementById(\"altair-viz-dfde50ae6be74b2eb71718f7180c5b14\");\n",
       "    }\n",
       "    const paths = {\n",
       "      \"vega\": \"https://cdn.jsdelivr.net/npm//vega@5?noext\",\n",
       "      \"vega-lib\": \"https://cdn.jsdelivr.net/npm//vega-lib?noext\",\n",
       "      \"vega-lite\": \"https://cdn.jsdelivr.net/npm//vega-lite@4.8.1?noext\",\n",
       "      \"vega-embed\": \"https://cdn.jsdelivr.net/npm//vega-embed@6?noext\",\n",
       "    };\n",
       "\n",
       "    function loadScript(lib) {\n",
       "      return new Promise(function(resolve, reject) {\n",
       "        var s = document.createElement('script');\n",
       "        s.src = paths[lib];\n",
       "        s.async = true;\n",
       "        s.onload = () => resolve(paths[lib]);\n",
       "        s.onerror = () => reject(`Error loading script: ${paths[lib]}`);\n",
       "        document.getElementsByTagName(\"head\")[0].appendChild(s);\n",
       "      });\n",
       "    }\n",
       "\n",
       "    function showError(err) {\n",
       "      outputDiv.innerHTML = `<div class=\"error\" style=\"color:red;\">${err}</div>`;\n",
       "      throw err;\n",
       "    }\n",
       "\n",
       "    function displayChart(vegaEmbed) {\n",
       "      vegaEmbed(outputDiv, spec, embedOpt)\n",
       "        .catch(err => showError(`Javascript Error: ${err.message}<br>This usually means there's a typo in your chart specification. See the javascript console for the full traceback.`));\n",
       "    }\n",
       "\n",
       "    if(typeof define === \"function\" && define.amd) {\n",
       "      requirejs.config({paths});\n",
       "      require([\"vega-embed\"], displayChart, err => showError(`Error loading script: ${err.message}`));\n",
       "    } else if (typeof vegaEmbed === \"function\") {\n",
       "      displayChart(vegaEmbed);\n",
       "    } else {\n",
       "      loadScript(\"vega\")\n",
       "        .then(() => loadScript(\"vega-lite\"))\n",
       "        .then(() => loadScript(\"vega-embed\"))\n",
       "        .catch(showError)\n",
       "        .then(() => displayChart(vegaEmbed));\n",
       "    }\n",
       "  })({\"usermeta\": {\"embedOptions\": {\"theme\": \"dark\"}}, \"config\": {\"view\": {\"continuousWidth\": 400, \"continuousHeight\": 300}}, \"data\": {\"name\": \"data-5cd9737de2f7f42a9aa8dfb0dc688441\"}, \"mark\": \"bar\", \"encoding\": {\"x\": {\"type\": \"nominal\", \"field\": \"Name\", \"sort\": \"-y\"}, \"y\": {\"type\": \"quantitative\", \"field\": \"val\"}}, \"$schema\": \"https://vega.github.io/schema/vega-lite/v4.8.1.json\", \"datasets\": {\"data-5cd9737de2f7f42a9aa8dfb0dc688441\": [{\"Name\": \"garagesize\", \"val\": 0.19352176667509627}, {\"Name\": \"single_family\", \"val\": 0.18558186683205602}, {\"Name\": \"impsvalunit\", \"val\": 0.17477566331855152}, {\"Name\": \"landperunit\", \"val\": 0.08148869818590948}, {\"Name\": \"voter_age\", \"val\": 0.06949201493834535}, {\"Name\": \"landvalunit\", \"val\": 0.06198402439600024}, {\"Name\": \"interior_area\", \"val\": 0.05421686461424189}, {\"Name\": \"stories\", \"val\": 0.012212694849451058}, {\"Name\": \"age\", \"val\": 0.011320761121565978}, {\"Name\": \"effage\", \"val\": 0.010898410895154562}, {\"Name\": \"units\", \"val\": 0.009533311524375275}, {\"Name\": \"RegZipCode_98109\", \"val\": 0.006449771039910548}, {\"Name\": \"pin\", \"val\": 0.00581066836600171}, {\"Name\": \"wfntlocation_LAKE UNION\", \"val\": 0.005500510754623642}, {\"Name\": \"cascades_GOOD\", \"val\": 0.005448398109656163}, {\"Name\": \"RegZipCode_98119\", \"val\": 0.005413056578625688}, {\"Name\": \"baths\", \"val\": 0.0049760994143171365}, {\"Name\": \"sqftfinbasement\", \"val\": 0.004443181622507652}, {\"Name\": \"complextype_CondoResidentialApt Use\", \"val\": 0.004274816648725029}, {\"Name\": \"laundry_COMMON\", \"val\": 0.003755152510904866}, {\"Name\": \"RegZipCode_98105\", \"val\": 0.003172310783000105}, {\"Name\": \"unittype_Other Commercial\", \"val\": 0.003032361098941259}, {\"Name\": \"avgunitsize\", \"val\": 0.0019933024616077873}, {\"Name\": \"complextype_CondoResidential\", \"val\": 0.0019181962508041533}, {\"Name\": \"districtname_REDMOND\", \"val\": 0.0018625850142671805}]}}, {\"mode\": \"vega-lite\"});\n",
       "</script>"
      ],
      "text/plain": [
       "alt.Chart(...)"
      ]
     },
     "execution_count": 14,
     "metadata": {},
     "output_type": "execute_result"
    }
   ],
   "source": [
    "feature_importance(homes, rfrv)"
   ]
  },
  {
   "cell_type": "markdown",
   "metadata": {},
   "source": [
    "#### Aggregate Accuracy"
   ]
  },
  {
   "cell_type": "code",
   "execution_count": 24,
   "metadata": {
    "tags": [
     "outputPrepend"
    ]
   },
   "outputs": [
    {
     "name": "stderr",
     "output_type": "stream",
     "text": [
      "sed:    0.0s\n",
      "[Parallel(n_jobs=8)]: Done 184 tasks      | elapsed:    0.0s\n",
      "[Parallel(n_jobs=8)]: Done 200 out of 200 | elapsed:    0.0s finished\n",
      "[Parallel(n_jobs=8)]: Using backend ThreadingBackend with 8 concurrent workers.\n",
      "[Parallel(n_jobs=8)]: Done  34 tasks      | elapsed:    0.0s\n",
      "[Parallel(n_jobs=8)]: Done 184 tasks      | elapsed:    0.0s\n",
      "[Parallel(n_jobs=8)]: Done 200 out of 200 | elapsed:    0.0s finished\n",
      "[Parallel(n_jobs=8)]: Using backend ThreadingBackend with 8 concurrent workers.\n",
      "[Parallel(n_jobs=8)]: Done  34 tasks      | elapsed:    0.0s\n",
      "[Parallel(n_jobs=8)]: Done 184 tasks      | elapsed:    0.0s\n",
      "[Parallel(n_jobs=8)]: Done 200 out of 200 | elapsed:    0.0s finished\n",
      "[Parallel(n_jobs=8)]: Using backend ThreadingBackend with 8 concurrent workers.\n",
      "[Parallel(n_jobs=8)]: Done  34 tasks      | elapsed:    0.0s\n",
      "[Parallel(n_jobs=8)]: Done 184 tasks      | elapsed:    0.0s\n",
      "[Parallel(n_jobs=8)]: Done 200 out of 200 | elapsed:    0.0s finished\n",
      "[Parallel(n_jobs=8)]: Using backend ThreadingBackend with 8 concurrent workers.\n",
      "[Parallel(n_jobs=8)]: Done  34 tasks      | elapsed:    0.0s\n",
      "[Parallel(n_jobs=8)]: Done 184 tasks      | elapsed:    0.0s\n",
      "[Parallel(n_jobs=8)]: Done 200 out of 200 | elapsed:    0.1s finished\n",
      "[Parallel(n_jobs=8)]: Using backend ThreadingBackend with 8 concurrent workers.\n",
      "[Parallel(n_jobs=8)]: Done  34 tasks      | elapsed:    0.0s\n",
      "[Parallel(n_jobs=8)]: Done 184 tasks      | elapsed:    0.0s\n",
      "[Parallel(n_jobs=8)]: Done 200 out of 200 | elapsed:    0.0s finished\n",
      "[Parallel(n_jobs=8)]: Using backend ThreadingBackend with 8 concurrent workers.\n",
      "[Parallel(n_jobs=8)]: Done  34 tasks      | elapsed:    0.0s\n",
      "[Parallel(n_jobs=8)]: Done 184 tasks      | elapsed:    0.0s\n",
      "[Parallel(n_jobs=8)]: Done 200 out of 200 | elapsed:    0.0s finished\n",
      "[Parallel(n_jobs=8)]: Using backend ThreadingBackend with 8 concurrent workers.\n",
      "[Parallel(n_jobs=8)]: Done  34 tasks      | elapsed:    0.0s\n",
      "[Parallel(n_jobs=8)]: Done 184 tasks      | elapsed:    0.0s\n",
      "[Parallel(n_jobs=8)]: Done 200 out of 200 | elapsed:    0.0s finished\n",
      "[Parallel(n_jobs=8)]: Using backend ThreadingBackend with 8 concurrent workers.\n",
      "[Parallel(n_jobs=8)]: Done  34 tasks      | elapsed:    0.0s\n",
      "[Parallel(n_jobs=8)]: Done 184 tasks      | elapsed:    0.0s\n",
      "[Parallel(n_jobs=8)]: Done 200 out of 200 | elapsed:    0.0s finished\n",
      "[Parallel(n_jobs=8)]: Using backend ThreadingBackend with 8 concurrent workers.\n",
      "[Parallel(n_jobs=8)]: Done  34 tasks      | elapsed:    0.0s\n",
      "[Parallel(n_jobs=8)]: Done 184 tasks      | elapsed:    0.0s\n",
      "[Parallel(n_jobs=8)]: Done 200 out of 200 | elapsed:    0.0s finished\n",
      "[Parallel(n_jobs=8)]: Using backend ThreadingBackend with 8 concurrent workers.\n",
      "[Parallel(n_jobs=8)]: Done  34 tasks      | elapsed:    0.0s\n",
      "[Parallel(n_jobs=8)]: Done 184 tasks      | elapsed:    0.0s\n",
      "[Parallel(n_jobs=8)]: Done 200 out of 200 | elapsed:    0.0s finished\n",
      "[Parallel(n_jobs=8)]: Using backend ThreadingBackend with 8 concurrent workers.\n",
      "[Parallel(n_jobs=8)]: Done  34 tasks      | elapsed:    0.0s\n",
      "[Parallel(n_jobs=8)]: Done 184 tasks      | elapsed:    0.0s\n",
      "[Parallel(n_jobs=8)]: Done 200 out of 200 | elapsed:    0.0s finished\n",
      "[Parallel(n_jobs=8)]: Using backend ThreadingBackend with 8 concurrent workers.\n",
      "[Parallel(n_jobs=8)]: Done  34 tasks      | elapsed:    0.0s\n",
      "[Parallel(n_jobs=8)]: Done 184 tasks      | elapsed:    0.0s\n",
      "[Parallel(n_jobs=8)]: Done 200 out of 200 | elapsed:    0.0s finished\n",
      "[Parallel(n_jobs=8)]: Using backend ThreadingBackend with 8 concurrent workers.\n",
      "[Parallel(n_jobs=8)]: Done  34 tasks      | elapsed:    0.0s\n",
      "[Parallel(n_jobs=8)]: Done 184 tasks      | elapsed:    0.0s\n",
      "[Parallel(n_jobs=8)]: Done 200 out of 200 | elapsed:    0.0s finished\n",
      "[Parallel(n_jobs=8)]: Using backend ThreadingBackend with 8 concurrent workers.\n",
      "[Parallel(n_jobs=8)]: Done  34 tasks      | elapsed:    0.0s\n",
      "[Parallel(n_jobs=8)]: Done 184 tasks      | elapsed:    0.0s\n",
      "[Parallel(n_jobs=8)]: Done 200 out of 200 | elapsed:    0.0s finished\n",
      "[Parallel(n_jobs=8)]: Using backend ThreadingBackend with 8 concurrent workers.\n",
      "[Parallel(n_jobs=8)]: Done  34 tasks      | elapsed:    0.0s\n",
      "[Parallel(n_jobs=8)]: Done 184 tasks      | elapsed:    0.0s\n",
      "[Parallel(n_jobs=8)]: Done 200 out of 200 | elapsed:    0.0s finished\n",
      "[Parallel(n_jobs=8)]: Using backend ThreadingBackend with 8 concurrent workers.\n",
      "[Parallel(n_jobs=8)]: Done  34 tasks      | elapsed:    0.0s\n",
      "[Parallel(n_jobs=8)]: Done 184 tasks      | elapsed:    0.0s\n",
      "[Parallel(n_jobs=8)]: Done 200 out of 200 | elapsed:    0.1s finished\n",
      "[Parallel(n_jobs=8)]: Using backend ThreadingBackend with 8 concurrent workers.\n",
      "[Parallel(n_jobs=8)]: Done  34 tasks      | elapsed:    0.0s\n",
      "[Parallel(n_jobs=8)]: Done 184 tasks      | elapsed:    0.0s\n",
      "[Parallel(n_jobs=8)]: Done 200 out of 200 | elapsed:    0.0s finished\n",
      "[Parallel(n_jobs=8)]: Using backend ThreadingBackend with 8 concurrent workers.\n",
      "[Parallel(n_jobs=8)]: Done  34 tasks      | elapsed:    0.0s\n",
      "[Parallel(n_jobs=8)]: Done 184 tasks      | elapsed:    0.0s\n",
      "[Parallel(n_jobs=8)]: Done 200 out of 200 | elapsed:    0.0s finished\n",
      "[Parallel(n_jobs=8)]: Using backend ThreadingBackend with 8 concurrent workers.\n",
      "[Parallel(n_jobs=8)]: Done  34 tasks      | elapsed:    0.0s\n",
      "[Parallel(n_jobs=8)]: Done 184 tasks      | elapsed:    0.0s\n",
      "[Parallel(n_jobs=8)]: Done 200 out of 200 | elapsed:    0.1s finished\n",
      "[Parallel(n_jobs=8)]: Using backend ThreadingBackend with 8 concurrent workers.\n",
      "[Parallel(n_jobs=8)]: Done  34 tasks      | elapsed:    0.0s\n",
      "[Parallel(n_jobs=8)]: Done 184 tasks      | elapsed:    0.0s\n",
      "[Parallel(n_jobs=8)]: Done 200 out of 200 | elapsed:    0.0s finished\n",
      "[Parallel(n_jobs=8)]: Using backend ThreadingBackend with 8 concurrent workers.\n",
      "[Parallel(n_jobs=8)]: Done  34 tasks      | elapsed:    0.0s\n",
      "[Parallel(n_jobs=8)]: Done 184 tasks      | elapsed:    0.0s\n",
      "[Parallel(n_jobs=8)]: Done 200 out of 200 | elapsed:    0.0s finished\n",
      "[Parallel(n_jobs=8)]: Using backend ThreadingBackend with 8 concurrent workers.\n",
      "[Parallel(n_jobs=8)]: Done  34 tasks      | elapsed:    0.0s\n",
      "[Parallel(n_jobs=8)]: Done 184 tasks      | elapsed:    0.0s\n",
      "[Parallel(n_jobs=8)]: Done 200 out of 200 | elapsed:    0.1s finished\n",
      "[Parallel(n_jobs=8)]: Using backend ThreadingBackend with 8 concurrent workers.\n",
      "[Parallel(n_jobs=8)]: Done  34 tasks      | elapsed:    0.0s\n",
      "[Parallel(n_jobs=8)]: Done 184 tasks      | elapsed:    0.0s\n",
      "[Parallel(n_jobs=8)]: Done 200 out of 200 | elapsed:    0.0s finished\n",
      "[Parallel(n_jobs=8)]: Using backend ThreadingBackend with 8 concurrent workers.\n",
      "[Parallel(n_jobs=8)]: Done  34 tasks      | elapsed:    0.0s\n",
      "[Parallel(n_jobs=8)]: Done 184 tasks      | elapsed:    0.0s\n",
      "[Parallel(n_jobs=8)]: Done 200 out of 200 | elapsed:    0.0s finished\n",
      "[Parallel(n_jobs=8)]: Using backend ThreadingBackend with 8 concurrent workers.\n",
      "[Parallel(n_jobs=8)]: Done  34 tasks      | elapsed:    0.0s\n",
      "[Parallel(n_jobs=8)]: Done 184 tasks      | elapsed:    0.0s\n",
      "[Parallel(n_jobs=8)]: Done 200 out of 200 | elapsed:    0.1s finished\n",
      "[Parallel(n_jobs=8)]: Using backend ThreadingBackend with 8 concurrent workers.\n",
      "[Parallel(n_jobs=8)]: Done  34 tasks      | elapsed:    0.0s\n",
      "[Parallel(n_jobs=8)]: Done 184 tasks      | elapsed:    0.0s\n",
      "[Parallel(n_jobs=8)]: Done 200 out of 200 | elapsed:    0.1s finished\n",
      "[Parallel(n_jobs=8)]: Using backend ThreadingBackend with 8 concurrent workers.\n",
      "[Parallel(n_jobs=8)]: Done  34 tasks      | elapsed:    0.0s\n",
      "[Parallel(n_jobs=8)]: Done 184 tasks      | elapsed:    0.0s\n",
      "[Parallel(n_jobs=8)]: Done 200 out of 200 | elapsed:    0.0s finished\n",
      "[Parallel(n_jobs=8)]: Using backend ThreadingBackend with 8 concurrent workers.\n",
      "[Parallel(n_jobs=8)]: Done  34 tasks      | elapsed:    0.0s\n",
      "[Parallel(n_jobs=8)]: Done 184 tasks      | elapsed:    0.0s\n",
      "[Parallel(n_jobs=8)]: Done 200 out of 200 | elapsed:    0.0s finished\n",
      "[Parallel(n_jobs=8)]: Using backend ThreadingBackend with 8 concurrent workers.\n",
      "[Parallel(n_jobs=8)]: Done  34 tasks      | elapsed:    0.0s\n",
      "[Parallel(n_jobs=8)]: Done 184 tasks      | elapsed:    0.0s\n",
      "[Parallel(n_jobs=8)]: Done 200 out of 200 | elapsed:    0.0s finished\n",
      "[Parallel(n_jobs=8)]: Using backend ThreadingBackend with 8 concurrent workers.\n",
      "[Parallel(n_jobs=8)]: Done  34 tasks      | elapsed:    0.0s\n",
      "[Parallel(n_jobs=8)]: Done 184 tasks      | elapsed:    0.0s\n",
      "[Parallel(n_jobs=8)]: Done 200 out of 200 | elapsed:    0.1s finished\n",
      "[Parallel(n_jobs=8)]: Using backend ThreadingBackend with 8 concurrent workers.\n",
      "[Parallel(n_jobs=8)]: Done  34 tasks      | elapsed:    0.0s\n",
      "[Parallel(n_jobs=8)]: Done 184 tasks      | elapsed:    0.0s\n",
      "[Parallel(n_jobs=8)]: Done 200 out of 200 | elapsed:    0.0s finished\n",
      "[Parallel(n_jobs=8)]: Using backend ThreadingBackend with 8 concurrent workers.\n",
      "[Parallel(n_jobs=8)]: Done  34 tasks      | elapsed:    0.0s\n",
      "[Parallel(n_jobs=8)]: Done 184 tasks      | elapsed:    0.0s\n",
      "[Parallel(n_jobs=8)]: Done 200 out of 200 | elapsed:    0.0s finished\n",
      "[Parallel(n_jobs=8)]: Using backend ThreadingBackend with 8 concurrent workers.\n",
      "[Parallel(n_jobs=8)]: Done  34 tasks      | elapsed:    0.0s\n",
      "[Parallel(n_jobs=8)]: Done 184 tasks      | elapsed:    0.0s\n",
      "[Parallel(n_jobs=8)]: Done 200 out of 200 | elapsed:    0.0s finished\n",
      "[Parallel(n_jobs=8)]: Using backend ThreadingBackend with 8 concurrent workers.\n",
      "[Parallel(n_jobs=8)]: Done  34 tasks      | elapsed:    0.0s\n",
      "[Parallel(n_jobs=8)]: Done 184 tasks      | elapsed:    0.0s\n",
      "[Parallel(n_jobs=8)]: Done 200 out of 200 | elapsed:    0.0s finished\n",
      "[Parallel(n_jobs=8)]: Using backend ThreadingBackend with 8 concurrent workers.\n",
      "[Parallel(n_jobs=8)]: Done  34 tasks      | elapsed:    0.0s\n",
      "[Parallel(n_jobs=8)]: Done 184 tasks      | elapsed:    0.0s\n",
      "[Parallel(n_jobs=8)]: Done 200 out of 200 | elapsed:    0.0s finished\n",
      "[Parallel(n_jobs=8)]: Using backend ThreadingBackend with 8 concurrent workers.\n",
      "[Parallel(n_jobs=8)]: Done  34 tasks      | elapsed:    0.0s\n",
      "[Parallel(n_jobs=8)]: Done 184 tasks      | elapsed:    0.0s\n",
      "[Parallel(n_jobs=8)]: Done 200 out of 200 | elapsed:    0.0s finished\n",
      "[Parallel(n_jobs=8)]: Using backend ThreadingBackend with 8 concurrent workers.\n",
      "[Parallel(n_jobs=8)]: Done  34 tasks      | elapsed:    0.0s\n",
      "[Parallel(n_jobs=8)]: Done 184 tasks      | elapsed:    0.0s\n",
      "[Parallel(n_jobs=8)]: Done 200 out of 200 | elapsed:    0.0s finished\n",
      "[Parallel(n_jobs=8)]: Using backend ThreadingBackend with 8 concurrent workers.\n",
      "[Parallel(n_jobs=8)]: Done  34 tasks      | elapsed:    0.0s\n",
      "[Parallel(n_jobs=8)]: Done 184 tasks      | elapsed:    0.0s\n",
      "[Parallel(n_jobs=8)]: Done 200 out of 200 | elapsed:    0.0s finished\n",
      "[Parallel(n_jobs=8)]: Using backend ThreadingBackend with 8 concurrent workers.\n",
      "[Parallel(n_jobs=8)]: Done  34 tasks      | elapsed:    0.0s\n",
      "[Parallel(n_jobs=8)]: Done 184 tasks      | elapsed:    0.0s\n",
      "[Parallel(n_jobs=8)]: Done 200 out of 200 | elapsed:    0.0s finished\n",
      "[Parallel(n_jobs=8)]: Using backend ThreadingBackend with 8 concurrent workers.\n",
      "[Parallel(n_jobs=8)]: Done  34 tasks      | elapsed:    0.0s\n",
      "[Parallel(n_jobs=8)]: Done 184 tasks      | elapsed:    0.0s\n",
      "[Parallel(n_jobs=8)]: Done 200 out of 200 | elapsed:    0.0s finished\n",
      "[Parallel(n_jobs=8)]: Using backend ThreadingBackend with 8 concurrent workers.\n",
      "[Parallel(n_jobs=8)]: Done  34 tasks      | elapsed:    0.0s\n",
      "[Parallel(n_jobs=8)]: Done 184 tasks      | elapsed:    0.0s\n",
      "[Parallel(n_jobs=8)]: Done 200 out of 200 | elapsed:    0.0s finished\n",
      "[Parallel(n_jobs=8)]: Using backend ThreadingBackend with 8 concurrent workers.\n",
      "[Parallel(n_jobs=8)]: Done  34 tasks      | elapsed:    0.0s\n",
      "[Parallel(n_jobs=8)]: Done 184 tasks      | elapsed:    0.1s\n",
      "[Parallel(n_jobs=8)]: Done 200 out of 200 | elapsed:    0.1s finished\n",
      "[Parallel(n_jobs=8)]: Using backend ThreadingBackend with 8 concurrent workers.\n",
      "[Parallel(n_jobs=8)]: Done  34 tasks      | elapsed:    0.0s\n",
      "[Parallel(n_jobs=8)]: Done 184 tasks      | elapsed:    0.0s\n",
      "[Parallel(n_jobs=8)]: Done 200 out of 200 | elapsed:    0.1s finished\n",
      "[Parallel(n_jobs=8)]: Using backend ThreadingBackend with 8 concurrent workers.\n",
      "[Parallel(n_jobs=8)]: Done  34 tasks      | elapsed:    0.0s\n",
      "[Parallel(n_jobs=8)]: Done 184 tasks      | elapsed:    0.0s\n",
      "[Parallel(n_jobs=8)]: Done 200 out of 200 | elapsed:    0.0s finished\n",
      "[Parallel(n_jobs=8)]: Using backend ThreadingBackend with 8 concurrent workers.\n",
      "[Parallel(n_jobs=8)]: Done  34 tasks      | elapsed:    0.0s\n",
      "[Parallel(n_jobs=8)]: Done 184 tasks      | elapsed:    0.0s\n",
      "[Parallel(n_jobs=8)]: Done 200 out of 200 | elapsed:    0.0s finished\n",
      "[Parallel(n_jobs=8)]: Using backend ThreadingBackend with 8 concurrent workers.\n",
      "[Parallel(n_jobs=8)]: Done  34 tasks      | elapsed:    0.0s\n",
      "[Parallel(n_jobs=8)]: Done 184 tasks      | elapsed:    0.0s\n",
      "[Parallel(n_jobs=8)]: Done 200 out of 200 | elapsed:    0.1s finished\n",
      "[Parallel(n_jobs=8)]: Using backend ThreadingBackend with 8 concurrent workers.\n",
      "[Parallel(n_jobs=8)]: Done  34 tasks      | elapsed:    0.0s\n",
      "[Parallel(n_jobs=8)]: Done 184 tasks      | elapsed:    0.0s\n",
      "[Parallel(n_jobs=8)]: Done 200 out of 200 | elapsed:    0.0s finished\n",
      "[Parallel(n_jobs=8)]: Using backend ThreadingBackend with 8 concurrent workers.\n",
      "[Parallel(n_jobs=8)]: Done  34 tasks      | elapsed:    0.0s\n",
      "[Parallel(n_jobs=8)]: Done 184 tasks      | elapsed:    0.0s\n",
      "[Parallel(n_jobs=8)]: Done 200 out of 200 | elapsed:    0.1s finished\n",
      "[Parallel(n_jobs=8)]: Using backend ThreadingBackend with 8 concurrent workers.\n",
      "[Parallel(n_jobs=8)]: Done  34 tasks      | elapsed:    0.0s\n",
      "[Parallel(n_jobs=8)]: Done 184 tasks      | elapsed:    0.0s\n",
      "[Parallel(n_jobs=8)]: Done 200 out of 200 | elapsed:    0.1s finished\n",
      "[Parallel(n_jobs=8)]: Using backend ThreadingBackend with 8 concurrent workers.\n",
      "[Parallel(n_jobs=8)]: Done  34 tasks      | elapsed:    0.0s\n",
      "[Parallel(n_jobs=8)]: Done 184 tasks      | elapsed:    0.0s\n",
      "[Parallel(n_jobs=8)]: Done 200 out of 200 | elapsed:    0.1s finished\n",
      "[Parallel(n_jobs=8)]: Using backend ThreadingBackend with 8 concurrent workers.\n",
      "[Parallel(n_jobs=8)]: Done  34 tasks      | elapsed:    0.0s\n",
      "[Parallel(n_jobs=8)]: Done 184 tasks      | elapsed:    0.0s\n",
      "[Parallel(n_jobs=8)]: Done 200 out of 200 | elapsed:    0.0s finished\n",
      "[Parallel(n_jobs=8)]: Using backend ThreadingBackend with 8 concurrent workers.\n",
      "[Parallel(n_jobs=8)]: Done  34 tasks      | elapsed:    0.0s\n",
      "[Parallel(n_jobs=8)]: Done 184 tasks      | elapsed:    0.0s\n",
      "[Parallel(n_jobs=8)]: Done 200 out of 200 | elapsed:    0.0s finished\n",
      "[Parallel(n_jobs=8)]: Using backend ThreadingBackend with 8 concurrent workers.\n",
      "[Parallel(n_jobs=8)]: Done  34 tasks      | elapsed:    0.0s\n",
      "[Parallel(n_jobs=8)]: Done 184 tasks      | elapsed:    0.0s\n",
      "[Parallel(n_jobs=8)]: Done 200 out of 200 | elapsed:    0.0s finished\n",
      "[Parallel(n_jobs=8)]: Using backend ThreadingBackend with 8 concurrent workers.\n",
      "[Parallel(n_jobs=8)]: Done  34 tasks      | elapsed:    0.0s\n",
      "[Parallel(n_jobs=8)]: Done 184 tasks      | elapsed:    0.0s\n",
      "[Parallel(n_jobs=8)]: Done 200 out of 200 | elapsed:    0.0s finished\n",
      "[Parallel(n_jobs=8)]: Using backend ThreadingBackend with 8 concurrent workers.\n",
      "[Parallel(n_jobs=8)]: Done  34 tasks      | elapsed:    0.0s\n",
      "[Parallel(n_jobs=8)]: Done 184 tasks      | elapsed:    0.0s\n",
      "[Parallel(n_jobs=8)]: Done 200 out of 200 | elapsed:    0.0s finished\n",
      "[Parallel(n_jobs=8)]: Using backend ThreadingBackend with 8 concurrent workers.\n",
      "[Parallel(n_jobs=8)]: Done  34 tasks      | elapsed:    0.0s\n",
      "[Parallel(n_jobs=8)]: Done 184 tasks      | elapsed:    0.0s\n",
      "[Parallel(n_jobs=8)]: Done 200 out of 200 | elapsed:    0.0s finished\n",
      "[Parallel(n_jobs=8)]: Using backend ThreadingBackend with 8 concurrent workers.\n",
      "[Parallel(n_jobs=8)]: Done  34 tasks      | elapsed:    0.0s\n",
      "[Parallel(n_jobs=8)]: Done 184 tasks      | elapsed:    0.0s\n",
      "[Parallel(n_jobs=8)]: Done 200 out of 200 | elapsed:    0.0s finished\n",
      "[Parallel(n_jobs=8)]: Using backend ThreadingBackend with 8 concurrent workers.\n",
      "[Parallel(n_jobs=8)]: Done  34 tasks      | elapsed:    0.0s\n",
      "[Parallel(n_jobs=8)]: Done 184 tasks      | elapsed:    0.0s\n",
      "[Parallel(n_jobs=8)]: Done 200 out of 200 | elapsed:    0.0s finished\n",
      "[Parallel(n_jobs=8)]: Using backend ThreadingBackend with 8 concurrent workers.\n",
      "[Parallel(n_jobs=8)]: Done  34 tasks      | elapsed:    0.0s\n",
      "[Parallel(n_jobs=8)]: Done 184 tasks      | elapsed:    0.0s\n",
      "[Parallel(n_jobs=8)]: Done 200 out of 200 | elapsed:    0.0s finished\n",
      "[Parallel(n_jobs=8)]: Using backend ThreadingBackend with 8 concurrent workers.\n",
      "[Parallel(n_jobs=8)]: Done  34 tasks      | elapsed:    0.0s\n",
      "[Parallel(n_jobs=8)]: Done 184 tasks      | elapsed:    0.0s\n",
      "[Parallel(n_jobs=8)]: Done 200 out of 200 | elapsed:    0.0s finished\n",
      "[Parallel(n_jobs=8)]: Using backend ThreadingBackend with 8 concurrent workers.\n",
      "[Parallel(n_jobs=8)]: Done  34 tasks      | elapsed:    0.0s\n",
      "[Parallel(n_jobs=8)]: Done 184 tasks      | elapsed:    0.0s\n",
      "[Parallel(n_jobs=8)]: Done 200 out of 200 | elapsed:    0.0s finished\n",
      "[Parallel(n_jobs=8)]: Using backend ThreadingBackend with 8 concurrent workers.\n",
      "[Parallel(n_jobs=8)]: Done  34 tasks      | elapsed:    0.0s\n",
      "[Parallel(n_jobs=8)]: Done 184 tasks      | elapsed:    0.0s\n",
      "[Parallel(n_jobs=8)]: Done 200 out of 200 | elapsed:    0.0s finished\n",
      "[Parallel(n_jobs=8)]: Using backend ThreadingBackend with 8 concurrent workers.\n",
      "[Parallel(n_jobs=8)]: Done  34 tasks      | elapsed:    0.0s\n",
      "[Parallel(n_jobs=8)]: Done 184 tasks      | elapsed:    0.0s\n",
      "[Parallel(n_jobs=8)]: Done 200 out of 200 | elapsed:    0.0s finished\n",
      "[Parallel(n_jobs=8)]: Using backend ThreadingBackend with 8 concurrent workers.\n",
      "[Parallel(n_jobs=8)]: Done  34 tasks      | elapsed:    0.0s\n",
      "[Parallel(n_jobs=8)]: Done 184 tasks      | elapsed:    0.0s\n",
      "[Parallel(n_jobs=8)]: Done 200 out of 200 | elapsed:    0.0s finished\n",
      "[Parallel(n_jobs=8)]: Using backend ThreadingBackend with 8 concurrent workers.\n",
      "[Parallel(n_jobs=8)]: Done  34 tasks      | elapsed:    0.0s\n",
      "[Parallel(n_jobs=8)]: Done 184 tasks      | elapsed:    0.0s\n",
      "[Parallel(n_jobs=8)]: Done 200 out of 200 | elapsed:    0.0s finished\n",
      "[Parallel(n_jobs=8)]: Using backend ThreadingBackend with 8 concurrent workers.\n",
      "[Parallel(n_jobs=8)]: Done  34 tasks      | elapsed:    0.0s\n",
      "[Parallel(n_jobs=8)]: Done 184 tasks      | elapsed:    0.0s\n",
      "[Parallel(n_jobs=8)]: Done 200 out of 200 | elapsed:    0.0s finished\n",
      "[Parallel(n_jobs=8)]: Using backend ThreadingBackend with 8 concurrent workers.\n",
      "[Parallel(n_jobs=8)]: Done  34 tasks      | elapsed:    0.0s\n",
      "[Parallel(n_jobs=8)]: Done 184 tasks      | elapsed:    0.0s\n",
      "[Parallel(n_jobs=8)]: Done 200 out of 200 | elapsed:    0.0s finished\n",
      "[Parallel(n_jobs=8)]: Using backend ThreadingBackend with 8 concurrent workers.\n",
      "[Parallel(n_jobs=8)]: Done  34 tasks      | elapsed:    0.0s\n",
      "[Parallel(n_jobs=8)]: Done 184 tasks      | elapsed:    0.0s\n",
      "[Parallel(n_jobs=8)]: Done 200 out of 200 | elapsed:    0.0s finished\n",
      "[Parallel(n_jobs=8)]: Using backend ThreadingBackend with 8 concurrent workers.\n",
      "[Parallel(n_jobs=8)]: Done  34 tasks      | elapsed:    0.0s\n",
      "[Parallel(n_jobs=8)]: Done 184 tasks      | elapsed:    0.0s\n",
      "[Parallel(n_jobs=8)]: Done 200 out of 200 | elapsed:    0.0s finished\n",
      "[Parallel(n_jobs=8)]: Using backend ThreadingBackend with 8 concurrent workers.\n",
      "[Parallel(n_jobs=8)]: Done  34 tasks      | elapsed:    0.0s\n",
      "[Parallel(n_jobs=8)]: Done 184 tasks      | elapsed:    0.0s\n",
      "[Parallel(n_jobs=8)]: Done 200 out of 200 | elapsed:    0.0s finished\n",
      "[Parallel(n_jobs=8)]: Using backend ThreadingBackend with 8 concurrent workers.\n",
      "[Parallel(n_jobs=8)]: Done  34 tasks      | elapsed:    0.0s\n",
      "[Parallel(n_jobs=8)]: Done 184 tasks      | elapsed:    0.0s\n",
      "[Parallel(n_jobs=8)]: Done 200 out of 200 | elapsed:    0.0s finished\n",
      "[Parallel(n_jobs=8)]: Using backend ThreadingBackend with 8 concurrent workers.\n",
      "[Parallel(n_jobs=8)]: Done  34 tasks      | elapsed:    0.0s\n",
      "[Parallel(n_jobs=8)]: Done 184 tasks      | elapsed:    0.0s\n",
      "[Parallel(n_jobs=8)]: Done 200 out of 200 | elapsed:    0.0s finished\n",
      "[Parallel(n_jobs=8)]: Using backend ThreadingBackend with 8 concurrent workers.\n",
      "[Parallel(n_jobs=8)]: Done  34 tasks      | elapsed:    0.0s\n",
      "[Parallel(n_jobs=8)]: Done 184 tasks      | elapsed:    0.0s\n",
      "[Parallel(n_jobs=8)]: Done 200 out of 200 | elapsed:    0.0s finished\n"
     ]
    },
    {
     "data": {
      "text/html": [
       "\n",
       "<div id=\"altair-viz-f88a58f632ea4f64a5d992e2006523c1\"></div>\n",
       "<script type=\"text/javascript\">\n",
       "  (function(spec, embedOpt){\n",
       "    let outputDiv = document.currentScript.previousElementSibling;\n",
       "    if (outputDiv.id !== \"altair-viz-f88a58f632ea4f64a5d992e2006523c1\") {\n",
       "      outputDiv = document.getElementById(\"altair-viz-f88a58f632ea4f64a5d992e2006523c1\");\n",
       "    }\n",
       "    const paths = {\n",
       "      \"vega\": \"https://cdn.jsdelivr.net/npm//vega@5?noext\",\n",
       "      \"vega-lib\": \"https://cdn.jsdelivr.net/npm//vega-lib?noext\",\n",
       "      \"vega-lite\": \"https://cdn.jsdelivr.net/npm//vega-lite@4.8.1?noext\",\n",
       "      \"vega-embed\": \"https://cdn.jsdelivr.net/npm//vega-embed@6?noext\",\n",
       "    };\n",
       "\n",
       "    function loadScript(lib) {\n",
       "      return new Promise(function(resolve, reject) {\n",
       "        var s = document.createElement('script');\n",
       "        s.src = paths[lib];\n",
       "        s.async = true;\n",
       "        s.onload = () => resolve(paths[lib]);\n",
       "        s.onerror = () => reject(`Error loading script: ${paths[lib]}`);\n",
       "        document.getElementsByTagName(\"head\")[0].appendChild(s);\n",
       "      });\n",
       "    }\n",
       "\n",
       "    function showError(err) {\n",
       "      outputDiv.innerHTML = `<div class=\"error\" style=\"color:red;\">${err}</div>`;\n",
       "      throw err;\n",
       "    }\n",
       "\n",
       "    function displayChart(vegaEmbed) {\n",
       "      vegaEmbed(outputDiv, spec, embedOpt)\n",
       "        .catch(err => showError(`Javascript Error: ${err.message}<br>This usually means there's a typo in your chart specification. See the javascript console for the full traceback.`));\n",
       "    }\n",
       "\n",
       "    if(typeof define === \"function\" && define.amd) {\n",
       "      requirejs.config({paths});\n",
       "      require([\"vega-embed\"], displayChart, err => showError(`Error loading script: ${err.message}`));\n",
       "    } else if (typeof vegaEmbed === \"function\") {\n",
       "      displayChart(vegaEmbed);\n",
       "    } else {\n",
       "      loadScript(\"vega\")\n",
       "        .then(() => loadScript(\"vega-lite\"))\n",
       "        .then(() => loadScript(\"vega-embed\"))\n",
       "        .catch(showError)\n",
       "        .then(() => displayChart(vegaEmbed));\n",
       "    }\n",
       "  })({\"usermeta\": {\"embedOptions\": {\"theme\": \"dark\"}}, \"config\": {\"view\": {\"continuousWidth\": 400, \"continuousHeight\": 300}}, \"layer\": [{\"mark\": {\"type\": \"point\", \"color\": \"lime\", \"filled\": true}, \"encoding\": {\"x\": {\"type\": \"nominal\", \"field\": \"Sample\"}, \"y\": {\"type\": \"quantitative\", \"field\": \"Actual\"}}}, {\"mark\": {\"type\": \"point\", \"color\": \"orange\", \"filled\": true}, \"encoding\": {\"x\": {\"type\": \"nominal\", \"field\": \"Sample\"}, \"y\": {\"type\": \"quantitative\", \"field\": \"Predicted\"}}}], \"data\": {\"name\": \"data-b2267d57b22eada20279ec36fb2ec718\"}, \"$schema\": \"https://vega.github.io/schema/vega-lite/v4.8.1.json\", \"datasets\": {\"data-b2267d57b22eada20279ec36fb2ec718\": [{\"Sample\": 0, \"Actual\": 1287.1800282679164, \"Predicted\": 1297.5618079448982, \"Error\": -0.00806552265338665}, {\"Sample\": 1, \"Actual\": 1245.54202130386, \"Predicted\": 1264.5200461218028, \"Error\": -0.015236759975449156}, {\"Sample\": 2, \"Actual\": 1298.4585787860544, \"Predicted\": 1277.815849085941, \"Error\": 0.015897873091502566}, {\"Sample\": 3, \"Actual\": 1240.7052446160478, \"Predicted\": 1247.8042721825175, \"Error\": -0.005721768000317064}, {\"Sample\": 4, \"Actual\": 1265.491615161609, \"Predicted\": 1254.2577392586118, \"Error\": 0.008877084421900775}, {\"Sample\": 5, \"Actual\": 1248.5453694388955, \"Predicted\": 1259.490466751669, \"Error\": -0.008766279208333647}, {\"Sample\": 6, \"Actual\": 1244.7010458021352, \"Predicted\": 1243.524641010754, \"Error\": 0.0009451303952452706}, {\"Sample\": 7, \"Actual\": 1306.9316648357458, \"Predicted\": 1343.346095916784, \"Error\": -0.027862536397887883}, {\"Sample\": 8, \"Actual\": 1294.2812174855574, \"Predicted\": 1331.3279175012426, \"Error\": -0.028623377605414908}, {\"Sample\": 9, \"Actual\": 1197.04654955844, \"Predicted\": 1189.5081445370504, \"Error\": 0.006297503655284111}, {\"Sample\": 10, \"Actual\": 1226.3687253315968, \"Predicted\": 1224.1146100515707, \"Error\": 0.0018380404143269477}, {\"Sample\": 11, \"Actual\": 1283.0325957859097, \"Predicted\": 1279.3264274682642, \"Error\": 0.0028886002817218584}, {\"Sample\": 12, \"Actual\": 1273.2205907407083, \"Predicted\": 1315.5041378198357, \"Error\": -0.033209914595025945}, {\"Sample\": 13, \"Actual\": 1296.3019117335496, \"Predicted\": 1280.5578601226466, \"Error\": 0.012145358630111378}, {\"Sample\": 14, \"Actual\": 1250.5257523590055, \"Predicted\": 1257.9493901241394, \"Error\": -0.00593641334545079}, {\"Sample\": 15, \"Actual\": 1267.9370336201184, \"Predicted\": 1262.2594587940519, \"Error\": 0.004477805029368368}, {\"Sample\": 16, \"Actual\": 1232.2707316133212, \"Predicted\": 1247.2038901997776, \"Error\": -0.01211840726502158}, {\"Sample\": 17, \"Actual\": 1279.892950945862, \"Predicted\": 1278.0104236112893, \"Error\": 0.0014708474901603263}, {\"Sample\": 18, \"Actual\": 1301.023899535643, \"Predicted\": 1304.1757420368842, \"Error\": -0.0024225861664540576}, {\"Sample\": 19, \"Actual\": 1295.6120128053778, \"Predicted\": 1305.6407170475504, \"Error\": -0.007740515017653712}, {\"Sample\": 20, \"Actual\": 1296.4651067442442, \"Predicted\": 1297.0207201363537, \"Error\": -0.0004285602359980383}, {\"Sample\": 21, \"Actual\": 1291.2591014607563, \"Predicted\": 1275.8062030915423, \"Error\": 0.011967310318845074}, {\"Sample\": 22, \"Actual\": 1275.3291457298606, \"Predicted\": 1261.376015144831, \"Error\": 0.010940807423517596}, {\"Sample\": 23, \"Actual\": 1223.0756202578314, \"Predicted\": 1218.6313856770062, \"Error\": 0.003633654785701906}, {\"Sample\": 24, \"Actual\": 1248.2914653170128, \"Predicted\": 1226.8952911342164, \"Error\": 0.017140367275812977}, {\"Sample\": 25, \"Actual\": 1280.731675324626, \"Predicted\": 1274.6831332556767, \"Error\": 0.004722723881578183}, {\"Sample\": 26, \"Actual\": 1217.3336837288991, \"Predicted\": 1234.062695010053, \"Error\": -0.013742338279764036}, {\"Sample\": 27, \"Actual\": 1233.8969349273232, \"Predicted\": 1224.3998876198193, \"Error\": 0.007696791392113508}, {\"Sample\": 28, \"Actual\": 1296.6025632768242, \"Predicted\": 1301.1068700339079, \"Error\": -0.0034739301653856137}, {\"Sample\": 29, \"Actual\": 1188.9716984047159, \"Predicted\": 1188.1082467845129, \"Error\": 0.0007262171348246096}, {\"Sample\": 30, \"Actual\": 1201.580832342136, \"Predicted\": 1229.9294207594046, \"Error\": -0.02359274353770365}, {\"Sample\": 31, \"Actual\": 1221.5521303263095, \"Predicted\": 1219.5848722286096, \"Error\": 0.0016104577519539516}, {\"Sample\": 32, \"Actual\": 1276.6275313418264, \"Predicted\": 1330.3368600039996, \"Error\": -0.04207125989655017}, {\"Sample\": 33, \"Actual\": 1358.7300519535688, \"Predicted\": 1384.853360263061, \"Error\": -0.019226268140556908}, {\"Sample\": 34, \"Actual\": 1223.929025287634, \"Predicted\": 1199.9066936269771, \"Error\": 0.01962722605995179}, {\"Sample\": 35, \"Actual\": 1283.342824789713, \"Predicted\": 1285.791723897759, \"Error\": -0.0019082189581317902}, {\"Sample\": 36, \"Actual\": 1309.042317176713, \"Predicted\": 1313.5112130252478, \"Error\": -0.0034138666030088397}, {\"Sample\": 37, \"Actual\": 1280.6929742239874, \"Predicted\": 1249.906982213717, \"Error\": 0.024038542125152797}, {\"Sample\": 38, \"Actual\": 1268.4168124327732, \"Predicted\": 1274.3064467671302, \"Error\": -0.004643295702664871}, {\"Sample\": 39, \"Actual\": 1225.447362877872, \"Predicted\": 1208.4415425604184, \"Error\": 0.01387723441463583}, {\"Sample\": 40, \"Actual\": 1278.618966056056, \"Predicted\": 1282.4698032888111, \"Error\": -0.0030117160272017164}, {\"Sample\": 41, \"Actual\": 1213.7588015376248, \"Predicted\": 1224.7983209803583, \"Error\": -0.009095315666299064}, {\"Sample\": 42, \"Actual\": 1250.6314089216185, \"Predicted\": 1242.6674216209244, \"Error\": 0.0063679732044800855}, {\"Sample\": 43, \"Actual\": 1189.4747497473684, \"Predicted\": 1173.9832392653839, \"Error\": 0.013023824579104967}, {\"Sample\": 44, \"Actual\": 1310.880021526164, \"Predicted\": 1316.44769739549, \"Error\": -0.004247281046242447}, {\"Sample\": 45, \"Actual\": 1255.7035076162022, \"Predicted\": 1283.3769423005958, \"Error\": -0.022038191751911455}, {\"Sample\": 46, \"Actual\": 1188.4128129747999, \"Predicted\": 1164.0730188874556, \"Error\": 0.02048092533302259}, {\"Sample\": 47, \"Actual\": 1269.2844779245256, \"Predicted\": 1267.5603347032325, \"Error\": 0.0013583583911089808}, {\"Sample\": 48, \"Actual\": 1234.133193585992, \"Predicted\": 1263.0642538622235, \"Error\": -0.023442413206768292}, {\"Sample\": 49, \"Actual\": 1245.1413200070115, \"Predicted\": 1234.0544953672336, \"Error\": 0.008904069330632652}, {\"Sample\": 50, \"Actual\": 1247.8436066937404, \"Predicted\": 1242.0139802493618, \"Error\": 0.0046717604779213245}, {\"Sample\": 51, \"Actual\": 1216.5157678360151, \"Predicted\": 1218.0783075018587, \"Error\": -0.001284438481733034}, {\"Sample\": 52, \"Actual\": 1224.6259586102722, \"Predicted\": 1215.5446486934077, \"Error\": 0.007415578489917134}, {\"Sample\": 53, \"Actual\": 1279.2707214436796, \"Predicted\": 1282.0537269892684, \"Error\": -0.0021754625498253805}, {\"Sample\": 54, \"Actual\": 1284.4395602096995, \"Predicted\": 1273.768129791894, \"Error\": 0.00830823866563512}, {\"Sample\": 55, \"Actual\": 1255.1727183585, \"Predicted\": 1256.7143433603683, \"Error\": -0.0012282174232437814}, {\"Sample\": 56, \"Actual\": 1275.5107487245623, \"Predicted\": 1269.6560799785227, \"Error\": 0.004590058336939859}, {\"Sample\": 57, \"Actual\": 1296.4092419890528, \"Predicted\": 1278.0422222320894, \"Error\": 0.014167609395304256}, {\"Sample\": 58, \"Actual\": 1272.61599005042, \"Predicted\": 1244.7918013803412, \"Error\": 0.021863774215956783}, {\"Sample\": 59, \"Actual\": 1245.7613600735365, \"Predicted\": 1244.3969568999544, \"Error\": 0.0010952363890156015}, {\"Sample\": 60, \"Actual\": 1304.981552745413, \"Predicted\": 1291.2031711219547, \"Error\": 0.010558296088148802}, {\"Sample\": 61, \"Actual\": 1260.790270257824, \"Predicted\": 1247.0465143896804, \"Error\": 0.010900905719500092}, {\"Sample\": 62, \"Actual\": 1279.2321218932157, \"Predicted\": 1282.9446658757965, \"Error\": -0.0029021660096265065}, {\"Sample\": 63, \"Actual\": 1215.201024508608, \"Predicted\": 1209.816609877313, \"Error\": 0.004430883880691453}, {\"Sample\": 64, \"Actual\": 1256.4075029594353, \"Predicted\": 1270.3590512491792, \"Error\": -0.011104317872092739}, {\"Sample\": 65, \"Actual\": 1244.438281646287, \"Predicted\": 1229.1631255594364, \"Error\": 0.012274739785923965}, {\"Sample\": 66, \"Actual\": 1248.5882677654076, \"Predicted\": 1231.5266018450016, \"Error\": 0.013664765528304432}, {\"Sample\": 67, \"Actual\": 1206.939217451533, \"Predicted\": 1203.7001674159055, \"Error\": 0.002683689442511311}, {\"Sample\": 68, \"Actual\": 1264.6121133274548, \"Predicted\": 1256.5690212942577, \"Error\": 0.006360125724269789}, {\"Sample\": 69, \"Actual\": 1294.5475075561417, \"Predicted\": 1316.3382350054756, \"Error\": -0.016832698160665113}, {\"Sample\": 70, \"Actual\": 1292.0087397685359, \"Predicted\": 1297.7429467401025, \"Error\": -0.00443821066767238}, {\"Sample\": 71, \"Actual\": 1335.8493246843502, \"Predicted\": 1359.5456840072645, \"Error\": -0.017738796498260424}, {\"Sample\": 72, \"Actual\": 1266.2163634909432, \"Predicted\": 1267.8164277394644, \"Error\": -0.0012636578507877305}, {\"Sample\": 73, \"Actual\": 1241.3392659100764, \"Predicted\": 1218.9651352952317, \"Error\": 0.018024186642030798}, {\"Sample\": 74, \"Actual\": 1274.6216120802746, \"Predicted\": 1273.7903930472894, \"Error\": 0.0006521300322443427}, {\"Sample\": 75, \"Actual\": 1252.232606674602, \"Predicted\": 1306.4610264269982, \"Error\": -0.04330538868206265}, {\"Sample\": 76, \"Actual\": 1250.7418460636966, \"Predicted\": 1234.0770844225333, \"Error\": 0.013323901885597109}, {\"Sample\": 77, \"Actual\": 1363.2621131107287, \"Predicted\": 1322.986910328916, \"Error\": 0.02954325686489705}, {\"Sample\": 78, \"Actual\": 1211.5026227565704, \"Predicted\": 1193.096238319267, \"Error\": 0.015193020709623169}, {\"Sample\": 79, \"Actual\": 1272.3664431622674, \"Predicted\": 1269.307332465245, \"Error\": 0.0024042686078857857}, {\"Sample\": 80, \"Actual\": 1226.6764053181562, \"Predicted\": 1239.0420659286228, \"Error\": -0.010080621553374898}, {\"Sample\": 81, \"Actual\": 1248.943183989232, \"Predicted\": 1258.5816821087685, \"Error\": -0.007717323128142879}, {\"Sample\": 82, \"Actual\": 1329.411949174806, \"Predicted\": 1379.7109075009712, \"Error\": -0.03783549437583041}, {\"Sample\": 83, \"Actual\": 1260.426209133047, \"Predicted\": 1241.3469419053183, \"Error\": 0.015137155265005066}, {\"Sample\": 84, \"Actual\": 1251.395786005758, \"Predicted\": 1250.1252728214, \"Error\": 0.001015276860099883}, {\"Sample\": 85, \"Actual\": 1322.2617339029757, \"Predicted\": 1325.9790473984422, \"Error\": -0.002811329557646572}, {\"Sample\": 86, \"Actual\": 1296.762730668896, \"Predicted\": 1286.1017767863339, \"Error\": 0.008221206262662248}, {\"Sample\": 87, \"Actual\": 1264.9596042843318, \"Predicted\": 1280.1653070054115, \"Error\": -0.012020702218141183}, {\"Sample\": 88, \"Actual\": 1257.2051803286924, \"Predicted\": 1265.6100662394147, \"Error\": -0.006685373272582907}, {\"Sample\": 89, \"Actual\": 1255.512167303573, \"Predicted\": 1237.7375770081512, \"Error\": 0.014157242564678447}, {\"Sample\": 90, \"Actual\": 1269.88941987949, \"Predicted\": 1269.0458066742754, \"Error\": 0.000664320209309885}, {\"Sample\": 91, \"Actual\": 1275.1051198494417, \"Predicted\": 1262.4403535567594, \"Error\": 0.00993233114315917}, {\"Sample\": 92, \"Actual\": 1269.0541451040656, \"Predicted\": 1278.9404978260025, \"Error\": -0.00779033168921738}, {\"Sample\": 93, \"Actual\": 1300.1311526863847, \"Predicted\": 1275.8949770475574, \"Error\": 0.018641331367800454}, {\"Sample\": 94, \"Actual\": 1271.1330152810585, \"Predicted\": 1241.700303842201, \"Error\": 0.02315470614406917}, {\"Sample\": 95, \"Actual\": 1277.4575994931706, \"Predicted\": 1248.5476731266906, \"Error\": 0.02263083046979406}, {\"Sample\": 96, \"Actual\": 1242.2342446556156, \"Predicted\": 1222.70370846407, \"Error\": 0.01572210416479072}, {\"Sample\": 97, \"Actual\": 1332.1899318643486, \"Predicted\": 1330.8193211105042, \"Error\": 0.001028840348557721}, {\"Sample\": 98, \"Actual\": 1245.118855380056, \"Predicted\": 1234.0287971936248, \"Error\": 0.008906826957532568}, {\"Sample\": 99, \"Actual\": 1245.0340250263941, \"Predicted\": 1245.1036212068598, \"Error\": -5.589901887552683e-05}]}}, {\"mode\": \"vega-lite\"});\n",
       "</script>"
      ],
      "text/plain": [
       "alt.LayerChart(...)"
      ]
     },
     "metadata": {},
     "output_type": "display_data"
    },
    {
     "name": "stdout",
     "output_type": "stream",
     "text": [
      "RMSE = 0.014285135198096533\n"
     ]
    }
   ],
   "source": [
    "rfrv_errors = aggregate_errors(rfrv, y_test_parcel_rv_full, tests);\n",
    "plot_agg_error(rfrv_errors)\n",
    "print('RMSE = ' + str(np.sqrt((rfrv_errors['Error'] * rfrv_errors['Error']).mean())))"
   ]
  },
  {
   "cell_type": "code",
   "execution_count": 24,
   "metadata": {},
   "outputs": [],
   "source": [
    "f = open('data/rfrv', 'rb')\n",
    "rfrv = pickle.load(f)     \n",
    "f.close()"
   ]
  },
  {
   "cell_type": "code",
   "execution_count": null,
   "metadata": {},
   "outputs": [],
   "source": [
    "erv = pd.merge(y_test_parcel_rv_full, pd.DataFrame(rfrv.predict(X_test_parcel_full)), how='left', left_index=True, right_on=X_test_parcel_full.index)\n",
    "erv.to_csv('y_rfrv.csv')"
   ]
  },
  {
   "cell_type": "code",
   "execution_count": 29,
   "metadata": {},
   "outputs": [
    {
     "output_type": "stream",
     "name": "stderr",
     "text": [
      "[Parallel(n_jobs=8)]: Using backend ThreadingBackend with 8 concurrent workers.\n",
      "[Parallel(n_jobs=8)]: Done  34 tasks      | elapsed:    1.9s\n",
      "[Parallel(n_jobs=8)]: Done 184 tasks      | elapsed:    9.5s\n",
      "[Parallel(n_jobs=8)]: Done 200 out of 200 | elapsed:   10.2s finished\n"
     ]
    }
   ],
   "source": [
    "y_rv = rfrv.predict(pd.concat([X_test_parcel_full, X_train_parcel_full]))\n",
    "pd.DataFrame(y_rv).to_csv('y_rv.csv')"
   ]
  },
  {
   "cell_type": "markdown",
   "metadata": {},
   "source": [
    "-----\n",
    "### 2019 Voted Model"
   ]
  },
  {
   "cell_type": "code",
   "execution_count": 27,
   "metadata": {},
   "outputs": [
    {
     "name": "stdout",
     "output_type": "stream",
     "text": [
      "Accuracy on subset: 0.38331848511986677\n",
      "Accuracy on subset: 0.451652834873971\n"
     ]
    }
   ],
   "source": [
    "rfr = RandomForestRegressor(verbose=0,n_jobs=-1)\n",
    "rf_random = RandomizedSearchCV(estimator=rfr, param_distributions= random_grid, scoring=\"neg_mean_squared_error\", n_iter = 15, cv = 3, verbose=0, random_state=42, n_jobs = -1)\n",
    "rf_random.fit(X_train_parcel,y_train_parcel_19)\n",
    "rf19 = rf_random.best_estimator_\n",
    "print('Accuracy on subset: ' + str(rf19.score(X_test_parcel, y_test_parcel_19)))\n",
    "rf19.fit(X_train_parcel_full, y_train_parcel_19_full)\n",
    "print('Accuracy on subset: ' + str(rf19.score(X_test_parcel_full, y_test_parcel_19_full)))\n",
    "with open('rf19', 'wb') as file:\n",
    "    pickle.dump(rf19, file)\n",
    "send('Done with RF19')"
   ]
  },
  {
   "cell_type": "markdown",
   "metadata": {},
   "source": [
    "#### Feature Importances"
   ]
  },
  {
   "cell_type": "code",
   "execution_count": 38,
   "metadata": {},
   "outputs": [
    {
     "data": {
      "text/html": [
       "\n",
       "<div id=\"altair-viz-6b6e69d0bf2a47d2827a65085ea98689\"></div>\n",
       "<script type=\"text/javascript\">\n",
       "  (function(spec, embedOpt){\n",
       "    let outputDiv = document.currentScript.previousElementSibling;\n",
       "    if (outputDiv.id !== \"altair-viz-6b6e69d0bf2a47d2827a65085ea98689\") {\n",
       "      outputDiv = document.getElementById(\"altair-viz-6b6e69d0bf2a47d2827a65085ea98689\");\n",
       "    }\n",
       "    const paths = {\n",
       "      \"vega\": \"https://cdn.jsdelivr.net/npm//vega@5?noext\",\n",
       "      \"vega-lib\": \"https://cdn.jsdelivr.net/npm//vega-lib?noext\",\n",
       "      \"vega-lite\": \"https://cdn.jsdelivr.net/npm//vega-lite@4.8.1?noext\",\n",
       "      \"vega-embed\": \"https://cdn.jsdelivr.net/npm//vega-embed@6?noext\",\n",
       "    };\n",
       "\n",
       "    function loadScript(lib) {\n",
       "      return new Promise(function(resolve, reject) {\n",
       "        var s = document.createElement('script');\n",
       "        s.src = paths[lib];\n",
       "        s.async = true;\n",
       "        s.onload = () => resolve(paths[lib]);\n",
       "        s.onerror = () => reject(`Error loading script: ${paths[lib]}`);\n",
       "        document.getElementsByTagName(\"head\")[0].appendChild(s);\n",
       "      });\n",
       "    }\n",
       "\n",
       "    function showError(err) {\n",
       "      outputDiv.innerHTML = `<div class=\"error\" style=\"color:red;\">${err}</div>`;\n",
       "      throw err;\n",
       "    }\n",
       "\n",
       "    function displayChart(vegaEmbed) {\n",
       "      vegaEmbed(outputDiv, spec, embedOpt)\n",
       "        .catch(err => showError(`Javascript Error: ${err.message}<br>This usually means there's a typo in your chart specification. See the javascript console for the full traceback.`));\n",
       "    }\n",
       "\n",
       "    if(typeof define === \"function\" && define.amd) {\n",
       "      requirejs.config({paths});\n",
       "      require([\"vega-embed\"], displayChart, err => showError(`Error loading script: ${err.message}`));\n",
       "    } else if (typeof vegaEmbed === \"function\") {\n",
       "      displayChart(vegaEmbed);\n",
       "    } else {\n",
       "      loadScript(\"vega\")\n",
       "        .then(() => loadScript(\"vega-lite\"))\n",
       "        .then(() => loadScript(\"vega-embed\"))\n",
       "        .catch(showError)\n",
       "        .then(() => displayChart(vegaEmbed));\n",
       "    }\n",
       "  })({\"usermeta\": {\"embedOptions\": {\"theme\": \"dark\"}}, \"config\": {\"view\": {\"continuousWidth\": 400, \"continuousHeight\": 300}}, \"data\": {\"name\": \"data-f78bc8ab61f0024eae864f4fb0fdd8cd\"}, \"mark\": \"bar\", \"encoding\": {\"x\": {\"type\": \"nominal\", \"field\": \"Name\", \"sort\": \"-y\"}, \"y\": {\"type\": \"quantitative\", \"field\": \"val\"}}, \"$schema\": \"https://vega.github.io/schema/vega-lite/v4.8.1.json\", \"datasets\": {\"data-f78bc8ab61f0024eae864f4fb0fdd8cd\": [{\"Name\": \"voter_age\", \"val\": 0.31587373304973426}, {\"Name\": \"single_family\", \"val\": 0.1358678568522183}, {\"Name\": \"impsvalunit\", \"val\": 0.0962885818902124}, {\"Name\": \"landvalunit\", \"val\": 0.06866308749813364}, {\"Name\": \"landperunit\", \"val\": 0.05763634342710433}, {\"Name\": \"garagesize\", \"val\": 0.05626469740536392}, {\"Name\": \"interior_area\", \"val\": 0.05490841183457752}, {\"Name\": \"pin\", \"val\": 0.02680424630343577}, {\"Name\": \"age\", \"val\": 0.026005651581519074}, {\"Name\": \"effage\", \"val\": 0.023122416832082913}, {\"Name\": \"sqftfinbasement\", \"val\": 0.017843923355378696}, {\"Name\": \"units\", \"val\": 0.005890075541102096}, {\"Name\": \"baths\", \"val\": 0.005862145647361274}, {\"Name\": \"stories\", \"val\": 0.0054454758532664835}, {\"Name\": \"districtname_SAMMAMISH\", \"val\": 0.005322286000703508}, {\"Name\": \"inadequateparking\", \"val\": 0.004489932366549086}, {\"Name\": \"voter_tenure\", \"val\": 0.003801852677453259}, {\"Name\": \"condition_Fair\", \"val\": 0.0032962374564858505}, {\"Name\": \"condition_Average\", \"val\": 0.0030400250307190046}, {\"Name\": \"complextype_CondoResidentialApt Use\", \"val\": 0.0028265173326906244}, {\"Name\": \"condition_5\", \"val\": 0.0026138690875943185}, {\"Name\": \"heatsource_1\", \"val\": 0.0024305284665100155}, {\"Name\": \"bldggrade_7  Average\", \"val\": 0.002425751866978325}, {\"Name\": \"bldggrade_6  Low Average\", \"val\": 0.0021763382978542954}, {\"Name\": \"owner_residence\", \"val\": 0.0021308462270142265}]}}, {\"mode\": \"vega-lite\"});\n",
       "</script>"
      ],
      "text/plain": [
       "alt.Chart(...)"
      ]
     },
     "execution_count": 38,
     "metadata": {},
     "output_type": "execute_result"
    }
   ],
   "source": [
    "feature_importance(homes, rf19)"
   ]
  },
  {
   "cell_type": "markdown",
   "metadata": {},
   "source": [
    "#### Aggregate Errors"
   ]
  },
  {
   "cell_type": "code",
   "execution_count": 40,
   "metadata": {
    "tags": []
   },
   "outputs": [
    {
     "data": {
      "text/html": [
       "\n",
       "<div id=\"altair-viz-f11490b1c493431dbf97db4dd60fce6f\"></div>\n",
       "<script type=\"text/javascript\">\n",
       "  (function(spec, embedOpt){\n",
       "    let outputDiv = document.currentScript.previousElementSibling;\n",
       "    if (outputDiv.id !== \"altair-viz-f11490b1c493431dbf97db4dd60fce6f\") {\n",
       "      outputDiv = document.getElementById(\"altair-viz-f11490b1c493431dbf97db4dd60fce6f\");\n",
       "    }\n",
       "    const paths = {\n",
       "      \"vega\": \"https://cdn.jsdelivr.net/npm//vega@5?noext\",\n",
       "      \"vega-lib\": \"https://cdn.jsdelivr.net/npm//vega-lib?noext\",\n",
       "      \"vega-lite\": \"https://cdn.jsdelivr.net/npm//vega-lite@4.8.1?noext\",\n",
       "      \"vega-embed\": \"https://cdn.jsdelivr.net/npm//vega-embed@6?noext\",\n",
       "    };\n",
       "\n",
       "    function loadScript(lib) {\n",
       "      return new Promise(function(resolve, reject) {\n",
       "        var s = document.createElement('script');\n",
       "        s.src = paths[lib];\n",
       "        s.async = true;\n",
       "        s.onload = () => resolve(paths[lib]);\n",
       "        s.onerror = () => reject(`Error loading script: ${paths[lib]}`);\n",
       "        document.getElementsByTagName(\"head\")[0].appendChild(s);\n",
       "      });\n",
       "    }\n",
       "\n",
       "    function showError(err) {\n",
       "      outputDiv.innerHTML = `<div class=\"error\" style=\"color:red;\">${err}</div>`;\n",
       "      throw err;\n",
       "    }\n",
       "\n",
       "    function displayChart(vegaEmbed) {\n",
       "      vegaEmbed(outputDiv, spec, embedOpt)\n",
       "        .catch(err => showError(`Javascript Error: ${err.message}<br>This usually means there's a typo in your chart specification. See the javascript console for the full traceback.`));\n",
       "    }\n",
       "\n",
       "    if(typeof define === \"function\" && define.amd) {\n",
       "      requirejs.config({paths});\n",
       "      require([\"vega-embed\"], displayChart, err => showError(`Error loading script: ${err.message}`));\n",
       "    } else if (typeof vegaEmbed === \"function\") {\n",
       "      displayChart(vegaEmbed);\n",
       "    } else {\n",
       "      loadScript(\"vega\")\n",
       "        .then(() => loadScript(\"vega-lite\"))\n",
       "        .then(() => loadScript(\"vega-embed\"))\n",
       "        .catch(showError)\n",
       "        .then(() => displayChart(vegaEmbed));\n",
       "    }\n",
       "  })({\"usermeta\": {\"embedOptions\": {\"theme\": \"dark\"}}, \"config\": {\"view\": {\"continuousWidth\": 400, \"continuousHeight\": 300}}, \"layer\": [{\"mark\": {\"type\": \"point\", \"color\": \"lime\", \"filled\": true}, \"encoding\": {\"x\": {\"type\": \"nominal\", \"field\": \"Sample\"}, \"y\": {\"type\": \"quantitative\", \"field\": \"Actual\"}}}, {\"mark\": {\"type\": \"point\", \"color\": \"orange\", \"filled\": true}, \"encoding\": {\"x\": {\"type\": \"nominal\", \"field\": \"Sample\"}, \"y\": {\"type\": \"quantitative\", \"field\": \"Predicted\"}}}], \"data\": {\"name\": \"data-a447d0c1cd09bf175dcf69b1a2eb81da\"}, \"$schema\": \"https://vega.github.io/schema/vega-lite/v4.8.1.json\", \"datasets\": {\"data-a447d0c1cd09bf175dcf69b1a2eb81da\": [{\"Sample\": 0, \"Actual\": 538.8971230162488, \"Predicted\": 520.427180275719, \"Error\": 0.034273596854909986}, {\"Sample\": 1, \"Actual\": 525.639607879199, \"Predicted\": 544.733579217708, \"Error\": -0.03632521418153302}, {\"Sample\": 2, \"Actual\": 508.6469701841393, \"Predicted\": 487.1010660584088, \"Error\": 0.042359249909481506}, {\"Sample\": 3, \"Actual\": 565.3878322737742, \"Predicted\": 578.3033902845127, \"Error\": -0.022843714125925035}, {\"Sample\": 4, \"Actual\": 535.1589364072114, \"Predicted\": 516.5526008490883, \"Error\": 0.034767868557024725}, {\"Sample\": 5, \"Actual\": 559.8700446937082, \"Predicted\": 538.6240914183705, \"Error\": 0.037948008607891937}, {\"Sample\": 6, \"Actual\": 517.4288794029916, \"Predicted\": 485.7245783396057, \"Error\": 0.061272770665538066}, {\"Sample\": 7, \"Actual\": 532.4702379587885, \"Predicted\": 505.6427592278444, \"Error\": 0.05038305771565108}, {\"Sample\": 8, \"Actual\": 550.2245814712778, \"Predicted\": 567.4205746879522, \"Error\": -0.031252680806613635}, {\"Sample\": 9, \"Actual\": 518.6798228571713, \"Predicted\": 524.5268093463483, \"Error\": -0.011272824257879515}, {\"Sample\": 10, \"Actual\": 570.8651258912591, \"Predicted\": 570.0771348880519, \"Error\": 0.0013803453170781936}, {\"Sample\": 11, \"Actual\": 557.7849311654405, \"Predicted\": 563.459470433847, \"Error\": -0.010173346304910012}, {\"Sample\": 12, \"Actual\": 542.842767398838, \"Predicted\": 580.7701810383019, \"Error\": -0.06986813846890189}, {\"Sample\": 13, \"Actual\": 526.6798283278604, \"Predicted\": 532.0436111089682, \"Error\": -0.01018414317885904}, {\"Sample\": 14, \"Actual\": 540.9609964659439, \"Predicted\": 538.0610295601704, \"Error\": 0.005360768936612483}, {\"Sample\": 15, \"Actual\": 520.3670896188876, \"Predicted\": 533.515206329092, \"Error\": -0.025267002799569907}, {\"Sample\": 16, \"Actual\": 500.14145753256264, \"Predicted\": 520.0513755515269, \"Error\": -0.03980857359273802}, {\"Sample\": 17, \"Actual\": 543.0457039365804, \"Predicted\": 567.913237866976, \"Error\": -0.045792709066896184}, {\"Sample\": 18, \"Actual\": 529.4945523849943, \"Predicted\": 515.2749555310002, \"Error\": 0.026855038998881215}, {\"Sample\": 19, \"Actual\": 520.991675187094, \"Predicted\": 520.9448711656854, \"Error\": 8.983640936631054e-05}, {\"Sample\": 20, \"Actual\": 526.1277510475212, \"Predicted\": 503.0066436862297, \"Error\": 0.04394580463634035}, {\"Sample\": 21, \"Actual\": 571.7174673607568, \"Predicted\": 547.8515346097416, \"Error\": 0.04174427774821798}, {\"Sample\": 22, \"Actual\": 542.7217021478501, \"Predicted\": 547.4251696459609, \"Error\": -0.008666444476969534}, {\"Sample\": 23, \"Actual\": 578.0526719345668, \"Predicted\": 612.4718637879087, \"Error\": -0.05954334877157699}, {\"Sample\": 24, \"Actual\": 571.9180910297443, \"Predicted\": 581.9146389742211, \"Error\": -0.01747898536742893}, {\"Sample\": 25, \"Actual\": 528.2598681686834, \"Predicted\": 534.933076335388, \"Error\": -0.01263243446797996}, {\"Sample\": 26, \"Actual\": 567.614231289615, \"Predicted\": 594.2432821626226, \"Error\": -0.04691399440867895}, {\"Sample\": 27, \"Actual\": 539.4679804184009, \"Predicted\": 558.8423230427455, \"Error\": -0.03591379530870078}, {\"Sample\": 28, \"Actual\": 525.9234264236312, \"Predicted\": 512.0160769785069, \"Error\": 0.026443677437410662}, {\"Sample\": 29, \"Actual\": 509.3962852286329, \"Predicted\": 514.6494520915077, \"Error\": -0.010312534690976356}, {\"Sample\": 30, \"Actual\": 541.048174532488, \"Predicted\": 519.4256546994665, \"Error\": 0.03996413046159016}, {\"Sample\": 31, \"Actual\": 553.8230349398657, \"Predicted\": 514.7239847067311, \"Error\": 0.07059845431922121}, {\"Sample\": 32, \"Actual\": 544.9531776523357, \"Predicted\": 580.3971007065879, \"Error\": -0.0650403089802045}, {\"Sample\": 33, \"Actual\": 549.3763370374389, \"Predicted\": 560.0345280299334, \"Error\": -0.019400527969533135}, {\"Sample\": 34, \"Actual\": 520.3682158351306, \"Predicted\": 544.7302893964752, \"Error\": -0.0468169900082123}, {\"Sample\": 35, \"Actual\": 525.1435439632668, \"Predicted\": 537.9042312762742, \"Error\": -0.024299427194138842}, {\"Sample\": 36, \"Actual\": 538.8760364297686, \"Predicted\": 528.4662711514421, \"Error\": 0.019317550929328096}, {\"Sample\": 37, \"Actual\": 553.7931977867112, \"Predicted\": 551.3895409271663, \"Error\": 0.004340350999527111}, {\"Sample\": 38, \"Actual\": 507.4452593672633, \"Predicted\": 507.33328163626675, \"Error\": 0.00022066957751498714}, {\"Sample\": 39, \"Actual\": 540.9107598436397, \"Predicted\": 512.9630045155923, \"Error\": 0.05166795967624345}, {\"Sample\": 40, \"Actual\": 532.4364252022939, \"Predicted\": 543.3278364319629, \"Error\": -0.020455796624978987}, {\"Sample\": 41, \"Actual\": 550.8859059104542, \"Predicted\": 578.1260923842067, \"Error\": -0.049447964054793486}, {\"Sample\": 42, \"Actual\": 534.8852786085644, \"Predicted\": 539.9173402194134, \"Error\": -0.0094077399623697}, {\"Sample\": 43, \"Actual\": 519.4307831907324, \"Predicted\": 529.2097547269148, \"Error\": -0.01882632268367417}, {\"Sample\": 44, \"Actual\": 549.9857168079277, \"Predicted\": 573.2971644649905, \"Error\": -0.04238555101459821}, {\"Sample\": 45, \"Actual\": 542.1805343206887, \"Predicted\": 528.7649229995948, \"Error\": 0.024743808513713394}, {\"Sample\": 46, \"Actual\": 561.9071852206052, \"Predicted\": 552.125516021403, \"Error\": 0.01740798027945127}, {\"Sample\": 47, \"Actual\": 521.7161761550954, \"Predicted\": 530.0463003575522, \"Error\": -0.01596677385747862}, {\"Sample\": 48, \"Actual\": 518.8290203529377, \"Predicted\": 557.6528295844391, \"Error\": -0.07482967935195911}, {\"Sample\": 49, \"Actual\": 555.5684652154781, \"Predicted\": 551.4829695329197, \"Error\": 0.007353721347329984}, {\"Sample\": 50, \"Actual\": 541.2280051725814, \"Predicted\": 513.973191929427, \"Error\": 0.050357359528104426}, {\"Sample\": 51, \"Actual\": 565.9910382558049, \"Predicted\": 556.3769918938067, \"Error\": 0.016986216586795302}, {\"Sample\": 52, \"Actual\": 522.1307053298938, \"Predicted\": 523.7728764160632, \"Error\": -0.0031451341003435316}, {\"Sample\": 53, \"Actual\": 522.6977116875012, \"Predicted\": 509.2453413137415, \"Error\": 0.02573642484549897}, {\"Sample\": 54, \"Actual\": 553.7740586574029, \"Predicted\": 555.944260323533, \"Error\": -0.003918929809373207}, {\"Sample\": 55, \"Actual\": 533.7252585102494, \"Predicted\": 517.8490554005556, \"Error\": 0.029746021677909715}, {\"Sample\": 56, \"Actual\": 534.0569880942797, \"Predicted\": 512.8254806281327, \"Error\": 0.03975513463817635}, {\"Sample\": 57, \"Actual\": 524.4273121932164, \"Predicted\": 518.1322345694343, \"Error\": 0.012003718108149817}, {\"Sample\": 58, \"Actual\": 502.82505649919, \"Predicted\": 488.0208373396231, \"Error\": 0.02944208719954822}, {\"Sample\": 59, \"Actual\": 568.8738975281435, \"Predicted\": 589.9177416306816, \"Error\": -0.03699210702754554}, {\"Sample\": 60, \"Actual\": 546.9492079492459, \"Predicted\": 539.8806267133848, \"Error\": 0.012923652019470523}, {\"Sample\": 61, \"Actual\": 525.3270754619571, \"Predicted\": 529.7593221479511, \"Error\": -0.00843711830785894}, {\"Sample\": 62, \"Actual\": 544.0221896377768, \"Predicted\": 526.52823997744, \"Error\": 0.03215668403523163}, {\"Sample\": 63, \"Actual\": 555.3566877062428, \"Predicted\": 566.8117234752724, \"Error\": -0.020626447871442095}, {\"Sample\": 64, \"Actual\": 561.6851162032307, \"Predicted\": 540.2442617772987, \"Error\": 0.03817237417801579}, {\"Sample\": 65, \"Actual\": 547.8233275073354, \"Predicted\": 564.9026797997881, \"Error\": -0.031176752494578575}, {\"Sample\": 66, \"Actual\": 528.0053851105539, \"Predicted\": 541.88284926584, \"Error\": -0.026282807991400443}, {\"Sample\": 67, \"Actual\": 534.2752110752049, \"Predicted\": 554.066201306826, \"Error\": -0.03704268852712184}, {\"Sample\": 68, \"Actual\": 515.4375576532476, \"Predicted\": 501.0534391908341, \"Error\": 0.027906616909919028}, {\"Sample\": 69, \"Actual\": 535.9886015052263, \"Predicted\": 544.3975405199365, \"Error\": -0.01568865268980577}, {\"Sample\": 70, \"Actual\": 527.0833467785245, \"Predicted\": 529.6217942025564, \"Error\": -0.004816026610490782}, {\"Sample\": 71, \"Actual\": 531.5887584151825, \"Predicted\": 545.3324023660676, \"Error\": -0.025853902538983068}, {\"Sample\": 72, \"Actual\": 505.8458782885227, \"Predicted\": 517.2369280669802, \"Error\": -0.022518815052912835}, {\"Sample\": 73, \"Actual\": 543.8114634980612, \"Predicted\": 525.3859669326149, \"Error\": 0.03388214078262443}, {\"Sample\": 74, \"Actual\": 518.1194783825197, \"Predicted\": 491.0304456455142, \"Error\": 0.0522833706649532}, {\"Sample\": 75, \"Actual\": 519.4487147154194, \"Predicted\": 520.2041974028908, \"Error\": -0.0014543932174041038}, {\"Sample\": 76, \"Actual\": 545.792458618483, \"Predicted\": 545.8114065860193, \"Error\": -3.471643339347916e-05}, {\"Sample\": 77, \"Actual\": 560.0529470421794, \"Predicted\": 541.2345888736704, \"Error\": 0.033601034094891985}, {\"Sample\": 78, \"Actual\": 521.9856989132826, \"Predicted\": 497.9111714598255, \"Error\": 0.04612104795893385}, {\"Sample\": 79, \"Actual\": 518.9171386294432, \"Predicted\": 494.0462826256828, \"Error\": 0.04792837652163308}, {\"Sample\": 80, \"Actual\": 519.3380695708134, \"Predicted\": 535.1032680182573, \"Error\": -0.030356331205359837}, {\"Sample\": 81, \"Actual\": 552.6326152238765, \"Predicted\": 504.49068511619134, \"Error\": 0.08711380541335306}, {\"Sample\": 82, \"Actual\": 535.347042295978, \"Predicted\": 541.6792206574812, \"Error\": -0.011828174737542205}, {\"Sample\": 83, \"Actual\": 530.6154659179984, \"Predicted\": 526.9417075082107, \"Error\": 0.006923579589659936}, {\"Sample\": 84, \"Actual\": 544.7362295171256, \"Predicted\": 540.9999274657866, \"Error\": 0.006858919691555948}, {\"Sample\": 85, \"Actual\": 556.9245939857776, \"Predicted\": 529.4094198787457, \"Error\": 0.04940556478232064}, {\"Sample\": 86, \"Actual\": 556.1518502680344, \"Predicted\": 564.061975464477, \"Error\": -0.014222959417702751}, {\"Sample\": 87, \"Actual\": 555.9997526072417, \"Predicted\": 568.3151192179305, \"Error\": -0.022149949802924392}, {\"Sample\": 88, \"Actual\": 546.0510248183558, \"Predicted\": 556.3266295364659, \"Error\": -0.018818030277533683}, {\"Sample\": 89, \"Actual\": 545.3058216642659, \"Predicted\": 539.5558584719598, \"Error\": 0.01054447424521754}, {\"Sample\": 90, \"Actual\": 558.9784107508126, \"Predicted\": 578.072414686229, \"Error\": -0.03415875026330542}, {\"Sample\": 91, \"Actual\": 518.9026695245236, \"Predicted\": 513.372117992284, \"Error\": 0.010658167431104879}, {\"Sample\": 92, \"Actual\": 547.4116086734488, \"Predicted\": 512.4288259424609, \"Error\": 0.06390581086828284}, {\"Sample\": 93, \"Actual\": 565.0216576052734, \"Predicted\": 570.843027725181, \"Error\": -0.010302915014939818}, {\"Sample\": 94, \"Actual\": 539.3905413207311, \"Predicted\": 527.426718551439, \"Error\": 0.022180260595593693}, {\"Sample\": 95, \"Actual\": 543.4247541853526, \"Predicted\": 548.7442920973858, \"Error\": -0.009788913499179286}, {\"Sample\": 96, \"Actual\": 529.7501593960345, \"Predicted\": 538.4349225863895, \"Error\": -0.016394073765369693}, {\"Sample\": 97, \"Actual\": 553.3061858166739, \"Predicted\": 562.5863046973527, \"Error\": -0.016772122052063274}, {\"Sample\": 98, \"Actual\": 538.459608152193, \"Predicted\": 538.1038762300923, \"Error\": 0.0006606473665155563}, {\"Sample\": 99, \"Actual\": 530.1965831173741, \"Predicted\": 522.0330193498597, \"Error\": 0.015397239490898624}]}}, {\"mode\": \"vega-lite\"});\n",
       "</script>"
      ],
      "text/plain": [
       "alt.LayerChart(...)"
      ]
     },
     "metadata": {},
     "output_type": "display_data"
    },
    {
     "name": "stdout",
     "output_type": "stream",
     "text": [
      "RMSE = 0.03338086027054189\n"
     ]
    }
   ],
   "source": [
    "rf19_errors = aggregate_errors(rf19, y_test_parcel_19_full, tests)\n",
    "plot_agg_error(rf19_errors)\n",
    "print('RMSE = ' + str(np.sqrt((rf19_errors['Error'] * rf19_errors['Error']).mean())))"
   ]
  },
  {
   "cell_type": "code",
   "execution_count": null,
   "metadata": {},
   "outputs": [],
   "source": [
    "f = open('data/rf19', 'rb')\n",
    "rf19 = pickle.load(f)     \n",
    "f.close()"
   ]
  },
  {
   "cell_type": "code",
   "execution_count": null,
   "metadata": {},
   "outputs": [],
   "source": [
    "e19 = pd.merge(y_test_parcel_19_full, pd.DataFrame(rf19.predict(X_test_parcel_full)), how='left', left_index=True, right_on=X_test_parcel_full.index)\n",
    "e19.to_csv('y_rf19.csv')"
   ]
  },
  {
   "cell_type": "code",
   "execution_count": null,
   "metadata": {},
   "outputs": [],
   "source": [
    "y_19 = rf19.predict(pd.concat([X_test_parcel_full, X_train_parcel_full]))\n",
    "pd.DataFrame(y_19).to_csv('y_19.csv')"
   ]
  },
  {
   "cell_type": "markdown",
   "metadata": {},
   "source": [
    "-----\n",
    "### 2020 Voters"
   ]
  },
  {
   "cell_type": "code",
   "execution_count": 49,
   "metadata": {},
   "outputs": [
    {
     "name": "stdout",
     "output_type": "stream",
     "text": [
      "Fitting 3 folds for each of 15 candidates, totalling 45 fits\n",
      "[Parallel(n_jobs=-1)]: Using backend LokyBackend with 8 concurrent workers.\n",
      "[Parallel(n_jobs=-1)]: Done  45 out of  45 | elapsed: 28.7min finished\n",
      "0.4304487237550123\n",
      "0.6754868192542156\n"
     ]
    }
   ],
   "source": [
    "rfr = RandomForestRegressor(verbose=0,n_jobs=-1)\n",
    "rf_random = RandomizedSearchCV(estimator=rfr, param_distributions= random_grid, scoring=\"neg_mean_squared_error\", n_iter = 15, cv = 3, verbose=1, random_state=42, n_jobs = -1)\n",
    "rf_random.fit(X_train_parcel,y_train_parcel_20)\n",
    "rf20 = rf_random.best_estimator_\n",
    "print(str(rf20.score(X_test_parcel, y_test_parcel_20)))\n",
    "rf20.fit(X_train_parcel_full, y_train_parcel_20_full)\n",
    "print(str(rf20.score(X_test_parcel_full, y_test_parcel_20_full)))\n",
    "with open('rf20', 'wb') as file:\n",
    "    pickle.dump(rf20, file)\n",
    "send('Done with RF20')"
   ]
  },
  {
   "cell_type": "markdown",
   "metadata": {},
   "source": [
    "#### Feature Importances"
   ]
  },
  {
   "cell_type": "code",
   "execution_count": 50,
   "metadata": {},
   "outputs": [
    {
     "data": {
      "text/html": [
       "\n",
       "<div id=\"altair-viz-5641ffa8f5734657ace6ec99c04d07eb\"></div>\n",
       "<script type=\"text/javascript\">\n",
       "  (function(spec, embedOpt){\n",
       "    let outputDiv = document.currentScript.previousElementSibling;\n",
       "    if (outputDiv.id !== \"altair-viz-5641ffa8f5734657ace6ec99c04d07eb\") {\n",
       "      outputDiv = document.getElementById(\"altair-viz-5641ffa8f5734657ace6ec99c04d07eb\");\n",
       "    }\n",
       "    const paths = {\n",
       "      \"vega\": \"https://cdn.jsdelivr.net/npm//vega@5?noext\",\n",
       "      \"vega-lib\": \"https://cdn.jsdelivr.net/npm//vega-lib?noext\",\n",
       "      \"vega-lite\": \"https://cdn.jsdelivr.net/npm//vega-lite@4.8.1?noext\",\n",
       "      \"vega-embed\": \"https://cdn.jsdelivr.net/npm//vega-embed@6?noext\",\n",
       "    };\n",
       "\n",
       "    function loadScript(lib) {\n",
       "      return new Promise(function(resolve, reject) {\n",
       "        var s = document.createElement('script');\n",
       "        s.src = paths[lib];\n",
       "        s.async = true;\n",
       "        s.onload = () => resolve(paths[lib]);\n",
       "        s.onerror = () => reject(`Error loading script: ${paths[lib]}`);\n",
       "        document.getElementsByTagName(\"head\")[0].appendChild(s);\n",
       "      });\n",
       "    }\n",
       "\n",
       "    function showError(err) {\n",
       "      outputDiv.innerHTML = `<div class=\"error\" style=\"color:red;\">${err}</div>`;\n",
       "      throw err;\n",
       "    }\n",
       "\n",
       "    function displayChart(vegaEmbed) {\n",
       "      vegaEmbed(outputDiv, spec, embedOpt)\n",
       "        .catch(err => showError(`Javascript Error: ${err.message}<br>This usually means there's a typo in your chart specification. See the javascript console for the full traceback.`));\n",
       "    }\n",
       "\n",
       "    if(typeof define === \"function\" && define.amd) {\n",
       "      requirejs.config({paths});\n",
       "      require([\"vega-embed\"], displayChart, err => showError(`Error loading script: ${err.message}`));\n",
       "    } else if (typeof vegaEmbed === \"function\") {\n",
       "      displayChart(vegaEmbed);\n",
       "    } else {\n",
       "      loadScript(\"vega\")\n",
       "        .then(() => loadScript(\"vega-lite\"))\n",
       "        .then(() => loadScript(\"vega-embed\"))\n",
       "        .catch(showError)\n",
       "        .then(() => displayChart(vegaEmbed));\n",
       "    }\n",
       "  })({\"usermeta\": {\"embedOptions\": {\"theme\": \"dark\"}}, \"config\": {\"view\": {\"continuousWidth\": 400, \"continuousHeight\": 300}}, \"data\": {\"name\": \"data-50f5558d09b7862d38ca4785ce4739cd\"}, \"mark\": \"bar\", \"encoding\": {\"x\": {\"type\": \"nominal\", \"field\": \"Name\", \"sort\": \"-y\"}, \"y\": {\"type\": \"quantitative\", \"field\": \"val\"}}, \"$schema\": \"https://vega.github.io/schema/vega-lite/v4.8.1.json\", \"datasets\": {\"data-50f5558d09b7862d38ca4785ce4739cd\": [{\"Name\": \"garagesize\", \"val\": 0.21771678723430993}, {\"Name\": \"landperunit\", \"val\": 0.18984051926002402}, {\"Name\": \"impsvalunit\", \"val\": 0.13867137824013295}, {\"Name\": \"landvalunit\", \"val\": 0.08514296740781842}, {\"Name\": \"voter_age\", \"val\": 0.0644551517327219}, {\"Name\": \"interior_area\", \"val\": 0.038644529024111224}, {\"Name\": \"proptype_K\", \"val\": 0.018527977550271083}, {\"Name\": \"age\", \"val\": 0.018521644634070626}, {\"Name\": \"complextype_CondoResidentialApt Use\", \"val\": 0.017020251822218883}, {\"Name\": \"laundry_COMMON\", \"val\": 0.01300064219529631}, {\"Name\": \"effage\", \"val\": 0.01271443136244577}, {\"Name\": \"stories\", \"val\": 0.01252723157322475}, {\"Name\": \"pin\", \"val\": 0.010799699466602522}, {\"Name\": \"single_family\", \"val\": 0.009389817077793629}, {\"Name\": \"sqftfinbasement\", \"val\": 0.0077312187244824825}, {\"Name\": \"units\", \"val\": 0.007673417238532384}, {\"Name\": \"beds\", \"val\": 0.006890784058268313}, {\"Name\": \"complextype_CondoResidential\", \"val\": 0.0062391942622825915}, {\"Name\": \"RegZipCode_98105\", \"val\": 0.004906578499855653}, {\"Name\": \"baths\", \"val\": 0.004466012291169717}, {\"Name\": \"RegZipCode_98119\", \"val\": 0.003701953080711038}, {\"Name\": \"unittype_Development Rights\", \"val\": 0.002710286634232175}, {\"Name\": \"cascades_GOOD\", \"val\": 0.002441284080030616}, {\"Name\": \"RegZipCode_98057\", \"val\": 0.0024214426100402516}, {\"Name\": \"fireplace\", \"val\": 0.001812008250563935}]}}, {\"mode\": \"vega-lite\"});\n",
       "</script>"
      ],
      "text/plain": [
       "alt.Chart(...)"
      ]
     },
     "execution_count": 50,
     "metadata": {},
     "output_type": "execute_result"
    }
   ],
   "source": [
    "feature_importance(homes, rf20)"
   ]
  },
  {
   "cell_type": "markdown",
   "metadata": {},
   "source": [
    "#### Aggregate Errors"
   ]
  },
  {
   "cell_type": "code",
   "execution_count": 51,
   "metadata": {},
   "outputs": [
    {
     "data": {
      "text/html": [
       "\n",
       "<div id=\"altair-viz-0a0c325fea12421b86c5419bec7381f4\"></div>\n",
       "<script type=\"text/javascript\">\n",
       "  (function(spec, embedOpt){\n",
       "    let outputDiv = document.currentScript.previousElementSibling;\n",
       "    if (outputDiv.id !== \"altair-viz-0a0c325fea12421b86c5419bec7381f4\") {\n",
       "      outputDiv = document.getElementById(\"altair-viz-0a0c325fea12421b86c5419bec7381f4\");\n",
       "    }\n",
       "    const paths = {\n",
       "      \"vega\": \"https://cdn.jsdelivr.net/npm//vega@5?noext\",\n",
       "      \"vega-lib\": \"https://cdn.jsdelivr.net/npm//vega-lib?noext\",\n",
       "      \"vega-lite\": \"https://cdn.jsdelivr.net/npm//vega-lite@4.8.1?noext\",\n",
       "      \"vega-embed\": \"https://cdn.jsdelivr.net/npm//vega-embed@6?noext\",\n",
       "    };\n",
       "\n",
       "    function loadScript(lib) {\n",
       "      return new Promise(function(resolve, reject) {\n",
       "        var s = document.createElement('script');\n",
       "        s.src = paths[lib];\n",
       "        s.async = true;\n",
       "        s.onload = () => resolve(paths[lib]);\n",
       "        s.onerror = () => reject(`Error loading script: ${paths[lib]}`);\n",
       "        document.getElementsByTagName(\"head\")[0].appendChild(s);\n",
       "      });\n",
       "    }\n",
       "\n",
       "    function showError(err) {\n",
       "      outputDiv.innerHTML = `<div class=\"error\" style=\"color:red;\">${err}</div>`;\n",
       "      throw err;\n",
       "    }\n",
       "\n",
       "    function displayChart(vegaEmbed) {\n",
       "      vegaEmbed(outputDiv, spec, embedOpt)\n",
       "        .catch(err => showError(`Javascript Error: ${err.message}<br>This usually means there's a typo in your chart specification. See the javascript console for the full traceback.`));\n",
       "    }\n",
       "\n",
       "    if(typeof define === \"function\" && define.amd) {\n",
       "      requirejs.config({paths});\n",
       "      require([\"vega-embed\"], displayChart, err => showError(`Error loading script: ${err.message}`));\n",
       "    } else if (typeof vegaEmbed === \"function\") {\n",
       "      displayChart(vegaEmbed);\n",
       "    } else {\n",
       "      loadScript(\"vega\")\n",
       "        .then(() => loadScript(\"vega-lite\"))\n",
       "        .then(() => loadScript(\"vega-embed\"))\n",
       "        .catch(showError)\n",
       "        .then(() => displayChart(vegaEmbed));\n",
       "    }\n",
       "  })({\"usermeta\": {\"embedOptions\": {\"theme\": \"dark\"}}, \"config\": {\"view\": {\"continuousWidth\": 400, \"continuousHeight\": 300}}, \"layer\": [{\"mark\": {\"type\": \"point\", \"color\": \"lime\", \"filled\": true}, \"encoding\": {\"x\": {\"type\": \"nominal\", \"field\": \"Sample\"}, \"y\": {\"type\": \"quantitative\", \"field\": \"Actual\"}}}, {\"mark\": {\"type\": \"point\", \"color\": \"orange\", \"filled\": true}, \"encoding\": {\"x\": {\"type\": \"nominal\", \"field\": \"Sample\"}, \"y\": {\"type\": \"quantitative\", \"field\": \"Predicted\"}}}], \"data\": {\"name\": \"data-6d8149e7e3a04fb29999ec0e8256bf0a\"}, \"$schema\": \"https://vega.github.io/schema/vega-lite/v4.8.1.json\", \"datasets\": {\"data-6d8149e7e3a04fb29999ec0e8256bf0a\": [{\"Sample\": 0, \"Actual\": 987.624367030605, \"Predicted\": 959.0982166212829, \"Error\": 0.028883603282378427}, {\"Sample\": 1, \"Actual\": 964.3597832567394, \"Predicted\": 953.2060128315483, \"Error\": 0.011565984624041218}, {\"Sample\": 2, \"Actual\": 960.4014530067218, \"Predicted\": 946.1680808938668, \"Error\": 0.014820231756516724}, {\"Sample\": 3, \"Actual\": 1054.223665942074, \"Predicted\": 1030.7146603445901, \"Error\": 0.02229982721595963}, {\"Sample\": 4, \"Actual\": 987.5730634656727, \"Predicted\": 953.2185523180792, \"Error\": 0.034786804560093816}, {\"Sample\": 5, \"Actual\": 1030.9362693096084, \"Predicted\": 1006.3797446429089, \"Error\": 0.023819634052786177}, {\"Sample\": 6, \"Actual\": 955.3110112065464, \"Predicted\": 969.5321941251217, \"Error\": -0.014886443003115958}, {\"Sample\": 7, \"Actual\": 1003.0955303121805, \"Predicted\": 1007.2941409164071, \"Error\": -0.004185653786055559}, {\"Sample\": 8, \"Actual\": 1001.3115672375744, \"Predicted\": 987.5070698078036, \"Error\": 0.013786415618721678}, {\"Sample\": 9, \"Actual\": 970.6799803208811, \"Predicted\": 969.9913794662025, \"Error\": 0.0007094004910361687}, {\"Sample\": 10, \"Actual\": 1051.966665868221, \"Predicted\": 1062.5637636825384, \"Error\": -0.01007360609242421}, {\"Sample\": 11, \"Actual\": 1010.8263806965346, \"Predicted\": 1032.0967193233057, \"Error\": -0.021042524248441462}, {\"Sample\": 12, \"Actual\": 1018.248262896194, \"Predicted\": 1042.4575451017204, \"Error\": -0.02377542205342748}, {\"Sample\": 13, \"Actual\": 1014.5157122383473, \"Predicted\": 1025.2780288977665, \"Error\": -0.010608329205344744}, {\"Sample\": 14, \"Actual\": 1002.5391082307328, \"Predicted\": 1000.691274554362, \"Error\": 0.0018431537096161908}, {\"Sample\": 15, \"Actual\": 989.5657179893415, \"Predicted\": 962.9303569887412, \"Error\": 0.026916212350928614}, {\"Sample\": 16, \"Actual\": 942.2667140360022, \"Predicted\": 947.9809687845895, \"Error\": -0.006064370802308746}, {\"Sample\": 17, \"Actual\": 1021.659818983124, \"Predicted\": 1040.129552356288, \"Error\": -0.018078163621573523}, {\"Sample\": 18, \"Actual\": 984.277562519048, \"Predicted\": 937.5540251900147, \"Error\": 0.0474698795423665}, {\"Sample\": 19, \"Actual\": 959.870748590431, \"Predicted\": 969.6189336353831, \"Error\": -0.010155726757240217}, {\"Sample\": 20, \"Actual\": 970.2127672532888, \"Predicted\": 952.9804949626791, \"Error\": 0.017761333258265528}, {\"Sample\": 21, \"Actual\": 1063.3549446550687, \"Predicted\": 1064.4342908970611, \"Error\": -0.0010150385319763044}, {\"Sample\": 22, \"Actual\": 981.3341278338429, \"Predicted\": 974.2931456162779, \"Error\": 0.007174908135628551}, {\"Sample\": 23, \"Actual\": 1067.4169033513444, \"Predicted\": 1079.8460020754783, \"Error\": -0.011644090219210958}, {\"Sample\": 24, \"Actual\": 1056.2523411069433, \"Predicted\": 1051.8237888484002, \"Error\": 0.004192702904593769}, {\"Sample\": 25, \"Actual\": 980.4666377489823, \"Predicted\": 979.9980301880793, \"Error\": 0.00047794340251992976}, {\"Sample\": 26, \"Actual\": 1079.8648840766825, \"Predicted\": 1069.679993543837, \"Error\": 0.00943163416370727}, {\"Sample\": 27, \"Actual\": 1011.8911112145612, \"Predicted\": 1009.0069861140289, \"Error\": 0.002850232666902771}, {\"Sample\": 28, \"Actual\": 997.587649626914, \"Predicted\": 967.3216538860227, \"Error\": 0.03033918448390016}, {\"Sample\": 29, \"Actual\": 939.4487823839792, \"Predicted\": 921.3375055498647, \"Error\": 0.01927862079735169}, {\"Sample\": 30, \"Actual\": 999.9624833788935, \"Predicted\": 988.8681965365403, \"Error\": 0.01109470307812487}, {\"Sample\": 31, \"Actual\": 1010.3005520343906, \"Predicted\": 981.5868321014477, \"Error\": 0.02842096827040584}, {\"Sample\": 32, \"Actual\": 1003.5328639811535, \"Predicted\": 1020.9480997121207, \"Error\": -0.017353926668508445}, {\"Sample\": 33, \"Actual\": 1015.4409201632943, \"Predicted\": 995.639742582088, \"Error\": 0.019500078427036428}, {\"Sample\": 34, \"Actual\": 964.6907406457833, \"Predicted\": 992.0780264604376, \"Error\": -0.028389705281425964}, {\"Sample\": 35, \"Actual\": 987.0081646281288, \"Predicted\": 999.3125454204278, \"Error\": -0.012466341448081971}, {\"Sample\": 36, \"Actual\": 989.2036211185056, \"Predicted\": 991.3313620953949, \"Error\": -0.0021509635948192695}, {\"Sample\": 37, \"Actual\": 1012.7732359387489, \"Predicted\": 1000.4177954236826, \"Error\": 0.012199611992722103}, {\"Sample\": 38, \"Actual\": 931.1132841921348, \"Predicted\": 935.4968700555814, \"Error\": -0.004707897457665455}, {\"Sample\": 39, \"Actual\": 989.4948499521712, \"Predicted\": 976.0805236067351, \"Error\": 0.013556741953820634}, {\"Sample\": 40, \"Actual\": 981.4714138675677, \"Predicted\": 975.8794170324071, \"Error\": 0.005697564652570818}, {\"Sample\": 41, \"Actual\": 1051.3795819732118, \"Predicted\": 1075.1015720688843, \"Error\": -0.02256272663308854}, {\"Sample\": 42, \"Actual\": 990.9014794760419, \"Predicted\": 1019.7380162080084, \"Error\": -0.029101315649679264}, {\"Sample\": 43, \"Actual\": 974.9403562652556, \"Predicted\": 958.0183645816709, \"Error\": 0.017356950684048463}, {\"Sample\": 44, \"Actual\": 1017.942229582875, \"Predicted\": 1009.3737845481921, \"Error\": 0.008417417792160967}, {\"Sample\": 45, \"Actual\": 1014.0606138914362, \"Predicted\": 991.3391823528152, \"Error\": 0.022406384024154128}, {\"Sample\": 46, \"Actual\": 1038.5447067475366, \"Predicted\": 1018.3970877034724, \"Error\": 0.019399857235960032}, {\"Sample\": 47, \"Actual\": 994.0599481738009, \"Predicted\": 1015.469452893149, \"Error\": -0.02153743821856996}, {\"Sample\": 48, \"Actual\": 977.2960842297163, \"Predicted\": 1000.4229759918271, \"Error\": -0.023664160877446855}, {\"Sample\": 49, \"Actual\": 999.1396456736519, \"Predicted\": 987.4228238252293, \"Error\": 0.01172691114716273}, {\"Sample\": 50, \"Actual\": 1009.071366001411, \"Predicted\": 1031.4990561578525, \"Error\": -0.022226069346625504}, {\"Sample\": 51, \"Actual\": 1043.0928745777508, \"Predicted\": 1039.206619532552, \"Error\": 0.0037257037603406103}, {\"Sample\": 52, \"Actual\": 968.5813719295411, \"Predicted\": 952.9663495091983, \"Error\": 0.016121539059992092}, {\"Sample\": 53, \"Actual\": 981.9042769261225, \"Predicted\": 975.9181675329673, \"Error\": 0.006096428678256551}, {\"Sample\": 54, \"Actual\": 1038.9319175570174, \"Predicted\": 1039.1000602669674, \"Error\": -0.0001618418946501696}, {\"Sample\": 55, \"Actual\": 991.4670254860571, \"Predicted\": 992.3643838259184, \"Error\": -0.0009050813761772494}, {\"Sample\": 56, \"Actual\": 1003.6607298525095, \"Predicted\": 971.4731975433676, \"Error\": 0.03207013221875471}, {\"Sample\": 57, \"Actual\": 960.3469865655735, \"Predicted\": 920.6161635646442, \"Error\": 0.041371320529693154}, {\"Sample\": 58, \"Actual\": 937.0738258015175, \"Predicted\": 923.3454117866356, \"Error\": 0.014650301435043717}, {\"Sample\": 59, \"Actual\": 1053.6608965732707, \"Predicted\": 1075.663783357464, \"Error\": -0.020882322629368916}, {\"Sample\": 60, \"Actual\": 1025.9306012877244, \"Predicted\": 1002.2533502699712, \"Error\": 0.023078803759273816}, {\"Sample\": 61, \"Actual\": 962.9202496184587, \"Predicted\": 948.73999803403, \"Error\": 0.014726299078295806}, {\"Sample\": 62, \"Actual\": 1005.1168638854541, \"Predicted\": 1002.2392923890984, \"Error\": 0.002862922312567661}, {\"Sample\": 63, \"Actual\": 1037.1037973013795, \"Predicted\": 1026.3227023843485, \"Error\": 0.010395386599763828}, {\"Sample\": 64, \"Actual\": 1057.8164132832003, \"Predicted\": 1037.425319872838, \"Error\": 0.019276590109878772}, {\"Sample\": 65, \"Actual\": 1006.476496660129, \"Predicted\": 999.0893212122876, \"Error\": 0.00733964029200369}, {\"Sample\": 66, \"Actual\": 995.3233958980138, \"Predicted\": 995.8565571490233, \"Error\": -0.0005356663504613234}, {\"Sample\": 67, \"Actual\": 977.6776844461293, \"Predicted\": 966.7314691192136, \"Error\": 0.011196139076363368}, {\"Sample\": 68, \"Actual\": 964.7462449269793, \"Predicted\": 928.8556364805597, \"Error\": 0.03720212297808542}, {\"Sample\": 69, \"Actual\": 996.776244732138, \"Predicted\": 990.5212284021632, \"Error\": 0.006275246187930336}, {\"Sample\": 70, \"Actual\": 974.3026912959714, \"Predicted\": 978.2719372984827, \"Error\": -0.0040739351722734515}, {\"Sample\": 71, \"Actual\": 1003.4461277483409, \"Predicted\": 983.1849216645358, \"Error\": 0.020191623170911853}, {\"Sample\": 72, \"Actual\": 927.102647121165, \"Predicted\": 942.62800127508, \"Error\": -0.016746100555450137}, {\"Sample\": 73, \"Actual\": 1008.7305341154139, \"Predicted\": 1026.2260141129973, \"Error\": -0.01734405711523912}, {\"Sample\": 74, \"Actual\": 968.4447385439576, \"Predicted\": 968.888389161318, \"Error\": -0.0004581062808265265}, {\"Sample\": 75, \"Actual\": 951.7810181087509, \"Predicted\": 960.8407697000341, \"Error\": -0.009518735317169387}, {\"Sample\": 76, \"Actual\": 1003.9611571166483, \"Predicted\": 1010.5196876278295, \"Error\": -0.006532653643709795}, {\"Sample\": 77, \"Actual\": 1009.4555522657445, \"Predicted\": 1011.9334806191732, \"Error\": -0.0024547176424627995}, {\"Sample\": 78, \"Actual\": 989.5388652567414, \"Predicted\": 983.0859786796458, \"Error\": 0.006521104732375854}, {\"Sample\": 79, \"Actual\": 986.033291266506, \"Predicted\": 993.2297860425726, \"Error\": -0.0072984298195683875}, {\"Sample\": 80, \"Actual\": 973.3470518205631, \"Predicted\": 972.3575643694379, \"Error\": 0.001016582368307867}, {\"Sample\": 81, \"Actual\": 1013.709023742323, \"Predicted\": 1003.060112298966, \"Error\": 0.010504899526339644}, {\"Sample\": 82, \"Actual\": 994.5087621489862, \"Predicted\": 1013.3785183039442, \"Error\": -0.018973946608759187}, {\"Sample\": 83, \"Actual\": 976.6063917052039, \"Predicted\": 960.8897004211747, \"Error\": 0.016093168565676823}, {\"Sample\": 84, \"Actual\": 1028.3198654965402, \"Predicted\": 1016.1628844834943, \"Error\": 0.0118221785078281}, {\"Sample\": 85, \"Actual\": 1066.1363053130724, \"Predicted\": 1068.527809129278, \"Error\": -0.0022431501528346743}, {\"Sample\": 86, \"Actual\": 1025.1409348581165, \"Predicted\": 987.1903834737213, \"Error\": 0.03701983804758281}, {\"Sample\": 87, \"Actual\": 1038.9728540830606, \"Predicted\": 1030.6128212477217, \"Error\": 0.008046440099454733}, {\"Sample\": 88, \"Actual\": 1009.4021947899599, \"Predicted\": 991.8406363238311, \"Error\": 0.017397979276024007}, {\"Sample\": 89, \"Actual\": 1026.2085527925565, \"Predicted\": 1008.8448376592826, \"Error\": 0.01692025961586767}, {\"Sample\": 90, \"Actual\": 1026.0160085548164, \"Predicted\": 1053.0598085052177, \"Error\": -0.026358068222048073}, {\"Sample\": 91, \"Actual\": 980.4849133078113, \"Predicted\": 955.0983093749783, \"Error\": 0.02589188633937016}, {\"Sample\": 92, \"Actual\": 1011.5899154274736, \"Predicted\": 979.7295384592802, \"Error\": 0.0314953485422301}, {\"Sample\": 93, \"Actual\": 1023.336510236692, \"Predicted\": 1040.492116707861, \"Error\": -0.016764384246586685}, {\"Sample\": 94, \"Actual\": 979.8727262161736, \"Predicted\": 973.6230707213781, \"Error\": 0.006378027806661073}, {\"Sample\": 95, \"Actual\": 988.670618840908, \"Predicted\": 988.1332700294973, \"Error\": 0.0005435064026082074}, {\"Sample\": 96, \"Actual\": 972.960849057306, \"Predicted\": 975.8921247470728, \"Error\": -0.003012737555274629}, {\"Sample\": 97, \"Actual\": 1018.4634239493902, \"Predicted\": 1042.0259017716132, \"Error\": -0.02313532058996547}, {\"Sample\": 98, \"Actual\": 986.9135075967733, \"Predicted\": 984.3718098728391, \"Error\": 0.0025754006854395175}, {\"Sample\": 99, \"Actual\": 969.9158974430205, \"Predicted\": 966.1877169071897, \"Error\": 0.0038438183616325565}]}}, {\"mode\": \"vega-lite\"});\n",
       "</script>"
      ],
      "text/plain": [
       "alt.LayerChart(...)"
      ]
     },
     "metadata": {},
     "output_type": "display_data"
    },
    {
     "name": "stdout",
     "output_type": "stream",
     "text": [
      "RMSE = 0.017784277175286363\n"
     ]
    }
   ],
   "source": [
    "rf20_errors = aggregate_errors(rf20, y_test_parcel_20_full, tests)\n",
    "plot_agg_error(rf20_errors)\n",
    "print('RMSE = ' + str(np.sqrt((rf20_errors['Error'] * rf20_errors['Error']).mean())))"
   ]
  },
  {
   "cell_type": "code",
   "execution_count": 32,
   "metadata": {},
   "outputs": [],
   "source": [
    "f = open('data/rf20', 'rb')\n",
    "rf20 = pickle.load(f)     \n",
    "f.close()"
   ]
  },
  {
   "cell_type": "code",
   "execution_count": null,
   "metadata": {},
   "outputs": [],
   "source": [
    "e20 = pd.merge(y_test_parcel_20_full, pd.DataFrame(rf20.predict(X_test_parcel_full)), how='left', left_index=True, right_on=X_test_parcel_full.index)\n",
    "e20.to_csv('y_rf20.csv')"
   ]
  },
  {
   "cell_type": "code",
   "execution_count": 38,
   "metadata": {},
   "outputs": [],
   "source": [
    "y_20 = rf20.predict(pd.concat([X_test_parcel_full, X_train_parcel_full]))\n",
    "pd.DataFrame(y_20).to_csv('y_20.csv')"
   ]
  },
  {
   "cell_type": "code",
   "execution_count": 46,
   "metadata": {},
   "outputs": [],
   "source": [
    "y_full = pd.DataFrame(y_rv).merge(pd.DataFrame(y_20), how='left', left_index=True, right_index=True).merge(pd.DataFrame(y_19), how='left', left_index=True, right_index=True)\n",
    "y_full.columns=['rv_pred','v20','v19']"
   ]
  },
  {
   "cell_type": "code",
   "execution_count": 47,
   "metadata": {},
   "outputs": [
    {
     "output_type": "execute_result",
     "data": {
      "text/plain": [
       "         rv_pred       v20       v19\n",
       "0       1.003859  1.007266  0.714036\n",
       "1       0.999728  1.000096  0.664502\n",
       "2       1.002056  1.007266  0.714197\n",
       "3       1.004025  1.000766  0.662539\n",
       "4       1.089214  1.019894  0.674050\n",
       "...          ...       ...       ...\n",
       "989593  2.965298  2.656308  1.567566\n",
       "989594  2.190160  1.316052  0.801750\n",
       "989595  1.228244  1.183820  1.221424\n",
       "989596  1.849885  1.975462  1.599413\n",
       "989597  1.685530  1.094173  0.684906\n",
       "\n",
       "[989598 rows x 3 columns]"
      ],
      "text/html": "<div>\n<style scoped>\n    .dataframe tbody tr th:only-of-type {\n        vertical-align: middle;\n    }\n\n    .dataframe tbody tr th {\n        vertical-align: top;\n    }\n\n    .dataframe thead th {\n        text-align: right;\n    }\n</style>\n<table border=\"1\" class=\"dataframe\">\n  <thead>\n    <tr style=\"text-align: right;\">\n      <th></th>\n      <th>rv_pred</th>\n      <th>v20</th>\n      <th>v19</th>\n    </tr>\n  </thead>\n  <tbody>\n    <tr>\n      <th>0</th>\n      <td>1.003859</td>\n      <td>1.007266</td>\n      <td>0.714036</td>\n    </tr>\n    <tr>\n      <th>1</th>\n      <td>0.999728</td>\n      <td>1.000096</td>\n      <td>0.664502</td>\n    </tr>\n    <tr>\n      <th>2</th>\n      <td>1.002056</td>\n      <td>1.007266</td>\n      <td>0.714197</td>\n    </tr>\n    <tr>\n      <th>3</th>\n      <td>1.004025</td>\n      <td>1.000766</td>\n      <td>0.662539</td>\n    </tr>\n    <tr>\n      <th>4</th>\n      <td>1.089214</td>\n      <td>1.019894</td>\n      <td>0.674050</td>\n    </tr>\n    <tr>\n      <th>...</th>\n      <td>...</td>\n      <td>...</td>\n      <td>...</td>\n    </tr>\n    <tr>\n      <th>989593</th>\n      <td>2.965298</td>\n      <td>2.656308</td>\n      <td>1.567566</td>\n    </tr>\n    <tr>\n      <th>989594</th>\n      <td>2.190160</td>\n      <td>1.316052</td>\n      <td>0.801750</td>\n    </tr>\n    <tr>\n      <th>989595</th>\n      <td>1.228244</td>\n      <td>1.183820</td>\n      <td>1.221424</td>\n    </tr>\n    <tr>\n      <th>989596</th>\n      <td>1.849885</td>\n      <td>1.975462</td>\n      <td>1.599413</td>\n    </tr>\n    <tr>\n      <th>989597</th>\n      <td>1.685530</td>\n      <td>1.094173</td>\n      <td>0.684906</td>\n    </tr>\n  </tbody>\n</table>\n<p>989598 rows × 3 columns</p>\n</div>"
     },
     "metadata": {},
     "execution_count": 47
    }
   ],
   "source": [
    "y_full"
   ]
  },
  {
   "cell_type": "code",
   "execution_count": 49,
   "metadata": {},
   "outputs": [],
   "source": [
    "y_full = y_full.merge(homes['pin'], how='left', left_index=True, right_index=True)"
   ]
  },
  {
   "cell_type": "code",
   "execution_count": 51,
   "metadata": {},
   "outputs": [],
   "source": [
    "y_full = y_full.groupby('pin').agg('sum')"
   ]
  },
  {
   "cell_type": "code",
   "execution_count": 52,
   "metadata": {},
   "outputs": [],
   "source": [
    "y_full['delta'] = (y_full['v20'] - y_full['v19']) / y_full['rv_pred']"
   ]
  },
  {
   "cell_type": "code",
   "execution_count": 56,
   "metadata": {},
   "outputs": [],
   "source": [
    "y_full.dropna(subset = ['rv_pred']).to_csv('delta_predict.csv')"
   ]
  },
  {
   "cell_type": "code",
   "execution_count": null,
   "metadata": {},
   "outputs": [],
   "source": []
  }
 ],
 "metadata": {
  "kernelspec": {
   "display_name": "Python 3",
   "language": "python",
   "name": "python3"
  },
  "language_info": {
   "codemirror_mode": {
    "name": "ipython",
    "version": 3
   },
   "file_extension": ".py",
   "mimetype": "text/x-python",
   "name": "python",
   "nbconvert_exporter": "python",
   "pygments_lexer": "ipython3",
   "version": "3.7.8-final"
  }
 },
 "nbformat": 4,
 "nbformat_minor": 2
}