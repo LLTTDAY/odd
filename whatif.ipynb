{
 "metadata": {
  "language_info": {
   "codemirror_mode": {
    "name": "ipython",
    "version": 3
   },
   "file_extension": ".py",
   "mimetype": "text/x-python",
   "name": "python",
   "nbconvert_exporter": "python",
   "pygments_lexer": "ipython3",
   "version": "3.7.8-final"
  },
  "orig_nbformat": 2,
  "kernelspec": {
   "name": "python3",
   "display_name": "Python 3"
  }
 },
 "nbformat": 4,
 "nbformat_minor": 2,
 "cells": [
  {
   "cell_type": "code",
   "execution_count": 1,
   "metadata": {},
   "outputs": [],
   "source": [
    "import pandas as pd\n",
    "import altair as alt\n",
    "import cats\n",
    "import queries as q\n",
    "from con import con"
   ]
  },
  {
   "cell_type": "code",
   "execution_count": 79,
   "metadata": {},
   "outputs": [],
   "source": [
    "pv = pd.read_pickle('voters')\n",
    "d4 = pd.read_csv('d4.csv')\n",
    "m17 = pd.read_csv('mayor17.csv')\n",
    "m13 = pd.read_csv('mayor13.csv')\n",
    "pp = pd.concat(pd.read_sql(q.pp_sql,con,chunksize=500))\n",
    "p_to = pd.read_csv('p_to.csv')"
   ]
  },
  {
   "cell_type": "code",
   "execution_count": 82,
   "metadata": {},
   "outputs": [],
   "source": [
    "parcel_votes = pp.merge(pv,how='left',left_on=['major','minor'], right_on=['MAJOR','MINOR'])"
   ]
  },
  {
   "cell_type": "code",
   "execution_count": 100,
   "metadata": {},
   "outputs": [],
   "source": [
    "d4res = d4.loc[d4['counter'].isin(['Shaun Scott','Alex Pedersen','Registered Voters','Times Counted']),['precinct','counter','count']].pivot_table(index='precinct',columns='counter',aggfunc='sum')"
   ]
  },
  {
   "cell_type": "code",
   "execution_count": 101,
   "metadata": {},
   "outputs": [],
   "source": [
    "d4res.columns = d4res.columns.droplevel(0)\n",
    "d4res.columns.name = None              \n",
    "d4res = d4res.reset_index()  "
   ]
  },
  {
   "cell_type": "code",
   "execution_count": 86,
   "metadata": {},
   "outputs": [],
   "source": [
    "p_to['pin'] = p_to['pin'].astype(str).str.zfill(10)"
   ]
  },
  {
   "cell_type": "code",
   "execution_count": 87,
   "metadata": {},
   "outputs": [],
   "source": [
    "parcel_votes['pin'] = parcel_votes['major'] + parcel_votes['minor']"
   ]
  },
  {
   "cell_type": "code",
   "execution_count": 88,
   "metadata": {},
   "outputs": [],
   "source": [
    "parcel_votes = parcel_votes.merge(p_to,how='left',left_on=['pin'], right_on=['pin'])"
   ]
  },
  {
   "cell_type": "code",
   "execution_count": 102,
   "metadata": {},
   "outputs": [],
   "source": [
    "pv4 = parcel_votes.loc[parcel_votes['year'] == '2019'].merge(d4res,how='right',left_on='name',right_on='precinct')"
   ]
  },
  {
   "cell_type": "code",
   "execution_count": 103,
   "metadata": {},
   "outputs": [],
   "source": [
    "parvote = pv4.groupby('precinct').agg({'voters' : 'sum'}).reset_index()\n",
    "parvote.columns = ['precinct','vv']\n",
    "precinct_age = "
   ]
  },
  {
   "cell_type": "code",
   "execution_count": 104,
   "metadata": {},
   "outputs": [],
   "source": [
    "pv4 = pv4.merge(parvote, how='left', left_on='precinct', right_on='precinct')"
   ]
  },
  {
   "cell_type": "code",
   "execution_count": 132,
   "metadata": {},
   "outputs": [
    {
     "output_type": "execute_result",
     "data": {
      "text/plain": [
       "        major minor         name  year     index   MAJOR MINOR RegZipCode  \\\n",
       "0      092504  9437  SEA 46-2090  2019       NaN     NaN   NaN        NaN   \n",
       "1      092504  9436  SEA 46-2090  2019       NaN     NaN   NaN        NaN   \n",
       "2      092504  9435  SEA 46-2090  2019       NaN     NaN   NaN        NaN   \n",
       "3      092504  9431  SEA 46-2090  2019       NaN     NaN   NaN        NaN   \n",
       "4      092504  9430  SEA 46-2090  2019       NaN     NaN   NaN        NaN   \n",
       "...       ...   ...          ...   ...       ...     ...   ...        ...   \n",
       "22597  043800  0006  SEA 46-2274  2019   21306.0  043800  0006      98115   \n",
       "22598  676920  0006  SEA 46-2274  2019  327284.0  676920  0006      98115   \n",
       "22599  604940  0005  SEA 46-2274  2019       NaN     NaN   NaN        NaN   \n",
       "22600  676920  0005  SEA 46-2274  2019       NaN     NaN   NaN        NaN   \n",
       "22601  921290  0005  SEA 46-2274  2019  431485.0  921290  0005      98115   \n",
       "\n",
       "       voter_age  voter_tenure    gender  voters         pin  Unnamed: 0  \\\n",
       "0            NaN           NaN       NaN     NaN  0925049437     61256.0   \n",
       "1            NaN           NaN       NaN     NaN  0925049436     61255.0   \n",
       "2            NaN           NaN       NaN     NaN  0925049435     61254.0   \n",
       "3            NaN           NaN       NaN     NaN  0925049431     61250.0   \n",
       "4            NaN           NaN       NaN     NaN  0925049430     61249.0   \n",
       "...          ...           ...       ...     ...         ...         ...   \n",
       "22597  42.500000     11.000000  0.500000     2.0  0438000006     30559.0   \n",
       "22598  28.000000      2.000000  1.000000     2.0  6769200006    443403.0   \n",
       "22599        NaN           NaN       NaN     NaN  6049400005    412442.0   \n",
       "22600        NaN           NaN       NaN     NaN  6769200005    443402.0   \n",
       "22601  33.666667     10.666667  0.666667     3.0  9212900005    579270.0   \n",
       "\n",
       "           mt_g      mt_p     odd_g     odd_p    pres_g    pres_p  \\\n",
       "0      0.653554  0.329140  0.445180  0.291144  0.820197  0.329379   \n",
       "1      0.653554  0.329140  0.445180  0.291144  0.820197  0.329379   \n",
       "2      0.653554  0.329140  0.445180  0.291144  0.820197  0.329379   \n",
       "3      0.653554  0.329140  0.445180  0.291144  0.820197  0.329379   \n",
       "4      0.653554  0.329140  0.445180  0.291144  0.820197  0.329379   \n",
       "...         ...       ...       ...       ...       ...       ...   \n",
       "22597  0.770677  0.485679  0.646747  0.501125  0.910781  0.560000   \n",
       "22598  0.770677  0.485679  0.646747  0.501125  0.910781  0.560000   \n",
       "22599  0.770677  0.485679  0.646747  0.501125  0.910781  0.560000   \n",
       "22600  0.770677  0.485679  0.646747  0.501125  0.910781  0.560000   \n",
       "22601  0.770677  0.485679  0.646747  0.501125  0.910781  0.560000   \n",
       "\n",
       "          precinct  Alex Pedersen  Registered Voters  Shaun Scott  \\\n",
       "0      SEA 46-2090            107                499          116   \n",
       "1      SEA 46-2090            107                499          116   \n",
       "2      SEA 46-2090            107                499          116   \n",
       "3      SEA 46-2090            107                499          116   \n",
       "4      SEA 46-2090            107                499          116   \n",
       "...            ...            ...                ...          ...   \n",
       "22597  SEA 46-2274            109                283           72   \n",
       "22598  SEA 46-2274            109                283           72   \n",
       "22599  SEA 46-2274            109                283           72   \n",
       "22600  SEA 46-2274            109                283           72   \n",
       "22601  SEA 46-2274            109                283           72   \n",
       "\n",
       "       Times Counted     vv   portion        to     scott  pedersen  \n",
       "0                235  761.0       NaN       NaN       NaN       NaN  \n",
       "1                235  761.0       NaN       NaN       NaN       NaN  \n",
       "2                235  761.0       NaN       NaN       NaN       NaN  \n",
       "3                235  761.0       NaN       NaN       NaN       NaN  \n",
       "4                235  761.0       NaN       NaN       NaN       NaN  \n",
       "...              ...    ...       ...       ...       ...       ...  \n",
       "22597            196  298.0  1.899329  1.729872  0.635463  0.962021  \n",
       "22598            196  298.0  1.899329  1.729872  0.635463  0.962021  \n",
       "22599            196  298.0       NaN       NaN       NaN       NaN  \n",
       "22600            196  298.0       NaN       NaN       NaN       NaN  \n",
       "22601            196  298.0  2.848993  2.594808  0.953195  1.443031  \n",
       "\n",
       "[22602 rows x 30 columns]"
      ],
      "text/html": "<div>\n<style scoped>\n    .dataframe tbody tr th:only-of-type {\n        vertical-align: middle;\n    }\n\n    .dataframe tbody tr th {\n        vertical-align: top;\n    }\n\n    .dataframe thead th {\n        text-align: right;\n    }\n</style>\n<table border=\"1\" class=\"dataframe\">\n  <thead>\n    <tr style=\"text-align: right;\">\n      <th></th>\n      <th>major</th>\n      <th>minor</th>\n      <th>name</th>\n      <th>year</th>\n      <th>index</th>\n      <th>MAJOR</th>\n      <th>MINOR</th>\n      <th>RegZipCode</th>\n      <th>voter_age</th>\n      <th>voter_tenure</th>\n      <th>gender</th>\n      <th>voters</th>\n      <th>pin</th>\n      <th>Unnamed: 0</th>\n      <th>mt_g</th>\n      <th>mt_p</th>\n      <th>odd_g</th>\n      <th>odd_p</th>\n      <th>pres_g</th>\n      <th>pres_p</th>\n      <th>precinct</th>\n      <th>Alex Pedersen</th>\n      <th>Registered Voters</th>\n      <th>Shaun Scott</th>\n      <th>Times Counted</th>\n      <th>vv</th>\n      <th>portion</th>\n      <th>to</th>\n      <th>scott</th>\n      <th>pedersen</th>\n    </tr>\n  </thead>\n  <tbody>\n    <tr>\n      <th>0</th>\n      <td>092504</td>\n      <td>9437</td>\n      <td>SEA 46-2090</td>\n      <td>2019</td>\n      <td>NaN</td>\n      <td>NaN</td>\n      <td>NaN</td>\n      <td>NaN</td>\n      <td>NaN</td>\n      <td>NaN</td>\n      <td>NaN</td>\n      <td>NaN</td>\n      <td>0925049437</td>\n      <td>61256.0</td>\n      <td>0.653554</td>\n      <td>0.329140</td>\n      <td>0.445180</td>\n      <td>0.291144</td>\n      <td>0.820197</td>\n      <td>0.329379</td>\n      <td>SEA 46-2090</td>\n      <td>107</td>\n      <td>499</td>\n      <td>116</td>\n      <td>235</td>\n      <td>761.0</td>\n      <td>NaN</td>\n      <td>NaN</td>\n      <td>NaN</td>\n      <td>NaN</td>\n    </tr>\n    <tr>\n      <th>1</th>\n      <td>092504</td>\n      <td>9436</td>\n      <td>SEA 46-2090</td>\n      <td>2019</td>\n      <td>NaN</td>\n      <td>NaN</td>\n      <td>NaN</td>\n      <td>NaN</td>\n      <td>NaN</td>\n      <td>NaN</td>\n      <td>NaN</td>\n      <td>NaN</td>\n      <td>0925049436</td>\n      <td>61255.0</td>\n      <td>0.653554</td>\n      <td>0.329140</td>\n      <td>0.445180</td>\n      <td>0.291144</td>\n      <td>0.820197</td>\n      <td>0.329379</td>\n      <td>SEA 46-2090</td>\n      <td>107</td>\n      <td>499</td>\n      <td>116</td>\n      <td>235</td>\n      <td>761.0</td>\n      <td>NaN</td>\n      <td>NaN</td>\n      <td>NaN</td>\n      <td>NaN</td>\n    </tr>\n    <tr>\n      <th>2</th>\n      <td>092504</td>\n      <td>9435</td>\n      <td>SEA 46-2090</td>\n      <td>2019</td>\n      <td>NaN</td>\n      <td>NaN</td>\n      <td>NaN</td>\n      <td>NaN</td>\n      <td>NaN</td>\n      <td>NaN</td>\n      <td>NaN</td>\n      <td>NaN</td>\n      <td>0925049435</td>\n      <td>61254.0</td>\n      <td>0.653554</td>\n      <td>0.329140</td>\n      <td>0.445180</td>\n      <td>0.291144</td>\n      <td>0.820197</td>\n      <td>0.329379</td>\n      <td>SEA 46-2090</td>\n      <td>107</td>\n      <td>499</td>\n      <td>116</td>\n      <td>235</td>\n      <td>761.0</td>\n      <td>NaN</td>\n      <td>NaN</td>\n      <td>NaN</td>\n      <td>NaN</td>\n    </tr>\n    <tr>\n      <th>3</th>\n      <td>092504</td>\n      <td>9431</td>\n      <td>SEA 46-2090</td>\n      <td>2019</td>\n      <td>NaN</td>\n      <td>NaN</td>\n      <td>NaN</td>\n      <td>NaN</td>\n      <td>NaN</td>\n      <td>NaN</td>\n      <td>NaN</td>\n      <td>NaN</td>\n      <td>0925049431</td>\n      <td>61250.0</td>\n      <td>0.653554</td>\n      <td>0.329140</td>\n      <td>0.445180</td>\n      <td>0.291144</td>\n      <td>0.820197</td>\n      <td>0.329379</td>\n      <td>SEA 46-2090</td>\n      <td>107</td>\n      <td>499</td>\n      <td>116</td>\n      <td>235</td>\n      <td>761.0</td>\n      <td>NaN</td>\n      <td>NaN</td>\n      <td>NaN</td>\n      <td>NaN</td>\n    </tr>\n    <tr>\n      <th>4</th>\n      <td>092504</td>\n      <td>9430</td>\n      <td>SEA 46-2090</td>\n      <td>2019</td>\n      <td>NaN</td>\n      <td>NaN</td>\n      <td>NaN</td>\n      <td>NaN</td>\n      <td>NaN</td>\n      <td>NaN</td>\n      <td>NaN</td>\n      <td>NaN</td>\n      <td>0925049430</td>\n      <td>61249.0</td>\n      <td>0.653554</td>\n      <td>0.329140</td>\n      <td>0.445180</td>\n      <td>0.291144</td>\n      <td>0.820197</td>\n      <td>0.329379</td>\n      <td>SEA 46-2090</td>\n      <td>107</td>\n      <td>499</td>\n      <td>116</td>\n      <td>235</td>\n      <td>761.0</td>\n      <td>NaN</td>\n      <td>NaN</td>\n      <td>NaN</td>\n      <td>NaN</td>\n    </tr>\n    <tr>\n      <th>...</th>\n      <td>...</td>\n      <td>...</td>\n      <td>...</td>\n      <td>...</td>\n      <td>...</td>\n      <td>...</td>\n      <td>...</td>\n      <td>...</td>\n      <td>...</td>\n      <td>...</td>\n      <td>...</td>\n      <td>...</td>\n      <td>...</td>\n      <td>...</td>\n      <td>...</td>\n      <td>...</td>\n      <td>...</td>\n      <td>...</td>\n      <td>...</td>\n      <td>...</td>\n      <td>...</td>\n      <td>...</td>\n      <td>...</td>\n      <td>...</td>\n      <td>...</td>\n      <td>...</td>\n      <td>...</td>\n      <td>...</td>\n      <td>...</td>\n      <td>...</td>\n    </tr>\n    <tr>\n      <th>22597</th>\n      <td>043800</td>\n      <td>0006</td>\n      <td>SEA 46-2274</td>\n      <td>2019</td>\n      <td>21306.0</td>\n      <td>043800</td>\n      <td>0006</td>\n      <td>98115</td>\n      <td>42.500000</td>\n      <td>11.000000</td>\n      <td>0.500000</td>\n      <td>2.0</td>\n      <td>0438000006</td>\n      <td>30559.0</td>\n      <td>0.770677</td>\n      <td>0.485679</td>\n      <td>0.646747</td>\n      <td>0.501125</td>\n      <td>0.910781</td>\n      <td>0.560000</td>\n      <td>SEA 46-2274</td>\n      <td>109</td>\n      <td>283</td>\n      <td>72</td>\n      <td>196</td>\n      <td>298.0</td>\n      <td>1.899329</td>\n      <td>1.729872</td>\n      <td>0.635463</td>\n      <td>0.962021</td>\n    </tr>\n    <tr>\n      <th>22598</th>\n      <td>676920</td>\n      <td>0006</td>\n      <td>SEA 46-2274</td>\n      <td>2019</td>\n      <td>327284.0</td>\n      <td>676920</td>\n      <td>0006</td>\n      <td>98115</td>\n      <td>28.000000</td>\n      <td>2.000000</td>\n      <td>1.000000</td>\n      <td>2.0</td>\n      <td>6769200006</td>\n      <td>443403.0</td>\n      <td>0.770677</td>\n      <td>0.485679</td>\n      <td>0.646747</td>\n      <td>0.501125</td>\n      <td>0.910781</td>\n      <td>0.560000</td>\n      <td>SEA 46-2274</td>\n      <td>109</td>\n      <td>283</td>\n      <td>72</td>\n      <td>196</td>\n      <td>298.0</td>\n      <td>1.899329</td>\n      <td>1.729872</td>\n      <td>0.635463</td>\n      <td>0.962021</td>\n    </tr>\n    <tr>\n      <th>22599</th>\n      <td>604940</td>\n      <td>0005</td>\n      <td>SEA 46-2274</td>\n      <td>2019</td>\n      <td>NaN</td>\n      <td>NaN</td>\n      <td>NaN</td>\n      <td>NaN</td>\n      <td>NaN</td>\n      <td>NaN</td>\n      <td>NaN</td>\n      <td>NaN</td>\n      <td>6049400005</td>\n      <td>412442.0</td>\n      <td>0.770677</td>\n      <td>0.485679</td>\n      <td>0.646747</td>\n      <td>0.501125</td>\n      <td>0.910781</td>\n      <td>0.560000</td>\n      <td>SEA 46-2274</td>\n      <td>109</td>\n      <td>283</td>\n      <td>72</td>\n      <td>196</td>\n      <td>298.0</td>\n      <td>NaN</td>\n      <td>NaN</td>\n      <td>NaN</td>\n      <td>NaN</td>\n    </tr>\n    <tr>\n      <th>22600</th>\n      <td>676920</td>\n      <td>0005</td>\n      <td>SEA 46-2274</td>\n      <td>2019</td>\n      <td>NaN</td>\n      <td>NaN</td>\n      <td>NaN</td>\n      <td>NaN</td>\n      <td>NaN</td>\n      <td>NaN</td>\n      <td>NaN</td>\n      <td>NaN</td>\n      <td>6769200005</td>\n      <td>443402.0</td>\n      <td>0.770677</td>\n      <td>0.485679</td>\n      <td>0.646747</td>\n      <td>0.501125</td>\n      <td>0.910781</td>\n      <td>0.560000</td>\n      <td>SEA 46-2274</td>\n      <td>109</td>\n      <td>283</td>\n      <td>72</td>\n      <td>196</td>\n      <td>298.0</td>\n      <td>NaN</td>\n      <td>NaN</td>\n      <td>NaN</td>\n      <td>NaN</td>\n    </tr>\n    <tr>\n      <th>22601</th>\n      <td>921290</td>\n      <td>0005</td>\n      <td>SEA 46-2274</td>\n      <td>2019</td>\n      <td>431485.0</td>\n      <td>921290</td>\n      <td>0005</td>\n      <td>98115</td>\n      <td>33.666667</td>\n      <td>10.666667</td>\n      <td>0.666667</td>\n      <td>3.0</td>\n      <td>9212900005</td>\n      <td>579270.0</td>\n      <td>0.770677</td>\n      <td>0.485679</td>\n      <td>0.646747</td>\n      <td>0.501125</td>\n      <td>0.910781</td>\n      <td>0.560000</td>\n      <td>SEA 46-2274</td>\n      <td>109</td>\n      <td>283</td>\n      <td>72</td>\n      <td>196</td>\n      <td>298.0</td>\n      <td>2.848993</td>\n      <td>2.594808</td>\n      <td>0.953195</td>\n      <td>1.443031</td>\n    </tr>\n  </tbody>\n</table>\n<p>22602 rows × 30 columns</p>\n</div>"
     },
     "metadata": {},
     "execution_count": 132
    }
   ],
   "source": [
    "pv4"
   ]
  },
  {
   "cell_type": "code",
   "execution_count": 25,
   "metadata": {},
   "outputs": [],
   "source": [
    "pd.options.display.max_columns, pd.options.display.max_rows = 200,200"
   ]
  },
  {
   "cell_type": "code",
   "execution_count": 119,
   "metadata": {},
   "outputs": [],
   "source": [
    "m17res = m17.loc[m17['counter'].isin(['Jenny Durkan','Cary Moon','Registered Voters','Times Counted']),['precinct','counter','count']].pivot_table(index='precinct',columns='counter',aggfunc='sum')\n",
    "m17res.columns = m17res.columns.droplevel(0)\n",
    "m17res.columns.name = None              \n",
    "m17res = m17res.reset_index()\n",
    "pm17 = parcel_votes.loc[parcel_votes['year'] == '2017'].merge(m17res,how='right',left_on='name',right_on='precinct')\n",
    "parvote = pm17.groupby('precinct').agg({'voters' : 'sum'}).reset_index()\n",
    "parvote.columns = ['precinct','vv']\n",
    "pm17 = pm17.merge(parvote, how='left', left_on='precinct', right_on='precinct')\n",
    "pm17['portion'] = (pm17['voters'] / pm17['vv']) * pm17['Registered Voters']\n",
    "pm17['to'] = pm17['portion'] * pm17['pres_g']\n",
    "pm17['durkan'] = (pm17['Jenny Durkan'] / pm17['Times Counted']) * pm17['portion'] * pm17['pres_g']\n",
    "pm17['moon'] = (pm17['Cary Moon'] / pm17['Times Counted']) * pm17['portion'] * pm17['pres_g']"
   ]
  },
  {
   "cell_type": "code",
   "execution_count": 121,
   "metadata": {},
   "outputs": [],
   "source": [
    "whatif2 = pm17.groupby('precinct').agg({'Jenny Durkan' : 'first', 'Cary Moon' : 'first', 'durkan' : 'sum', 'moon' : 'sum', 'Registered Voters' : 'first', 'Times Counted' : 'first', 'to' : 'sum'})"
   ]
  },
  {
   "cell_type": "code",
   "execution_count": 131,
   "metadata": {},
   "outputs": [
    {
     "output_type": "execute_result",
     "data": {
      "text/plain": [
       "Shaun Scott          15568.000000\n",
       "Alex Pedersen        16954.000000\n",
       "scott                24548.633718\n",
       "pedersen             24982.933035\n",
       "Registered Voters    61367.000000\n",
       "Times Counted        33962.000000\n",
       "to                   51871.697936\n",
       "dtype: float64"
      ]
     },
     "metadata": {},
     "execution_count": 131
    }
   ],
   "source": [
    "whatif.sum()"
   ]
  },
  {
   "cell_type": "code",
   "execution_count": 122,
   "metadata": {},
   "outputs": [
    {
     "output_type": "execute_result",
     "data": {
      "text/plain": [
       "Jenny Durkan         122442.000000\n",
       "Cary Moon             95251.000000\n",
       "durkan               206459.219133\n",
       "moon                 168157.738064\n",
       "Registered Voters    456871.000000\n",
       "Times Counted        224808.000000\n",
       "to                   386930.439065\n",
       "dtype: float64"
      ]
     },
     "metadata": {},
     "execution_count": 122
    }
   ],
   "source": [
    "whatif2.sum()"
   ]
  },
  {
   "cell_type": "code",
   "execution_count": 125,
   "metadata": {},
   "outputs": [],
   "source": [
    "m13res = m13.loc[m13['counter'].isin(['Ed Murray','Mike McGinn','Registered Voters','Times Counted']),['precinct','counter','count']].pivot_table(index='precinct',columns='counter',aggfunc='sum')\n",
    "m13res.columns = m13res.columns.droplevel(0)\n",
    "m13res.columns.name = None              \n",
    "m13res = m13res.reset_index()\n",
    "pm13 = parcel_votes.loc[parcel_votes['year'] == '2013'].merge(m13res,how='right',left_on='name',right_on='precinct')\n",
    "parvote = pm13.groupby('precinct').agg({'voters' : 'sum'}).reset_index()\n",
    "parvote.columns = ['precinct','vv']\n",
    "pm13 = pm13.merge(parvote, how='left', left_on='precinct', right_on='precinct')\n",
    "pm13['portion'] = (pm13['voters'] / pm13['vv']) * pm13['Registered Voters']\n",
    "pm13['to'] = pm13['portion'] * pm13['pres_g']\n",
    "pm13['murray'] = (pm13['Ed Murray'] / pm13['Times Counted']) * pm13['portion'] * pm13['pres_g']\n",
    "pm13['mcginn'] = (pm13['Mike McGinn'] / pm13['Times Counted']) * pm13['portion'] * pm13['pres_g']"
   ]
  },
  {
   "cell_type": "code",
   "execution_count": 126,
   "metadata": {},
   "outputs": [],
   "source": [
    "whatif3 = pm13.groupby('precinct').agg({'Ed Murray' : 'first', 'Mike McGinn' : 'first', 'murray' : 'sum', 'mcginn' : 'sum', 'Registered Voters' : 'first', 'Times Counted' : 'first', 'to' : 'sum'})"
   ]
  },
  {
   "cell_type": "code",
   "execution_count": 127,
   "metadata": {},
   "outputs": [
    {
     "output_type": "execute_result",
     "data": {
      "text/plain": [
       "Ed Murray            106384.000000\n",
       "Mike McGinn           97935.000000\n",
       "murray               169632.287028\n",
       "mcginn               160095.484676\n",
       "Registered Voters    410572.000000\n",
       "Times Counted        215550.000000\n",
       "to                   348157.750071\n",
       "dtype: float64"
      ]
     },
     "metadata": {},
     "execution_count": 127
    }
   ],
   "source": [
    "whatif3.sum()"
   ]
  },
  {
   "cell_type": "code",
   "execution_count": 128,
   "metadata": {},
   "outputs": [
    {
     "output_type": "execute_result",
     "data": {
      "text/plain": [
       "             Shaun Scott  Alex Pedersen       scott    pedersen  \\\n",
       "precinct                                                          \n",
       "SEA 43-1271          145             78  341.890706  183.913621   \n",
       "SEA 43-1279          270            156  408.845773  236.222002   \n",
       "SEA 43-1357          119             91    0.000000    0.000000   \n",
       "SEA 43-1358          133            108  227.640778  184.851158   \n",
       "SEA 43-1359          194             83  356.120497  152.360831   \n",
       "SEA 43-1360          277            212  411.964521  315.294146   \n",
       "SEA 43-1361          141             56  213.603857   84.835574   \n",
       "SEA 43-1362          202            115  401.386500  228.512117   \n",
       "SEA 43-1363          104             67  193.028956  124.355193   \n",
       "SEA 43-1364          196            131  309.772420  207.041770   \n",
       "SEA 43-1365          197            129  315.919626  206.871227   \n",
       "SEA 43-1366          116             84  197.523199  143.034041   \n",
       "SEA 43-1367          126            117  177.249375  164.588705   \n",
       "SEA 43-1368          118             84  175.601028  125.004122   \n",
       "SEA 43-1369           96             92  137.936508  132.189153   \n",
       "SEA 43-1370          120             99  165.519477  136.553569   \n",
       "SEA 43-1371          119             60  182.540266   92.037109   \n",
       "SEA 43-1372          126             89  179.191087  126.571482   \n",
       "SEA 43-1373          107            133  139.806323  173.777952   \n",
       "SEA 43-1374          111            104  150.719030  141.214226   \n",
       "SEA 43-1375          139            102  186.261729  136.681268   \n",
       "SEA 43-1376          235            152  403.513963  260.996265   \n",
       "SEA 43-1377          114            100  166.471723  146.027827   \n",
       "SEA 43-1378          113             93  156.524818  128.821310   \n",
       "SEA 43-1379           77            104  106.807089  144.258925   \n",
       "SEA 43-1380          106             93  138.011242  121.085335   \n",
       "SEA 43-1975           43             18  113.853435   47.659577   \n",
       "SEA 43-1976           45              9  190.140324   38.028065   \n",
       "SEA 43-1982          154            121  284.677771  223.675391   \n",
       "SEA 43-2000          162            125  317.579358  245.045801   \n",
       "SEA 43-2001          152            213  230.858500  323.505661   \n",
       "SEA 43-2002          202            189  332.504425  311.105625   \n",
       "SEA 43-2004          122             84  198.965496  136.992637   \n",
       "SEA 43-2023          154            107  230.861091  160.403485   \n",
       "SEA 43-2024          133             62  196.366220   91.539140   \n",
       "SEA 43-2035          159            129  330.346466  268.016944   \n",
       "SEA 43-2043          141             58  197.157731   81.100343   \n",
       "SEA 43-2044          103             86  161.815913  135.108432   \n",
       "SEA 43-2045          111             87  173.114122  135.684041   \n",
       "SEA 43-2048          137             58  220.878506   93.510608   \n",
       "SEA 43-2049          160             58  288.129888  104.447084   \n",
       "SEA 43-2050          116             83  241.600177  172.869092   \n",
       "SEA 43-2052          126             34  329.134235   88.814000   \n",
       "SEA 43-2055          109             42  239.533967   92.297492   \n",
       "SEA 43-2061          130             87  266.428618  178.302229   \n",
       "SEA 43-2064          107             38  199.152028   70.726888   \n",
       "SEA 43-2065          165             67  368.430733  149.605207   \n",
       "SEA 43-2068          147             74  247.201551  124.441597   \n",
       "SEA 43-2069          261            201  417.789290  321.745775   \n",
       "SEA 43-2071          103            135  129.924069  170.288828   \n",
       "SEA 43-2074          170            134  257.622096  203.066829   \n",
       "SEA 43-2075           60             67  127.373907  142.234196   \n",
       "SEA 43-2076           48             57  116.215027  138.005345   \n",
       "SEA 43-2081           27             23   84.517206   71.996139   \n",
       "SEA 43-2083          121             83  190.732211  130.832839   \n",
       "SEA 43-2084          219            225  294.402306  302.468122   \n",
       "SEA 43-2088          153            133  302.219758  262.713907   \n",
       "SEA 43-2089           36             17  125.989906   59.495233   \n",
       "SEA 43-2109          138             49  327.422934  116.258868   \n",
       "SEA 43-2110          138             47  292.665923   99.676075   \n",
       "SEA 43-2113           85             43  242.203156  122.526303   \n",
       "SEA 43-2115           87             19  267.740919   58.472155   \n",
       "SEA 43-2237          206            162  284.069339  223.394334   \n",
       "SEA 43-2238          289            261  397.115841  358.640950   \n",
       "SEA 43-2239          200            182  272.014394  247.533099   \n",
       "SEA 43-2987           48             23  153.721384   73.658163   \n",
       "SEA 43-3748          197             87  367.936674  162.489800   \n",
       "SEA 43-3787           79             51  122.922077   79.354759   \n",
       "SEA 43-3805          104             68  207.611479  135.745967   \n",
       "SEA 46-1952           45            147   56.638585  185.019379   \n",
       "SEA 46-1953           46            109   61.929512  146.746017   \n",
       "SEA 46-1954           49            148   63.465772  191.692536   \n",
       "SEA 46-1955          220            113  345.138706  177.275790   \n",
       "SEA 46-1957           58            298   76.204472  391.533319   \n",
       "SEA 46-1959          117            337  165.204075  475.844215   \n",
       "SEA 46-1961           52            112   74.407608  160.262541   \n",
       "SEA 46-1962           55            136   80.552151  199.183500   \n",
       "SEA 46-1963           49             81   78.316919  129.462661   \n",
       "SEA 46-1964          124            128  225.546795  232.822498   \n",
       "SEA 46-1965           82            106  121.706417  157.327807   \n",
       "SEA 46-1966           95             84  141.192977  124.844316   \n",
       "SEA 46-1967          162            152  212.219941  199.119945   \n",
       "SEA 46-1968           73             98  110.586690  148.458844   \n",
       "SEA 46-1969           50            117   77.764755  181.969527   \n",
       "SEA 46-1970           36            114   51.850815  164.194247   \n",
       "SEA 46-1971           30            221   37.043645  272.888186   \n",
       "SEA 46-1974           46            212   69.910905  322.198083   \n",
       "SEA 46-1977           26            172   34.521680  228.374188   \n",
       "SEA 46-1978           51            285   67.263183  375.882495   \n",
       "SEA 46-1980           32            193   47.056209  283.807759   \n",
       "SEA 46-2056           79            153  106.628056  206.507501   \n",
       "SEA 46-2057           37            251   51.446160  348.999623   \n",
       "SEA 46-2090          116            107  198.944998  183.509611   \n",
       "SEA 46-2091          121            119  189.036636  185.912064   \n",
       "SEA 46-2092          107            118  141.462729  156.005626   \n",
       "SEA 46-2093          201            131  253.410418  165.158034   \n",
       "SEA 46-2094           73             94  110.726995  142.579966   \n",
       "SEA 46-2095           97            106  129.784214  141.826048   \n",
       "SEA 46-2096           50            100   67.220409  134.440818   \n",
       "SEA 46-2097          119            149  155.483696  194.681266   \n",
       "SEA 46-2098          114            185  159.686665  259.140641   \n",
       "SEA 46-2099          118            169  161.866887  231.826304   \n",
       "SEA 46-2100          121            133  169.117117  185.889062   \n",
       "SEA 46-2231          197            239  295.541685  358.550572   \n",
       "SEA 46-2234           66             99  102.579203  153.868805   \n",
       "SEA 46-2236          134            128  187.331576  178.943595   \n",
       "SEA 46-2240          127            167  178.741887  235.038545   \n",
       "SEA 46-2243          107            218  148.968721  303.506366   \n",
       "SEA 46-2244           49            152   64.126010  198.921499   \n",
       "SEA 46-2245           73            230   91.952992  289.714905   \n",
       "SEA 46-2247          111            278  156.553217  392.088237   \n",
       "SEA 46-2249           40            133   51.841214  172.372036   \n",
       "SEA 46-2251          135            196  186.598469  270.913332   \n",
       "SEA 46-2252           84            108  111.088195  142.827680   \n",
       "SEA 46-2253          142            176  205.268275  254.417017   \n",
       "SEA 46-2257          129            152  199.271261  234.800245   \n",
       "SEA 46-2260          238            278  308.086612  359.865874   \n",
       "SEA 46-2261           64            105   96.886248  158.954001   \n",
       "SEA 46-2263          156            256  208.727431  342.527065   \n",
       "SEA 46-2264          228            227    0.000000    0.000000   \n",
       "SEA 46-2266           25            283   35.183424  398.276362   \n",
       "SEA 46-2267          131            134  262.674219  268.689660   \n",
       "SEA 46-2270           65            126   86.043235  166.791502   \n",
       "SEA 46-2272           74            181   95.144818  232.719083   \n",
       "SEA 46-2274           72            109   94.684015  143.341078   \n",
       "SEA 46-2276          103            127  143.767484  177.266704   \n",
       "SEA 46-2277          190            181  253.801787  241.779597   \n",
       "SEA 46-2280          198            224  269.874109  305.312123   \n",
       "SEA 46-2375           76            134   99.151726  174.820148   \n",
       "SEA 46-2377          102            258  139.518241  352.899080   \n",
       "SEA 46-3687           29            100   44.985369  155.121961   \n",
       "SEA 46-3688            9              7   11.340879    8.820684   \n",
       "SEA 46-3798          115            142  140.773691  173.824906   \n",
       "\n",
       "             Registered Voters  Times Counted          to  \n",
       "precinct                                                   \n",
       "SEA 43-1271                640            237  558.814464  \n",
       "SEA 43-1279                765            443  670.809917  \n",
       "SEA 43-1357                344            217    0.000000  \n",
       "SEA 43-1358                486            249  426.184615  \n",
       "SEA 43-1359                601            291  534.180745  \n",
       "SEA 43-1360                859            508  755.516161  \n",
       "SEA 43-1361                354            203  307.528958  \n",
       "SEA 43-1362                764            337  669.639855  \n",
       "SEA 43-1363                403            185  343.368816  \n",
       "SEA 43-1364                597            341  538.940792  \n",
       "SEA 43-1365                618            339  543.638341  \n",
       "SEA 43-1366                400            207  352.476743  \n",
       "SEA 43-1367                386            249  350.278527  \n",
       "SEA 43-1368                344            214  318.462882  \n",
       "SEA 43-1369                316            192  275.873016  \n",
       "SEA 43-1370                333            223  307.590361  \n",
       "SEA 43-1371                326            187  286.848989  \n",
       "SEA 43-1372                350            220  312.873326  \n",
       "SEA 43-1373                355            244  318.810680  \n",
       "SEA 43-1374                327            219  297.364573  \n",
       "SEA 43-1375                354            249  333.663096  \n",
       "SEA 43-1376                780            410  704.003084  \n",
       "SEA 43-1377                360            222  324.181776  \n",
       "SEA 43-1378                321            209  289.501654  \n",
       "SEA 43-1379                283            184  255.227329  \n",
       "SEA 43-1380                299            206  268.210526  \n",
       "SEA 43-1975                386             67  177.399538  \n",
       "SEA 43-1976                323             60  253.520432  \n",
       "SEA 43-1982                628            291  537.930073  \n",
       "SEA 43-2000                655            298  584.189189  \n",
       "SEA 43-2001                647            391  593.853116  \n",
       "SEA 43-2002                734            405  666.654911  \n",
       "SEA 43-2004                397            211  344.112457  \n",
       "SEA 43-2023                448            267  400.259165  \n",
       "SEA 43-2024                341            198  292.334673  \n",
       "SEA 43-2035                747            308  639.916424  \n",
       "SEA 43-2043                319            205  286.647764  \n",
       "SEA 43-2044                368            195  306.350515  \n",
       "SEA 43-2045                360            201  313.476923  \n",
       "SEA 43-2048                384            203  327.287129  \n",
       "SEA 43-2049                535            224  403.381843  \n",
       "SEA 43-2050                569            220  458.207232  \n",
       "SEA 43-2052                605            170  444.070000  \n",
       "SEA 43-2055                477            163  358.202171  \n",
       "SEA 43-2061                535            225  461.126453  \n",
       "SEA 43-2064                378            154  286.630021  \n",
       "SEA 43-2065                769            256  571.625864  \n",
       "SEA 43-2068                494            230  386.777937  \n",
       "SEA 43-2069                881            479  766.747394  \n",
       "SEA 43-2071                350            250  315.349682  \n",
       "SEA 43-2074                575            320  484.935710  \n",
       "SEA 43-2075                417            136  288.714188  \n",
       "SEA 43-2076                397            115  278.431836  \n",
       "SEA 43-2081                365             55  172.164680  \n",
       "SEA 43-2083                420            212  334.175445  \n",
       "SEA 43-2084                701            461  619.723575  \n",
       "SEA 43-2088                754            312  616.291271  \n",
       "SEA 43-2089                339             58  202.983737  \n",
       "SEA 43-2109                580            198  469.780731  \n",
       "SEA 43-2110                551            197  417.791209  \n",
       "SEA 43-2113                525            144  410.320641  \n",
       "SEA 43-2115                493            124  381.607747  \n",
       "SEA 43-2237                616            392  540.559130  \n",
       "SEA 43-2238                867            569  781.864752  \n",
       "SEA 43-2239                594            395  537.228428  \n",
       "SEA 43-2987                534             77  246.594720  \n",
       "SEA 43-3748                662            302  564.045053  \n",
       "SEA 43-3787                239            135  210.056714  \n",
       "SEA 43-3805                409            178  355.335032  \n",
       "SEA 46-1952                282            202  254.244317  \n",
       "SEA 46-1953                246            162  218.099585  \n",
       "SEA 46-1954                295            206  266.815287  \n",
       "SEA 46-1955                638            349  547.515492  \n",
       "SEA 46-1957                551            372  488.759714  \n",
       "SEA 46-1959                733            470  663.640300  \n",
       "SEA 46-1961                266            173  247.548389  \n",
       "SEA 46-1962                316            196  287.058573  \n",
       "SEA 46-1963                246            133  212.574493  \n",
       "SEA 46-1964                575            266  483.834253  \n",
       "SEA 46-1965                315            198  293.876471  \n",
       "SEA 46-1966                308            186  276.440986  \n",
       "SEA 46-1967                488            327  428.369881  \n",
       "SEA 46-1968                329            178  269.649737  \n",
       "SEA 46-1969                306            178  276.842528  \n",
       "SEA 46-1970                258            156  224.686865  \n",
       "SEA 46-1971                362            259  319.810137  \n",
       "SEA 46-1974                440            265  402.747604  \n",
       "SEA 46-1977                303            201  266.879138  \n",
       "SEA 46-1978                501            341  449.740108  \n",
       "SEA 46-1980                383            234  344.098526  \n",
       "SEA 46-2056                357            242  326.632780  \n",
       "SEA 46-2057                444            296  411.569277  \n",
       "SEA 46-2090                499            235  403.035126  \n",
       "SEA 46-2091                450            254  396.820707  \n",
       "SEA 46-2092                320            228  301.434599  \n",
       "SEA 46-2093                482            345  434.958180  \n",
       "SEA 46-2094                296            174  263.924617  \n",
       "SEA 46-2095                309            210  280.976134  \n",
       "SEA 46-2096                236            159  213.760900  \n",
       "SEA 46-2097                402            276  360.617647  \n",
       "SEA 46-2098                495            314  439.838710  \n",
       "SEA 46-2099                449            301  412.897736  \n",
       "SEA 46-2100                407            265  370.380463  \n",
       "SEA 46-2231                775            459  688.597124  \n",
       "SEA 46-2234                292            173  268.881851  \n",
       "SEA 46-2236                416            271  378.857143  \n",
       "SEA 46-2240                469            301  423.632348  \n",
       "SEA 46-2243                521            334  465.005167  \n",
       "SEA 46-2244                286            203  265.664897  \n",
       "SEA 46-2245                430            318  400.562347  \n",
       "SEA 46-2247                625            407  574.028462  \n",
       "SEA 46-2249                256            179  231.989432  \n",
       "SEA 46-2251                555            344  475.480542  \n",
       "SEA 46-2252                288            198  261.850746  \n",
       "SEA 46-2253                539            328  474.140804  \n",
       "SEA 46-2257                499            293  452.608367  \n",
       "SEA 46-2260                765            538  696.431081  \n",
       "SEA 46-2261                290            177  267.951031  \n",
       "SEA 46-2263                620            421  563.296463  \n",
       "SEA 46-2264                815            469    0.000000  \n",
       "SEA 46-2266                522            324  455.977178  \n",
       "SEA 46-2267                660            279  559.435933  \n",
       "SEA 46-2270                297            205  271.367126  \n",
       "SEA 46-2272                368            262  336.864086  \n",
       "SEA 46-2274                283            196  257.750929  \n",
       "SEA 46-2276                389            241  336.387997  \n",
       "SEA 46-2277                581            388  518.289965  \n",
       "SEA 46-2280                670            440  599.720241  \n",
       "SEA 46-2375                319            222  289.627409  \n",
       "SEA 46-2377                584            381  521.141665  \n",
       "SEA 46-3687                236            134  207.863428  \n",
       "SEA 46-3688                 23             16   20.161563  \n",
       "SEA 46-3798                374            274  335.408621  "
      ],
      "text/html": "<div>\n<style scoped>\n    .dataframe tbody tr th:only-of-type {\n        vertical-align: middle;\n    }\n\n    .dataframe tbody tr th {\n        vertical-align: top;\n    }\n\n    .dataframe thead th {\n        text-align: right;\n    }\n</style>\n<table border=\"1\" class=\"dataframe\">\n  <thead>\n    <tr style=\"text-align: right;\">\n      <th></th>\n      <th>Shaun Scott</th>\n      <th>Alex Pedersen</th>\n      <th>scott</th>\n      <th>pedersen</th>\n      <th>Registered Voters</th>\n      <th>Times Counted</th>\n      <th>to</th>\n    </tr>\n    <tr>\n      <th>precinct</th>\n      <th></th>\n      <th></th>\n      <th></th>\n      <th></th>\n      <th></th>\n      <th></th>\n      <th></th>\n    </tr>\n  </thead>\n  <tbody>\n    <tr>\n      <th>SEA 43-1271</th>\n      <td>145</td>\n      <td>78</td>\n      <td>341.890706</td>\n      <td>183.913621</td>\n      <td>640</td>\n      <td>237</td>\n      <td>558.814464</td>\n    </tr>\n    <tr>\n      <th>SEA 43-1279</th>\n      <td>270</td>\n      <td>156</td>\n      <td>408.845773</td>\n      <td>236.222002</td>\n      <td>765</td>\n      <td>443</td>\n      <td>670.809917</td>\n    </tr>\n    <tr>\n      <th>SEA 43-1357</th>\n      <td>119</td>\n      <td>91</td>\n      <td>0.000000</td>\n      <td>0.000000</td>\n      <td>344</td>\n      <td>217</td>\n      <td>0.000000</td>\n    </tr>\n    <tr>\n      <th>SEA 43-1358</th>\n      <td>133</td>\n      <td>108</td>\n      <td>227.640778</td>\n      <td>184.851158</td>\n      <td>486</td>\n      <td>249</td>\n      <td>426.184615</td>\n    </tr>\n    <tr>\n      <th>SEA 43-1359</th>\n      <td>194</td>\n      <td>83</td>\n      <td>356.120497</td>\n      <td>152.360831</td>\n      <td>601</td>\n      <td>291</td>\n      <td>534.180745</td>\n    </tr>\n    <tr>\n      <th>SEA 43-1360</th>\n      <td>277</td>\n      <td>212</td>\n      <td>411.964521</td>\n      <td>315.294146</td>\n      <td>859</td>\n      <td>508</td>\n      <td>755.516161</td>\n    </tr>\n    <tr>\n      <th>SEA 43-1361</th>\n      <td>141</td>\n      <td>56</td>\n      <td>213.603857</td>\n      <td>84.835574</td>\n      <td>354</td>\n      <td>203</td>\n      <td>307.528958</td>\n    </tr>\n    <tr>\n      <th>SEA 43-1362</th>\n      <td>202</td>\n      <td>115</td>\n      <td>401.386500</td>\n      <td>228.512117</td>\n      <td>764</td>\n      <td>337</td>\n      <td>669.639855</td>\n    </tr>\n    <tr>\n      <th>SEA 43-1363</th>\n      <td>104</td>\n      <td>67</td>\n      <td>193.028956</td>\n      <td>124.355193</td>\n      <td>403</td>\n      <td>185</td>\n      <td>343.368816</td>\n    </tr>\n    <tr>\n      <th>SEA 43-1364</th>\n      <td>196</td>\n      <td>131</td>\n      <td>309.772420</td>\n      <td>207.041770</td>\n      <td>597</td>\n      <td>341</td>\n      <td>538.940792</td>\n    </tr>\n    <tr>\n      <th>SEA 43-1365</th>\n      <td>197</td>\n      <td>129</td>\n      <td>315.919626</td>\n      <td>206.871227</td>\n      <td>618</td>\n      <td>339</td>\n      <td>543.638341</td>\n    </tr>\n    <tr>\n      <th>SEA 43-1366</th>\n      <td>116</td>\n      <td>84</td>\n      <td>197.523199</td>\n      <td>143.034041</td>\n      <td>400</td>\n      <td>207</td>\n      <td>352.476743</td>\n    </tr>\n    <tr>\n      <th>SEA 43-1367</th>\n      <td>126</td>\n      <td>117</td>\n      <td>177.249375</td>\n      <td>164.588705</td>\n      <td>386</td>\n      <td>249</td>\n      <td>350.278527</td>\n    </tr>\n    <tr>\n      <th>SEA 43-1368</th>\n      <td>118</td>\n      <td>84</td>\n      <td>175.601028</td>\n      <td>125.004122</td>\n      <td>344</td>\n      <td>214</td>\n      <td>318.462882</td>\n    </tr>\n    <tr>\n      <th>SEA 43-1369</th>\n      <td>96</td>\n      <td>92</td>\n      <td>137.936508</td>\n      <td>132.189153</td>\n      <td>316</td>\n      <td>192</td>\n      <td>275.873016</td>\n    </tr>\n    <tr>\n      <th>SEA 43-1370</th>\n      <td>120</td>\n      <td>99</td>\n      <td>165.519477</td>\n      <td>136.553569</td>\n      <td>333</td>\n      <td>223</td>\n      <td>307.590361</td>\n    </tr>\n    <tr>\n      <th>SEA 43-1371</th>\n      <td>119</td>\n      <td>60</td>\n      <td>182.540266</td>\n      <td>92.037109</td>\n      <td>326</td>\n      <td>187</td>\n      <td>286.848989</td>\n    </tr>\n    <tr>\n      <th>SEA 43-1372</th>\n      <td>126</td>\n      <td>89</td>\n      <td>179.191087</td>\n      <td>126.571482</td>\n      <td>350</td>\n      <td>220</td>\n      <td>312.873326</td>\n    </tr>\n    <tr>\n      <th>SEA 43-1373</th>\n      <td>107</td>\n      <td>133</td>\n      <td>139.806323</td>\n      <td>173.777952</td>\n      <td>355</td>\n      <td>244</td>\n      <td>318.810680</td>\n    </tr>\n    <tr>\n      <th>SEA 43-1374</th>\n      <td>111</td>\n      <td>104</td>\n      <td>150.719030</td>\n      <td>141.214226</td>\n      <td>327</td>\n      <td>219</td>\n      <td>297.364573</td>\n    </tr>\n    <tr>\n      <th>SEA 43-1375</th>\n      <td>139</td>\n      <td>102</td>\n      <td>186.261729</td>\n      <td>136.681268</td>\n      <td>354</td>\n      <td>249</td>\n      <td>333.663096</td>\n    </tr>\n    <tr>\n      <th>SEA 43-1376</th>\n      <td>235</td>\n      <td>152</td>\n      <td>403.513963</td>\n      <td>260.996265</td>\n      <td>780</td>\n      <td>410</td>\n      <td>704.003084</td>\n    </tr>\n    <tr>\n      <th>SEA 43-1377</th>\n      <td>114</td>\n      <td>100</td>\n      <td>166.471723</td>\n      <td>146.027827</td>\n      <td>360</td>\n      <td>222</td>\n      <td>324.181776</td>\n    </tr>\n    <tr>\n      <th>SEA 43-1378</th>\n      <td>113</td>\n      <td>93</td>\n      <td>156.524818</td>\n      <td>128.821310</td>\n      <td>321</td>\n      <td>209</td>\n      <td>289.501654</td>\n    </tr>\n    <tr>\n      <th>SEA 43-1379</th>\n      <td>77</td>\n      <td>104</td>\n      <td>106.807089</td>\n      <td>144.258925</td>\n      <td>283</td>\n      <td>184</td>\n      <td>255.227329</td>\n    </tr>\n    <tr>\n      <th>SEA 43-1380</th>\n      <td>106</td>\n      <td>93</td>\n      <td>138.011242</td>\n      <td>121.085335</td>\n      <td>299</td>\n      <td>206</td>\n      <td>268.210526</td>\n    </tr>\n    <tr>\n      <th>SEA 43-1975</th>\n      <td>43</td>\n      <td>18</td>\n      <td>113.853435</td>\n      <td>47.659577</td>\n      <td>386</td>\n      <td>67</td>\n      <td>177.399538</td>\n    </tr>\n    <tr>\n      <th>SEA 43-1976</th>\n      <td>45</td>\n      <td>9</td>\n      <td>190.140324</td>\n      <td>38.028065</td>\n      <td>323</td>\n      <td>60</td>\n      <td>253.520432</td>\n    </tr>\n    <tr>\n      <th>SEA 43-1982</th>\n      <td>154</td>\n      <td>121</td>\n      <td>284.677771</td>\n      <td>223.675391</td>\n      <td>628</td>\n      <td>291</td>\n      <td>537.930073</td>\n    </tr>\n    <tr>\n      <th>SEA 43-2000</th>\n      <td>162</td>\n      <td>125</td>\n      <td>317.579358</td>\n      <td>245.045801</td>\n      <td>655</td>\n      <td>298</td>\n      <td>584.189189</td>\n    </tr>\n    <tr>\n      <th>SEA 43-2001</th>\n      <td>152</td>\n      <td>213</td>\n      <td>230.858500</td>\n      <td>323.505661</td>\n      <td>647</td>\n      <td>391</td>\n      <td>593.853116</td>\n    </tr>\n    <tr>\n      <th>SEA 43-2002</th>\n      <td>202</td>\n      <td>189</td>\n      <td>332.504425</td>\n      <td>311.105625</td>\n      <td>734</td>\n      <td>405</td>\n      <td>666.654911</td>\n    </tr>\n    <tr>\n      <th>SEA 43-2004</th>\n      <td>122</td>\n      <td>84</td>\n      <td>198.965496</td>\n      <td>136.992637</td>\n      <td>397</td>\n      <td>211</td>\n      <td>344.112457</td>\n    </tr>\n    <tr>\n      <th>SEA 43-2023</th>\n      <td>154</td>\n      <td>107</td>\n      <td>230.861091</td>\n      <td>160.403485</td>\n      <td>448</td>\n      <td>267</td>\n      <td>400.259165</td>\n    </tr>\n    <tr>\n      <th>SEA 43-2024</th>\n      <td>133</td>\n      <td>62</td>\n      <td>196.366220</td>\n      <td>91.539140</td>\n      <td>341</td>\n      <td>198</td>\n      <td>292.334673</td>\n    </tr>\n    <tr>\n      <th>SEA 43-2035</th>\n      <td>159</td>\n      <td>129</td>\n      <td>330.346466</td>\n      <td>268.016944</td>\n      <td>747</td>\n      <td>308</td>\n      <td>639.916424</td>\n    </tr>\n    <tr>\n      <th>SEA 43-2043</th>\n      <td>141</td>\n      <td>58</td>\n      <td>197.157731</td>\n      <td>81.100343</td>\n      <td>319</td>\n      <td>205</td>\n      <td>286.647764</td>\n    </tr>\n    <tr>\n      <th>SEA 43-2044</th>\n      <td>103</td>\n      <td>86</td>\n      <td>161.815913</td>\n      <td>135.108432</td>\n      <td>368</td>\n      <td>195</td>\n      <td>306.350515</td>\n    </tr>\n    <tr>\n      <th>SEA 43-2045</th>\n      <td>111</td>\n      <td>87</td>\n      <td>173.114122</td>\n      <td>135.684041</td>\n      <td>360</td>\n      <td>201</td>\n      <td>313.476923</td>\n    </tr>\n    <tr>\n      <th>SEA 43-2048</th>\n      <td>137</td>\n      <td>58</td>\n      <td>220.878506</td>\n      <td>93.510608</td>\n      <td>384</td>\n      <td>203</td>\n      <td>327.287129</td>\n    </tr>\n    <tr>\n      <th>SEA 43-2049</th>\n      <td>160</td>\n      <td>58</td>\n      <td>288.129888</td>\n      <td>104.447084</td>\n      <td>535</td>\n      <td>224</td>\n      <td>403.381843</td>\n    </tr>\n    <tr>\n      <th>SEA 43-2050</th>\n      <td>116</td>\n      <td>83</td>\n      <td>241.600177</td>\n      <td>172.869092</td>\n      <td>569</td>\n      <td>220</td>\n      <td>458.207232</td>\n    </tr>\n    <tr>\n      <th>SEA 43-2052</th>\n      <td>126</td>\n      <td>34</td>\n      <td>329.134235</td>\n      <td>88.814000</td>\n      <td>605</td>\n      <td>170</td>\n      <td>444.070000</td>\n    </tr>\n    <tr>\n      <th>SEA 43-2055</th>\n      <td>109</td>\n      <td>42</td>\n      <td>239.533967</td>\n      <td>92.297492</td>\n      <td>477</td>\n      <td>163</td>\n      <td>358.202171</td>\n    </tr>\n    <tr>\n      <th>SEA 43-2061</th>\n      <td>130</td>\n      <td>87</td>\n      <td>266.428618</td>\n      <td>178.302229</td>\n      <td>535</td>\n      <td>225</td>\n      <td>461.126453</td>\n    </tr>\n    <tr>\n      <th>SEA 43-2064</th>\n      <td>107</td>\n      <td>38</td>\n      <td>199.152028</td>\n      <td>70.726888</td>\n      <td>378</td>\n      <td>154</td>\n      <td>286.630021</td>\n    </tr>\n    <tr>\n      <th>SEA 43-2065</th>\n      <td>165</td>\n      <td>67</td>\n      <td>368.430733</td>\n      <td>149.605207</td>\n      <td>769</td>\n      <td>256</td>\n      <td>571.625864</td>\n    </tr>\n    <tr>\n      <th>SEA 43-2068</th>\n      <td>147</td>\n      <td>74</td>\n      <td>247.201551</td>\n      <td>124.441597</td>\n      <td>494</td>\n      <td>230</td>\n      <td>386.777937</td>\n    </tr>\n    <tr>\n      <th>SEA 43-2069</th>\n      <td>261</td>\n      <td>201</td>\n      <td>417.789290</td>\n      <td>321.745775</td>\n      <td>881</td>\n      <td>479</td>\n      <td>766.747394</td>\n    </tr>\n    <tr>\n      <th>SEA 43-2071</th>\n      <td>103</td>\n      <td>135</td>\n      <td>129.924069</td>\n      <td>170.288828</td>\n      <td>350</td>\n      <td>250</td>\n      <td>315.349682</td>\n    </tr>\n    <tr>\n      <th>SEA 43-2074</th>\n      <td>170</td>\n      <td>134</td>\n      <td>257.622096</td>\n      <td>203.066829</td>\n      <td>575</td>\n      <td>320</td>\n      <td>484.935710</td>\n    </tr>\n    <tr>\n      <th>SEA 43-2075</th>\n      <td>60</td>\n      <td>67</td>\n      <td>127.373907</td>\n      <td>142.234196</td>\n      <td>417</td>\n      <td>136</td>\n      <td>288.714188</td>\n    </tr>\n    <tr>\n      <th>SEA 43-2076</th>\n      <td>48</td>\n      <td>57</td>\n      <td>116.215027</td>\n      <td>138.005345</td>\n      <td>397</td>\n      <td>115</td>\n      <td>278.431836</td>\n    </tr>\n    <tr>\n      <th>SEA 43-2081</th>\n      <td>27</td>\n      <td>23</td>\n      <td>84.517206</td>\n      <td>71.996139</td>\n      <td>365</td>\n      <td>55</td>\n      <td>172.164680</td>\n    </tr>\n    <tr>\n      <th>SEA 43-2083</th>\n      <td>121</td>\n      <td>83</td>\n      <td>190.732211</td>\n      <td>130.832839</td>\n      <td>420</td>\n      <td>212</td>\n      <td>334.175445</td>\n    </tr>\n    <tr>\n      <th>SEA 43-2084</th>\n      <td>219</td>\n      <td>225</td>\n      <td>294.402306</td>\n      <td>302.468122</td>\n      <td>701</td>\n      <td>461</td>\n      <td>619.723575</td>\n    </tr>\n    <tr>\n      <th>SEA 43-2088</th>\n      <td>153</td>\n      <td>133</td>\n      <td>302.219758</td>\n      <td>262.713907</td>\n      <td>754</td>\n      <td>312</td>\n      <td>616.291271</td>\n    </tr>\n    <tr>\n      <th>SEA 43-2089</th>\n      <td>36</td>\n      <td>17</td>\n      <td>125.989906</td>\n      <td>59.495233</td>\n      <td>339</td>\n      <td>58</td>\n      <td>202.983737</td>\n    </tr>\n    <tr>\n      <th>SEA 43-2109</th>\n      <td>138</td>\n      <td>49</td>\n      <td>327.422934</td>\n      <td>116.258868</td>\n      <td>580</td>\n      <td>198</td>\n      <td>469.780731</td>\n    </tr>\n    <tr>\n      <th>SEA 43-2110</th>\n      <td>138</td>\n      <td>47</td>\n      <td>292.665923</td>\n      <td>99.676075</td>\n      <td>551</td>\n      <td>197</td>\n      <td>417.791209</td>\n    </tr>\n    <tr>\n      <th>SEA 43-2113</th>\n      <td>85</td>\n      <td>43</td>\n      <td>242.203156</td>\n      <td>122.526303</td>\n      <td>525</td>\n      <td>144</td>\n      <td>410.320641</td>\n    </tr>\n    <tr>\n      <th>SEA 43-2115</th>\n      <td>87</td>\n      <td>19</td>\n      <td>267.740919</td>\n      <td>58.472155</td>\n      <td>493</td>\n      <td>124</td>\n      <td>381.607747</td>\n    </tr>\n    <tr>\n      <th>SEA 43-2237</th>\n      <td>206</td>\n      <td>162</td>\n      <td>284.069339</td>\n      <td>223.394334</td>\n      <td>616</td>\n      <td>392</td>\n      <td>540.559130</td>\n    </tr>\n    <tr>\n      <th>SEA 43-2238</th>\n      <td>289</td>\n      <td>261</td>\n      <td>397.115841</td>\n      <td>358.640950</td>\n      <td>867</td>\n      <td>569</td>\n      <td>781.864752</td>\n    </tr>\n    <tr>\n      <th>SEA 43-2239</th>\n      <td>200</td>\n      <td>182</td>\n      <td>272.014394</td>\n      <td>247.533099</td>\n      <td>594</td>\n      <td>395</td>\n      <td>537.228428</td>\n    </tr>\n    <tr>\n      <th>SEA 43-2987</th>\n      <td>48</td>\n      <td>23</td>\n      <td>153.721384</td>\n      <td>73.658163</td>\n      <td>534</td>\n      <td>77</td>\n      <td>246.594720</td>\n    </tr>\n    <tr>\n      <th>SEA 43-3748</th>\n      <td>197</td>\n      <td>87</td>\n      <td>367.936674</td>\n      <td>162.489800</td>\n      <td>662</td>\n      <td>302</td>\n      <td>564.045053</td>\n    </tr>\n    <tr>\n      <th>SEA 43-3787</th>\n      <td>79</td>\n      <td>51</td>\n      <td>122.922077</td>\n      <td>79.354759</td>\n      <td>239</td>\n      <td>135</td>\n      <td>210.056714</td>\n    </tr>\n    <tr>\n      <th>SEA 43-3805</th>\n      <td>104</td>\n      <td>68</td>\n      <td>207.611479</td>\n      <td>135.745967</td>\n      <td>409</td>\n      <td>178</td>\n      <td>355.335032</td>\n    </tr>\n    <tr>\n      <th>SEA 46-1952</th>\n      <td>45</td>\n      <td>147</td>\n      <td>56.638585</td>\n      <td>185.019379</td>\n      <td>282</td>\n      <td>202</td>\n      <td>254.244317</td>\n    </tr>\n    <tr>\n      <th>SEA 46-1953</th>\n      <td>46</td>\n      <td>109</td>\n      <td>61.929512</td>\n      <td>146.746017</td>\n      <td>246</td>\n      <td>162</td>\n      <td>218.099585</td>\n    </tr>\n    <tr>\n      <th>SEA 46-1954</th>\n      <td>49</td>\n      <td>148</td>\n      <td>63.465772</td>\n      <td>191.692536</td>\n      <td>295</td>\n      <td>206</td>\n      <td>266.815287</td>\n    </tr>\n    <tr>\n      <th>SEA 46-1955</th>\n      <td>220</td>\n      <td>113</td>\n      <td>345.138706</td>\n      <td>177.275790</td>\n      <td>638</td>\n      <td>349</td>\n      <td>547.515492</td>\n    </tr>\n    <tr>\n      <th>SEA 46-1957</th>\n      <td>58</td>\n      <td>298</td>\n      <td>76.204472</td>\n      <td>391.533319</td>\n      <td>551</td>\n      <td>372</td>\n      <td>488.759714</td>\n    </tr>\n    <tr>\n      <th>SEA 46-1959</th>\n      <td>117</td>\n      <td>337</td>\n      <td>165.204075</td>\n      <td>475.844215</td>\n      <td>733</td>\n      <td>470</td>\n      <td>663.640300</td>\n    </tr>\n    <tr>\n      <th>SEA 46-1961</th>\n      <td>52</td>\n      <td>112</td>\n      <td>74.407608</td>\n      <td>160.262541</td>\n      <td>266</td>\n      <td>173</td>\n      <td>247.548389</td>\n    </tr>\n    <tr>\n      <th>SEA 46-1962</th>\n      <td>55</td>\n      <td>136</td>\n      <td>80.552151</td>\n      <td>199.183500</td>\n      <td>316</td>\n      <td>196</td>\n      <td>287.058573</td>\n    </tr>\n    <tr>\n      <th>SEA 46-1963</th>\n      <td>49</td>\n      <td>81</td>\n      <td>78.316919</td>\n      <td>129.462661</td>\n      <td>246</td>\n      <td>133</td>\n      <td>212.574493</td>\n    </tr>\n    <tr>\n      <th>SEA 46-1964</th>\n      <td>124</td>\n      <td>128</td>\n      <td>225.546795</td>\n      <td>232.822498</td>\n      <td>575</td>\n      <td>266</td>\n      <td>483.834253</td>\n    </tr>\n    <tr>\n      <th>SEA 46-1965</th>\n      <td>82</td>\n      <td>106</td>\n      <td>121.706417</td>\n      <td>157.327807</td>\n      <td>315</td>\n      <td>198</td>\n      <td>293.876471</td>\n    </tr>\n    <tr>\n      <th>SEA 46-1966</th>\n      <td>95</td>\n      <td>84</td>\n      <td>141.192977</td>\n      <td>124.844316</td>\n      <td>308</td>\n      <td>186</td>\n      <td>276.440986</td>\n    </tr>\n    <tr>\n      <th>SEA 46-1967</th>\n      <td>162</td>\n      <td>152</td>\n      <td>212.219941</td>\n      <td>199.119945</td>\n      <td>488</td>\n      <td>327</td>\n      <td>428.369881</td>\n    </tr>\n    <tr>\n      <th>SEA 46-1968</th>\n      <td>73</td>\n      <td>98</td>\n      <td>110.586690</td>\n      <td>148.458844</td>\n      <td>329</td>\n      <td>178</td>\n      <td>269.649737</td>\n    </tr>\n    <tr>\n      <th>SEA 46-1969</th>\n      <td>50</td>\n      <td>117</td>\n      <td>77.764755</td>\n      <td>181.969527</td>\n      <td>306</td>\n      <td>178</td>\n      <td>276.842528</td>\n    </tr>\n    <tr>\n      <th>SEA 46-1970</th>\n      <td>36</td>\n      <td>114</td>\n      <td>51.850815</td>\n      <td>164.194247</td>\n      <td>258</td>\n      <td>156</td>\n      <td>224.686865</td>\n    </tr>\n    <tr>\n      <th>SEA 46-1971</th>\n      <td>30</td>\n      <td>221</td>\n      <td>37.043645</td>\n      <td>272.888186</td>\n      <td>362</td>\n      <td>259</td>\n      <td>319.810137</td>\n    </tr>\n    <tr>\n      <th>SEA 46-1974</th>\n      <td>46</td>\n      <td>212</td>\n      <td>69.910905</td>\n      <td>322.198083</td>\n      <td>440</td>\n      <td>265</td>\n      <td>402.747604</td>\n    </tr>\n    <tr>\n      <th>SEA 46-1977</th>\n      <td>26</td>\n      <td>172</td>\n      <td>34.521680</td>\n      <td>228.374188</td>\n      <td>303</td>\n      <td>201</td>\n      <td>266.879138</td>\n    </tr>\n    <tr>\n      <th>SEA 46-1978</th>\n      <td>51</td>\n      <td>285</td>\n      <td>67.263183</td>\n      <td>375.882495</td>\n      <td>501</td>\n      <td>341</td>\n      <td>449.740108</td>\n    </tr>\n    <tr>\n      <th>SEA 46-1980</th>\n      <td>32</td>\n      <td>193</td>\n      <td>47.056209</td>\n      <td>283.807759</td>\n      <td>383</td>\n      <td>234</td>\n      <td>344.098526</td>\n    </tr>\n    <tr>\n      <th>SEA 46-2056</th>\n      <td>79</td>\n      <td>153</td>\n      <td>106.628056</td>\n      <td>206.507501</td>\n      <td>357</td>\n      <td>242</td>\n      <td>326.632780</td>\n    </tr>\n    <tr>\n      <th>SEA 46-2057</th>\n      <td>37</td>\n      <td>251</td>\n      <td>51.446160</td>\n      <td>348.999623</td>\n      <td>444</td>\n      <td>296</td>\n      <td>411.569277</td>\n    </tr>\n    <tr>\n      <th>SEA 46-2090</th>\n      <td>116</td>\n      <td>107</td>\n      <td>198.944998</td>\n      <td>183.509611</td>\n      <td>499</td>\n      <td>235</td>\n      <td>403.035126</td>\n    </tr>\n    <tr>\n      <th>SEA 46-2091</th>\n      <td>121</td>\n      <td>119</td>\n      <td>189.036636</td>\n      <td>185.912064</td>\n      <td>450</td>\n      <td>254</td>\n      <td>396.820707</td>\n    </tr>\n    <tr>\n      <th>SEA 46-2092</th>\n      <td>107</td>\n      <td>118</td>\n      <td>141.462729</td>\n      <td>156.005626</td>\n      <td>320</td>\n      <td>228</td>\n      <td>301.434599</td>\n    </tr>\n    <tr>\n      <th>SEA 46-2093</th>\n      <td>201</td>\n      <td>131</td>\n      <td>253.410418</td>\n      <td>165.158034</td>\n      <td>482</td>\n      <td>345</td>\n      <td>434.958180</td>\n    </tr>\n    <tr>\n      <th>SEA 46-2094</th>\n      <td>73</td>\n      <td>94</td>\n      <td>110.726995</td>\n      <td>142.579966</td>\n      <td>296</td>\n      <td>174</td>\n      <td>263.924617</td>\n    </tr>\n    <tr>\n      <th>SEA 46-2095</th>\n      <td>97</td>\n      <td>106</td>\n      <td>129.784214</td>\n      <td>141.826048</td>\n      <td>309</td>\n      <td>210</td>\n      <td>280.976134</td>\n    </tr>\n    <tr>\n      <th>SEA 46-2096</th>\n      <td>50</td>\n      <td>100</td>\n      <td>67.220409</td>\n      <td>134.440818</td>\n      <td>236</td>\n      <td>159</td>\n      <td>213.760900</td>\n    </tr>\n    <tr>\n      <th>SEA 46-2097</th>\n      <td>119</td>\n      <td>149</td>\n      <td>155.483696</td>\n      <td>194.681266</td>\n      <td>402</td>\n      <td>276</td>\n      <td>360.617647</td>\n    </tr>\n    <tr>\n      <th>SEA 46-2098</th>\n      <td>114</td>\n      <td>185</td>\n      <td>159.686665</td>\n      <td>259.140641</td>\n      <td>495</td>\n      <td>314</td>\n      <td>439.838710</td>\n    </tr>\n    <tr>\n      <th>SEA 46-2099</th>\n      <td>118</td>\n      <td>169</td>\n      <td>161.866887</td>\n      <td>231.826304</td>\n      <td>449</td>\n      <td>301</td>\n      <td>412.897736</td>\n    </tr>\n    <tr>\n      <th>SEA 46-2100</th>\n      <td>121</td>\n      <td>133</td>\n      <td>169.117117</td>\n      <td>185.889062</td>\n      <td>407</td>\n      <td>265</td>\n      <td>370.380463</td>\n    </tr>\n    <tr>\n      <th>SEA 46-2231</th>\n      <td>197</td>\n      <td>239</td>\n      <td>295.541685</td>\n      <td>358.550572</td>\n      <td>775</td>\n      <td>459</td>\n      <td>688.597124</td>\n    </tr>\n    <tr>\n      <th>SEA 46-2234</th>\n      <td>66</td>\n      <td>99</td>\n      <td>102.579203</td>\n      <td>153.868805</td>\n      <td>292</td>\n      <td>173</td>\n      <td>268.881851</td>\n    </tr>\n    <tr>\n      <th>SEA 46-2236</th>\n      <td>134</td>\n      <td>128</td>\n      <td>187.331576</td>\n      <td>178.943595</td>\n      <td>416</td>\n      <td>271</td>\n      <td>378.857143</td>\n    </tr>\n    <tr>\n      <th>SEA 46-2240</th>\n      <td>127</td>\n      <td>167</td>\n      <td>178.741887</td>\n      <td>235.038545</td>\n      <td>469</td>\n      <td>301</td>\n      <td>423.632348</td>\n    </tr>\n    <tr>\n      <th>SEA 46-2243</th>\n      <td>107</td>\n      <td>218</td>\n      <td>148.968721</td>\n      <td>303.506366</td>\n      <td>521</td>\n      <td>334</td>\n      <td>465.005167</td>\n    </tr>\n    <tr>\n      <th>SEA 46-2244</th>\n      <td>49</td>\n      <td>152</td>\n      <td>64.126010</td>\n      <td>198.921499</td>\n      <td>286</td>\n      <td>203</td>\n      <td>265.664897</td>\n    </tr>\n    <tr>\n      <th>SEA 46-2245</th>\n      <td>73</td>\n      <td>230</td>\n      <td>91.952992</td>\n      <td>289.714905</td>\n      <td>430</td>\n      <td>318</td>\n      <td>400.562347</td>\n    </tr>\n    <tr>\n      <th>SEA 46-2247</th>\n      <td>111</td>\n      <td>278</td>\n      <td>156.553217</td>\n      <td>392.088237</td>\n      <td>625</td>\n      <td>407</td>\n      <td>574.028462</td>\n    </tr>\n    <tr>\n      <th>SEA 46-2249</th>\n      <td>40</td>\n      <td>133</td>\n      <td>51.841214</td>\n      <td>172.372036</td>\n      <td>256</td>\n      <td>179</td>\n      <td>231.989432</td>\n    </tr>\n    <tr>\n      <th>SEA 46-2251</th>\n      <td>135</td>\n      <td>196</td>\n      <td>186.598469</td>\n      <td>270.913332</td>\n      <td>555</td>\n      <td>344</td>\n      <td>475.480542</td>\n    </tr>\n    <tr>\n      <th>SEA 46-2252</th>\n      <td>84</td>\n      <td>108</td>\n      <td>111.088195</td>\n      <td>142.827680</td>\n      <td>288</td>\n      <td>198</td>\n      <td>261.850746</td>\n    </tr>\n    <tr>\n      <th>SEA 46-2253</th>\n      <td>142</td>\n      <td>176</td>\n      <td>205.268275</td>\n      <td>254.417017</td>\n      <td>539</td>\n      <td>328</td>\n      <td>474.140804</td>\n    </tr>\n    <tr>\n      <th>SEA 46-2257</th>\n      <td>129</td>\n      <td>152</td>\n      <td>199.271261</td>\n      <td>234.800245</td>\n      <td>499</td>\n      <td>293</td>\n      <td>452.608367</td>\n    </tr>\n    <tr>\n      <th>SEA 46-2260</th>\n      <td>238</td>\n      <td>278</td>\n      <td>308.086612</td>\n      <td>359.865874</td>\n      <td>765</td>\n      <td>538</td>\n      <td>696.431081</td>\n    </tr>\n    <tr>\n      <th>SEA 46-2261</th>\n      <td>64</td>\n      <td>105</td>\n      <td>96.886248</td>\n      <td>158.954001</td>\n      <td>290</td>\n      <td>177</td>\n      <td>267.951031</td>\n    </tr>\n    <tr>\n      <th>SEA 46-2263</th>\n      <td>156</td>\n      <td>256</td>\n      <td>208.727431</td>\n      <td>342.527065</td>\n      <td>620</td>\n      <td>421</td>\n      <td>563.296463</td>\n    </tr>\n    <tr>\n      <th>SEA 46-2264</th>\n      <td>228</td>\n      <td>227</td>\n      <td>0.000000</td>\n      <td>0.000000</td>\n      <td>815</td>\n      <td>469</td>\n      <td>0.000000</td>\n    </tr>\n    <tr>\n      <th>SEA 46-2266</th>\n      <td>25</td>\n      <td>283</td>\n      <td>35.183424</td>\n      <td>398.276362</td>\n      <td>522</td>\n      <td>324</td>\n      <td>455.977178</td>\n    </tr>\n    <tr>\n      <th>SEA 46-2267</th>\n      <td>131</td>\n      <td>134</td>\n      <td>262.674219</td>\n      <td>268.689660</td>\n      <td>660</td>\n      <td>279</td>\n      <td>559.435933</td>\n    </tr>\n    <tr>\n      <th>SEA 46-2270</th>\n      <td>65</td>\n      <td>126</td>\n      <td>86.043235</td>\n      <td>166.791502</td>\n      <td>297</td>\n      <td>205</td>\n      <td>271.367126</td>\n    </tr>\n    <tr>\n      <th>SEA 46-2272</th>\n      <td>74</td>\n      <td>181</td>\n      <td>95.144818</td>\n      <td>232.719083</td>\n      <td>368</td>\n      <td>262</td>\n      <td>336.864086</td>\n    </tr>\n    <tr>\n      <th>SEA 46-2274</th>\n      <td>72</td>\n      <td>109</td>\n      <td>94.684015</td>\n      <td>143.341078</td>\n      <td>283</td>\n      <td>196</td>\n      <td>257.750929</td>\n    </tr>\n    <tr>\n      <th>SEA 46-2276</th>\n      <td>103</td>\n      <td>127</td>\n      <td>143.767484</td>\n      <td>177.266704</td>\n      <td>389</td>\n      <td>241</td>\n      <td>336.387997</td>\n    </tr>\n    <tr>\n      <th>SEA 46-2277</th>\n      <td>190</td>\n      <td>181</td>\n      <td>253.801787</td>\n      <td>241.779597</td>\n      <td>581</td>\n      <td>388</td>\n      <td>518.289965</td>\n    </tr>\n    <tr>\n      <th>SEA 46-2280</th>\n      <td>198</td>\n      <td>224</td>\n      <td>269.874109</td>\n      <td>305.312123</td>\n      <td>670</td>\n      <td>440</td>\n      <td>599.720241</td>\n    </tr>\n    <tr>\n      <th>SEA 46-2375</th>\n      <td>76</td>\n      <td>134</td>\n      <td>99.151726</td>\n      <td>174.820148</td>\n      <td>319</td>\n      <td>222</td>\n      <td>289.627409</td>\n    </tr>\n    <tr>\n      <th>SEA 46-2377</th>\n      <td>102</td>\n      <td>258</td>\n      <td>139.518241</td>\n      <td>352.899080</td>\n      <td>584</td>\n      <td>381</td>\n      <td>521.141665</td>\n    </tr>\n    <tr>\n      <th>SEA 46-3687</th>\n      <td>29</td>\n      <td>100</td>\n      <td>44.985369</td>\n      <td>155.121961</td>\n      <td>236</td>\n      <td>134</td>\n      <td>207.863428</td>\n    </tr>\n    <tr>\n      <th>SEA 46-3688</th>\n      <td>9</td>\n      <td>7</td>\n      <td>11.340879</td>\n      <td>8.820684</td>\n      <td>23</td>\n      <td>16</td>\n      <td>20.161563</td>\n    </tr>\n    <tr>\n      <th>SEA 46-3798</th>\n      <td>115</td>\n      <td>142</td>\n      <td>140.773691</td>\n      <td>173.824906</td>\n      <td>374</td>\n      <td>274</td>\n      <td>335.408621</td>\n    </tr>\n  </tbody>\n</table>\n</div>"
     },
     "metadata": {},
     "execution_count": 128
    }
   ],
   "source": [
    "whatif.m"
   ]
  },
  {
   "cell_type": "code",
   "execution_count": null,
   "metadata": {},
   "outputs": [],
   "source": []
  }
 ]
}